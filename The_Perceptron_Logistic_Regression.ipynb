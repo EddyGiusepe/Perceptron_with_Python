{
  "nbformat": 4,
  "nbformat_minor": 0,
  "metadata": {
    "colab": {
      "name": "The_Perceptron_Logistic_Regression.ipynb",
      "provenance": [],
      "collapsed_sections": [],
      "authorship_tag": "ABX9TyOLmUq+yQXcVcIMgtl/WkAc",
      "include_colab_link": true
    },
    "kernelspec": {
      "name": "python3",
      "display_name": "Python 3"
    },
    "language_info": {
      "name": "python"
    }
  },
  "cells": [
    {
      "cell_type": "markdown",
      "metadata": {
        "id": "view-in-github",
        "colab_type": "text"
      },
      "source": [
        "<a href=\"https://colab.research.google.com/github/EddyGiusepe/Perceptron_with_Python/blob/main/The_Perceptron_Logistic_Regression.ipynb\" target=\"_parent\"><img src=\"https://colab.research.google.com/assets/colab-badge.svg\" alt=\"Open In Colab\"/></a>"
      ]
    },
    {
      "cell_type": "markdown",
      "source": [
        "<h2 align=\"center\">O Perceptron: Regressão Logística</h2>\n",
        "\n",
        "\n",
        "\n",
        "Data Scientist.: Dr.Eddy Giusepe Chirinos Isidro"
      ],
      "metadata": {
        "id": "70TuUkZnA7Pn"
      }
    },
    {
      "cell_type": "markdown",
      "source": [
        "![](https://estatsite.com.br/wp-content/uploads/2018/08/1-3.jpg)"
      ],
      "metadata": {
        "id": "f8LIOMLQOjTF"
      }
    },
    {
      "cell_type": "markdown",
      "source": [
        "# Regressão Logística"
      ],
      "metadata": {
        "id": "tioNp24VF7VW"
      }
    },
    {
      "cell_type": "markdown",
      "source": [
        "No Script anterior aprendimos a utilizar o Perceptron para uma task de `Classificação Binâria`. Para isso usamos uma função de ativação de tipo `Step` (que nos dá uma saída de $0$ ou $1$) e treinamos o Perceptron mediante o algoritmo de `Descenso por Gradiente` utilizando o `Erro quadrático médio` (MSE) como função de perda. No entanto, não sempre estaremos interessados simplesmente em conhecer se um elemento em particular pertence a uma classe ou não, senão também o Grau de confiança com o que nosso modelo fornece cada predição. Para isso precisamos que nosso Perceptron seja capaz de fornecer uma `PROBABILIDADE` à saída. Esta saída será um valor entre $0$ e $1$ (a diferença do modelo anterior em que a saída era $0$ ou $1$)sendo $0$ a absoluta certeza de que o elemento em questão não pertence à classe que nos interessa e $1$ a absoluta certeza de que sim pertence. Um valor intermediário uma baixa segurança por parte do modelo (podemos utilizar está informação para melhorar o algoritmo adicionando mais Dados similares). Um valor de $0.5$ indicará que nosso modelo não tem nem a mais remota ideia de como classificar o elemento utilizado como entrada. "
      ],
      "metadata": {
        "id": "yG6cl-TDGE0k"
      }
    },
    {
      "cell_type": "markdown",
      "source": [
        "# Função de Ativação\n",
        "\n",
        "Aqui, seguiremos trabalhando com o mesmo modelo de `Perceptron`."
      ],
      "metadata": {
        "id": "GhgoEyZINCdO"
      }
    },
    {
      "cell_type": "markdown",
      "source": [
        "![](https://www.researchgate.net/profile/Shibani_Singh2/publication/321141639/figure/fig2/AS:572731935727616@1513561342872/Schematic-of-Rosenblatts-perceptron.png)\n",
        "\n",
        "\n"
      ],
      "metadata": {
        "id": "G4tDm5aSOS8T"
      }
    },
    {
      "cell_type": "markdown",
      "source": [
        "A principal diferença é que neste modelo de `Regressão Logística`, utilizaremos uma função de Ativação conhecida como <font color=\"yellow\">Sigmoid</font>:\n",
        "\n",
        "$$ \\sigma(z) = \\frac{1}{1 + e^{-z}} $$\n",
        "\n",
        "Esta função recebirá uma entrada e entregará uma probabilidade (um valor entre $0$ e $1$)."
      ],
      "metadata": {
        "id": "eV7ElzWsNoVV"
      }
    },
    {
      "cell_type": "code",
      "source": [
        "# Carregamos as nossas bibliotecas\n",
        "\n",
        "import numpy as np\n",
        "import matplotlib.pyplot as plt\n"
      ],
      "metadata": {
        "id": "VRJx-cWFWcIu"
      },
      "execution_count": null,
      "outputs": []
    },
    {
      "cell_type": "code",
      "execution_count": null,
      "metadata": {
        "id": "ZltVBszLA5z_"
      },
      "outputs": [],
      "source": [
        "# Criamos a nossa função\n",
        "\n",
        "def sigmoid(x):\n",
        "  return 1 / (1 + np.exp(-x))"
      ]
    },
    {
      "cell_type": "code",
      "source": [
        "x = np.linspace(-10, 10)\n",
        "y = 1. / (1. + np.exp(-x))\n",
        "\n",
        "plt.plot(x, y)\n",
        "plt.grid(True)\n",
        "plt.xlabel('x', fontsize=14)\n",
        "plt.ylabel('$f(x) = 1/(1 + e^{-x})$', fontsize=14)\n",
        "plt.title('Sigmoid', fontsize=14)\n",
        "plt.plot(x, np.full(len(x), 0.5), '--r')\n",
        "plt.show()\n"
      ],
      "metadata": {
        "colab": {
          "base_uri": "https://localhost:8080/",
          "height": 300
        },
        "id": "-6TnlpctGISx",
        "outputId": "2bee020a-2af6-4ac6-fff4-88541f87ac86"
      },
      "execution_count": null,
      "outputs": [
        {
          "output_type": "display_data",
          "data": {
            "text/plain": [
              "<Figure size 432x288 with 1 Axes>"
            ],
            "image/png": "[encoded data removed]"
          },
          "metadata": {
            "needs_background": "light"
          }
        }
      ]
    },
    {
      "cell_type": "markdown",
      "source": [
        "Como podemos observar, os valores muito negativos saturam a um valor $0$, enquanto que os valores muito positivos saturam a um valor $1$.  "
      ],
      "metadata": {
        "id": "RoKJzH3XXKMU"
      }
    },
    {
      "cell_type": "markdown",
      "source": [
        "# Função de Perda"
      ],
      "metadata": {
        "id": "A0f0yNR7Xtev"
      }
    },
    {
      "cell_type": "markdown",
      "source": [
        "Poderíamos tentar treinar nosso modelo `Regresión logísitca` com a função de perda que já conhecemos, `MSE`, e funcionaria muito bem, pois estamos forçando a saída a receber o valor $0$ ou $1$ baseado no ground truth. No entanto, vamos a introduzir uma nova função de perda muito utilizada quando trabalhamos com modelos probabilísticos já que fornecem como resultado um melhor processo de Optimização. Esta função é conhecida como `Binary Cross Entropy`, ou também com o nome de `Log Loss`:\n",
        "\n",
        "$$ J(\\mathbf{w}) = - \\frac{1}{N} \\sum^{N}_{j=1} \\left[ y^{(j)} log(\\hat{y}^{(j)}) + (1-y^{(j)})log(1-\\hat{y}^{(j)})\\right] $$\n",
        "\n",
        "\n",
        "Como podemos observar, quando o ground seja $0$ só ficará o segundo termo, $log(1-\\hat{y})$. Neste caso, se a saída do modelo é correta e nos dá um valor perto a $0$ obteremos um valor da função de perda pequeno. No entanto, se o modelo errar e dá uma probabilidade alta, o valor da função de perda será muito grande indicando um alto erro (observa o signo negativo ao princípio da experessão, necessário já que o limite quando $x$ tende a $0$ do logaritmo é $- \\infty$ porém necessitamos valores positivos para indicar error). O mesmo se aplica ao caso contrário no que o *ground truth* seja $1$, porém com o primeiro termo.  "
      ],
      "metadata": {
        "id": "aS0dPjlmXwQQ"
      }
    },
    {
      "cell_type": "code",
      "source": [
        "x = np.linspace(0.01, 1)\n",
        "y =  -np.log(x)\n",
        "\n",
        "plt.plot(x, y)\n",
        "plt.grid(True)\n",
        "plt.xlabel('x', fontsize=20, c='r')\n",
        "plt.ylabel('$f(x) = - log(x)$', fontsize=20, c='r')\n",
        "plt.show()"
      ],
      "metadata": {
        "colab": {
          "base_uri": "https://localhost:8080/",
          "height": 288
        },
        "id": "XfmlCfd2GIQY",
        "outputId": "f35543af-7c68-4d38-f5ff-f8006bb1981d"
      },
      "execution_count": null,
      "outputs": [
        {
          "output_type": "display_data",
          "data": {
            "text/plain": [
              "<Figure size 432x288 with 1 Axes>"
            ],
            "image/png": "[encoded data removed]"
          },
          "metadata": {
            "needs_background": "light"
          }
        }
      ]
    },
    {
      "cell_type": "code",
      "source": [
        ""
      ],
      "metadata": {
        "id": "9SkGWhZCGINi"
      },
      "execution_count": null,
      "outputs": []
    },
    {
      "cell_type": "code",
      "source": [
        ""
      ],
      "metadata": {
        "id": "_FzhPQF7GIK5"
      },
      "execution_count": null,
      "outputs": []
    },
    {
      "cell_type": "code",
      "source": [
        ""
      ],
      "metadata": {
        "id": "yNbRyCqlGIHo"
      },
      "execution_count": null,
      "outputs": []
    },
    {
      "cell_type": "code",
      "source": [
        ""
      ],
      "metadata": {
        "id": "k6b9VGebGIEL"
      },
      "execution_count": null,
      "outputs": []
    },
    {
      "cell_type": "code",
      "source": [
        ""
      ],
      "metadata": {
        "id": "YnpGrf7NGHZt"
      },
      "execution_count": null,
      "outputs": []
    }
  ]
}