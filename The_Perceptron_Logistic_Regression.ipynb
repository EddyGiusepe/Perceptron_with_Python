{
  "nbformat": 4,
  "nbformat_minor": 0,
  "metadata": {
    "colab": {
      "name": "The_Perceptron_Logistic_Regression.ipynb",
      "provenance": [],
      "collapsed_sections": [],
      "authorship_tag": "ABX9TyNnGNfhtdTmZ9j6rbVccU7a",
      "include_colab_link": true
    },
    "kernelspec": {
      "name": "python3",
      "display_name": "Python 3"
    },
    "language_info": {
      "name": "python"
    }
  },
  "cells": [
    {
      "cell_type": "markdown",
      "metadata": {
        "id": "view-in-github",
        "colab_type": "text"
      },
      "source": [
        "<a href=\"https://colab.research.google.com/github/EddyGiusepe/Perceptron_with_Python/blob/main/The_Perceptron_Logistic_Regression.ipynb\" target=\"_parent\"><img src=\"https://colab.research.google.com/assets/colab-badge.svg\" alt=\"Open In Colab\"/></a>"
      ]
    },
    {
      "cell_type": "markdown",
      "source": [
        "<h2 align=\"center\">O Perceptron: Regressão Logística</h2>\n",
        "\n",
        "\n",
        "\n",
        "Data Scientist.: Dr.Eddy Giusepe Chirinos Isidro\n",
        "\n",
        "\n"
      ],
      "metadata": {
        "id": "70TuUkZnA7Pn"
      }
    },
    {
      "cell_type": "markdown",
      "source": [
        "Este estudo foi baseado:\n",
        "\n",
        "* No canal de YouTube do [SENSIO](https://www.youtube.com/watch?v=Q9AVeC9bNdc&list=PLkgbkukKg_NpdJPhhHbemaWHNQCY-lmh1&index=7)."
      ],
      "metadata": {
        "id": "SF0QGxxkmZaB"
      }
    },
    {
      "cell_type": "markdown",
      "source": [
        "![](https://estatsite.com.br/wp-content/uploads/2018/08/1-3.jpg)"
      ],
      "metadata": {
        "id": "f8LIOMLQOjTF"
      }
    },
    {
      "cell_type": "markdown",
      "source": [
        "# Regressão Logística"
      ],
      "metadata": {
        "id": "tioNp24VF7VW"
      }
    },
    {
      "cell_type": "markdown",
      "source": [
        "No Script anterior aprendimos a utilizar o Perceptron para uma task de `Classificação Binâria`. Para isso usamos uma função de ativação de tipo `Step` (que nos dá uma saída de $0$ ou $1$) e treinamos o Perceptron mediante o algoritmo de `Descenso por Gradiente` utilizando o `Erro quadrático médio` (MSE) como função de perda. No entanto, não sempre estaremos interessados simplesmente em conhecer se um elemento em particular pertence a uma classe ou não, senão também o Grau de confiança com o que nosso modelo fornece cada predição. Para isso precisamos que nosso Perceptron seja capaz de fornecer uma `PROBABILIDADE` à saída. Esta saída será um valor entre $0$ e $1$ (a diferença do modelo anterior em que a saída era $0$ ou $1$)sendo $0$ a absoluta certeza de que o elemento em questão não pertence à classe que nos interessa e $1$ a absoluta certeza de que sim pertence. Um valor intermediário uma baixa segurança por parte do modelo (podemos utilizar está informação para melhorar o algoritmo adicionando mais Dados similares). Um valor de $0.5$ indicará que nosso modelo não tem nem a mais remota ideia de como classificar o elemento utilizado como entrada. "
      ],
      "metadata": {
        "id": "yG6cl-TDGE0k"
      }
    },
    {
      "cell_type": "markdown",
      "source": [
        "# Função de Ativação\n",
        "\n",
        "Aqui, seguiremos trabalhando com o mesmo modelo de `Perceptron`."
      ],
      "metadata": {
        "id": "GhgoEyZINCdO"
      }
    },
    {
      "cell_type": "markdown",
      "source": [
        "![](https://www.researchgate.net/profile/Shibani_Singh2/publication/321141639/figure/fig2/AS:572731935727616@1513561342872/Schematic-of-Rosenblatts-perceptron.png)\n",
        "\n",
        "\n"
      ],
      "metadata": {
        "id": "G4tDm5aSOS8T"
      }
    },
    {
      "cell_type": "markdown",
      "source": [
        "A principal diferença é que neste modelo de `Regressão Logística`, utilizaremos uma função de Ativação conhecida como <font color=\"yellow\">Sigmoid</font>:\n",
        "\n",
        "$$ \\sigma(z) = \\frac{1}{1 + e^{-z}} $$\n",
        "\n",
        "Esta função recebirá uma entrada e entregará uma probabilidade (um valor entre $0$ e $1$)."
      ],
      "metadata": {
        "id": "eV7ElzWsNoVV"
      }
    },
    {
      "cell_type": "code",
      "source": [
        "# Carregamos as nossas bibliotecas\n",
        "\n",
        "import numpy as np\n",
        "import matplotlib.pyplot as plt\n",
        "from sklearn.datasets import load_iris\n",
        "\n",
        "import warnings\n",
        "warnings.filterwarnings(\"ignore\", category=DeprecationWarning) \n"
      ],
      "metadata": {
        "id": "VRJx-cWFWcIu"
      },
      "execution_count": 8,
      "outputs": []
    },
    {
      "cell_type": "code",
      "execution_count": 2,
      "metadata": {
        "id": "ZltVBszLA5z_"
      },
      "outputs": [],
      "source": [
        "# Criamos a nossa função\n",
        "\n",
        "def sigmoid(x):\n",
        "  return 1 / (1 + np.exp(-x))"
      ]
    },
    {
      "cell_type": "code",
      "source": [
        "x = np.linspace(-10, 10)\n",
        "y = 1. / (1. + np.exp(-x))\n",
        "\n",
        "plt.plot(x, y)\n",
        "plt.grid(True)\n",
        "plt.xlabel('x', fontsize=14)\n",
        "plt.ylabel('$f(x) = 1/(1 + e^{-x})$', fontsize=14)\n",
        "plt.title('Sigmoid', fontsize=14)\n",
        "plt.plot(x, np.full(len(x), 0.5), '--r')\n",
        "plt.show()\n"
      ],
      "metadata": {
        "colab": {
          "base_uri": "https://localhost:8080/",
          "height": 300
        },
        "id": "-6TnlpctGISx",
        "outputId": "3dd3adbc-2252-45c9-a33a-68af24534610"
      },
      "execution_count": 3,
      "outputs": [
        {
          "output_type": "display_data",
          "data": {
            "text/plain": [
              "<Figure size 432x288 with 1 Axes>"
            ],
            "image/png": "[encoded data removed]"
          },
          "metadata": {
            "needs_background": "light"
          }
        }
      ]
    },
    {
      "cell_type": "markdown",
      "source": [
        "Como podemos observar, os valores muito negativos saturam a um valor $0$, enquanto que os valores muito positivos saturam a um valor $1$.  "
      ],
      "metadata": {
        "id": "RoKJzH3XXKMU"
      }
    },
    {
      "cell_type": "markdown",
      "source": [
        "# Função de Perda"
      ],
      "metadata": {
        "id": "A0f0yNR7Xtev"
      }
    },
    {
      "cell_type": "markdown",
      "source": [
        "Poderíamos tentar treinar nosso modelo `Regresión logísitca` com a função de perda que já conhecemos, `MSE`, e funcionaria muito bem, pois estamos forçando a saída a receber o valor $0$ ou $1$ baseado no ground truth. No entanto, vamos a introduzir uma nova função de perda muito utilizada quando trabalhamos com modelos probabilísticos já que fornecem como resultado um melhor processo de Optimização. Esta função é conhecida como `Binary Cross Entropy`, ou também com o nome de `Log Loss`:\n",
        "\n",
        "$$ J(\\mathbf{w}) = - \\frac{1}{N} \\sum^{N}_{j=1} \\left[ y^{(j)} log(\\hat{y}^{(j)}) + (1-y^{(j)})log(1-\\hat{y}^{(j)})\\right] $$\n",
        "\n",
        "\n",
        "Como podemos observar, quando o ground seja $0$ só ficará o segundo termo, $log(1-\\hat{y})$. Neste caso, se a saída do modelo é correta e nos dá um valor perto a $0$ obteremos um valor da função de perda pequeno. No entanto, se o modelo errar e dá uma probabilidade alta, o valor da função de perda será muito grande indicando um alto erro (observa o signo negativo ao princípio da experessão, necessário já que o limite quando $x$ tende a $0$ do logaritmo é $- \\infty$ porém necessitamos valores positivos para indicar error). O mesmo se aplica ao caso contrário no que o *ground truth* seja $1$, porém com o primeiro termo.  "
      ],
      "metadata": {
        "id": "aS0dPjlmXwQQ"
      }
    },
    {
      "cell_type": "code",
      "source": [
        "x = np.linspace(0.01, 1)\n",
        "y =  -np.log(x)\n",
        "\n",
        "plt.plot(x, y)\n",
        "plt.grid(True)\n",
        "plt.xlabel('x', fontsize=20, c='r')\n",
        "plt.ylabel('$f(x) = - log(x)$', fontsize=20, c='r')\n",
        "plt.show()"
      ],
      "metadata": {
        "colab": {
          "base_uri": "https://localhost:8080/",
          "height": 288
        },
        "id": "XfmlCfd2GIQY",
        "outputId": "6fd6d514-49af-42e5-81d5-2a0249d7b67e"
      },
      "execution_count": 4,
      "outputs": [
        {
          "output_type": "display_data",
          "data": {
            "text/plain": [
              "<Figure size 432x288 with 1 Axes>"
            ],
            "image/png": "[encoded data removed]"
          },
          "metadata": {
            "needs_background": "light"
          }
        }
      ]
    },
    {
      "cell_type": "markdown",
      "source": [
        "O motivo pelo qual usamos logaritmos na função de perda é porque está relacionado com o conceito de `ENTROPIA`, uma medida de grau de confiança associado a uma distribuição de probabilidade (fazer [click aqui](https://towardsdatascience.com/understanding-binary-cross-entropy-log-loss-a-visual-explanation-a3ac6025181a) para mais detalhes).\n",
        "\n",
        "A função de perda não só serve para calcular o erro de nosso modelo, senão também para seu treinamento. Para isso precisamos calcular a derivada da função de perda com respeito aos pesos de nosso modelo. Neste caso é um pouco mais complicado que para a `MSE` (o que já estudamos em aulas passadas), mas com um pouco de cálculo podemos obter a seguinte expressão:\n",
        "\n",
        "$$ \\frac{\\partial J}{\\partial w_i} =  \\frac{1}{N} \\sum^{N}_{j=1} (\\sigma(\\mathbf{w} \\cdot \\mathbf{x}^{(i)}) - y^{(i)})x^{(j)}_i $$\n",
        "\n",
        "\n",
        "Esta expressão é a mesma que obtemos ao calcular a derivada da MSE para o caso do `PERCEPRON` com função de Ativação Linear que já usamos para tarefas de `REGRESSÃO`.\n",
        "\n"
      ],
      "metadata": {
        "id": "0pz3nWRPijYM"
      }
    },
    {
      "cell_type": "markdown",
      "source": [
        "# Implementação"
      ],
      "metadata": {
        "id": "poWPrrA_oACI"
      }
    },
    {
      "cell_type": "markdown",
      "source": [
        "Aqui vamos melhorar a implementação do `Perceptron` das aulas passadas, agora, para que seja capaz de funcionar como um modelo de `REGRESSÃO LOGÍSTICA`."
      ],
      "metadata": {
        "id": "SYqr3fwRoCbN"
      }
    },
    {
      "cell_type": "code",
      "source": [
        "# Funções de Perda\n",
        "\n",
        "def mse(y, y_hat): # Mean Square Error\n",
        "    return np.mean((y_hat - y)**2)\n",
        "\n",
        "def bce(y, y_hat): # Binary Cross Entropy \n",
        "    return - np.mean(y*np.log(y_hat) - (1 - y)*np.log(1 - y_hat))\n",
        "\n",
        "\n",
        "# Funções de Ativação\n",
        "\n",
        "def linear(x):\n",
        "    return x\n",
        "\n",
        "def step(x):\n",
        "    return x > 0\n",
        "\n",
        "def sigmoid(x):\n",
        "  return 1 / (1 + np.exp(-x))\n",
        "\n",
        "\n",
        "# Perceptron\n",
        "\n",
        "class Perceptron():\n",
        "  def __init__(self, size, activation, loss):\n",
        "    self.w = np.random.randn(size) \n",
        "    self.ws = []\n",
        "    self.activation = activation\n",
        "    self.loss = loss\n",
        "    \n",
        "  def __call__(self, w, x): # x --> Inputs e w --> pesos\n",
        "    return self.activation(np.dot(x, w)) \n",
        "\n",
        "  def fit(self, x, y, epochs, lr):\n",
        "    x = np.c_[np.ones(len(x)), x]\n",
        "    for epoch in range(epochs):\n",
        "        # Batch Gradient Descent\n",
        "        y_hat = self(self.w, x)  \n",
        "        # Função de Perda \n",
        "        l = self.loss(y, y_hat)\n",
        "        # Derivadas\n",
        "        dldh = (y_hat - y)\n",
        "        dhdw = x\n",
        "        dldw = np.dot(dldh, dhdw)\n",
        "        # Atualizar pesos\n",
        "        self.w = self.w - lr*dldw\n",
        "        # Guardar pesos para animación\n",
        "        self.ws.append(self.w.copy())"
      ],
      "metadata": {
        "id": "9SkGWhZCGINi"
      },
      "execution_count": 5,
      "outputs": []
    },
    {
      "cell_type": "markdown",
      "source": [
        "Temos diferentes Funções de Perda e Funções de Ativação, simplesmente passaremos ao Perceptron quais utilizar. Desta maneira nosso modelo será capaz de resolver tanto tarefas de `REGRESSÃO` como de `CLASSIFICAÇÃO BINÂRIA`.\n",
        "\n",
        "```\n",
        "🤓 Para fazer uma implementação todavia mais versátil podemos provar em mudar a função fit para que funcione em modo mini-batch.\n",
        "```\n"
      ],
      "metadata": {
        "id": "Zo6lT_xB_I2v"
      }
    },
    {
      "cell_type": "markdown",
      "source": [
        "# Treinamento"
      ],
      "metadata": {
        "id": "YQZ9Nr2sBet1"
      }
    },
    {
      "cell_type": "markdown",
      "source": [
        "Aqui vamos a utilizar nosso `PERCEPTRON` para a tarefa de CLASSIFICAÇÃO BINÂRIA no Dataset Iris. "
      ],
      "metadata": {
        "id": "Y_WmqYxcBh9b"
      }
    },
    {
      "cell_type": "code",
      "source": [
        "# Nosso Dataset\n",
        "\n",
        "iris = load_iris()\n",
        "X = iris.data[:, (2, 3)]  # petal length, petal width\n",
        "y = (iris.target == 0).astype(np.int)\n",
        "\n",
        "X.shape, y.shape"
      ],
      "metadata": {
        "id": "_FzhPQF7GIK5",
        "colab": {
          "base_uri": "https://localhost:8080/"
        },
        "outputId": "eee03df4-2d34-4853-a5c0-29998a7baeb6"
      },
      "execution_count": 9,
      "outputs": [
        {
          "output_type": "execute_result",
          "data": {
            "text/plain": [
              "((150, 2), (150,))"
            ]
          },
          "metadata": {},
          "execution_count": 9
        }
      ]
    },
    {
      "cell_type": "code",
      "source": [
        "fig = plt.figure(figsize=(10, 5))\n",
        "\n",
        "plt.plot(X[y==1, 0], X[y==1, 1], 's', label=\"Iris Setosa\")\n",
        "plt.plot(X[y==0, 0], X[y==0, 1], 'x', label=\"No Iris Setosa\")\n",
        "plt.grid()\n",
        "plt.legend()\n",
        "plt.xlabel('petal length', fontsize=20, c='r')\n",
        "plt.ylabel('petal width', fontsize=20, c='r')\n",
        "plt.title(\"Iris Dataset\", fontsize=25, c='b')\n",
        "plt.show()\n"
      ],
      "metadata": {
        "id": "yNbRyCqlGIHo",
        "colab": {
          "base_uri": "https://localhost:8080/",
          "height": 368
        },
        "outputId": "d7206409-9ddb-4906-ce0a-170f020c9fba"
      },
      "execution_count": 16,
      "outputs": [
        {
          "output_type": "display_data",
          "data": {
            "text/plain": [
              "<Figure size 720x360 with 1 Axes>"
            ],
            "image/png": "[encoded data removed]"
          },
          "metadata": {
            "needs_background": "light"
          }
        }
      ]
    },
    {
      "cell_type": "code",
      "source": [
        "np.random.seed(42)\n",
        "\n",
        "perceptron = Perceptron(3, sigmoid, bce)\n",
        "epochs, lr = 20, 0.01\n",
        "perceptron.fit(X, y, epochs, lr)"
      ],
      "metadata": {
        "id": "k6b9VGebGIEL"
      },
      "execution_count": 17,
      "outputs": []
    },
    {
      "cell_type": "code",
      "source": [
        "from matplotlib import animation, rc\n",
        "from matplotlib.colors import ListedColormap\n",
        "\n",
        "\n",
        "custom_cmap = ListedColormap(['#9898ff', '#fafab0'])\n",
        "rc('animation', html='html5')\n",
        "\n",
        "fig = plt.figure(figsize=(8, 5))\n",
        "ax = fig.add_subplot(111, autoscale_on=False)\n",
        "def plot(i, axes = [0, 5, 0, 2], label=\"Iris Setosa\"):\n",
        "    ax.clear()\n",
        "    w = perceptron.ws[i]\n",
        "    tit = ax.set_title(f\"Epoch {i+1}\", fontsize=14)\n",
        "    x0, x1 = np.meshgrid(\n",
        "            np.linspace(axes[0], axes[1], 500).reshape(-1, 1),\n",
        "            np.linspace(axes[2], axes[3], 200).reshape(-1, 1),\n",
        "        )\n",
        "    X_new = np.c_[x0.ravel(), x1.ravel()]\n",
        "    X_new = np.c_[np.ones(len(X_new)), X_new] \n",
        "    y_predict = perceptron(w, X_new)\n",
        "    zz = y_predict.reshape(x0.shape)\n",
        "    ax.plot(X[y==0, 0], X[y==0, 1], \"bs\", label=f\"No {label}\")\n",
        "    ax.plot(X[y==1, 0], X[y==1, 1], \"yo\", label=label)\n",
        "    ax.contourf(x0, x1, zz, cmap=custom_cmap)\n",
        "    ax.set_xlabel(\"Petal length\", fontsize=14)\n",
        "    ax.set_ylabel(\"Petal width\", fontsize=14)\n",
        "    ax.legend(loc=\"lower right\", fontsize=14)\n",
        "    ax.axis(axes)\n",
        "    return ax\n",
        "\n",
        "anim = animation.FuncAnimation(fig, plot, frames=epochs, interval=200)\n",
        "plt.close()\n",
        "anim"
      ],
      "metadata": {
        "id": "YnpGrf7NGHZt",
        "colab": {
          "base_uri": "https://localhost:8080/",
          "height": 382
        },
        "outputId": "a34953d9-f7b6-4f2a-9387-a1c2ce9d0fe6"
      },
      "execution_count": 18,
      "outputs": [
        {
          "output_type": "execute_result",
          "data": {
            "text/plain": [
              "<matplotlib.animation.FuncAnimation at 0x7f298e85e2d0>"
            ],
            "text/html": [
              "<video width=\"576\" height=\"360\" controls autoplay loop>\n",
              "  <source type=\"video/mp4\" src=\"data:video/mp4;base64,AAAAHGZ0eXBNNFYgAAACAGlzb21pc28yYXZjMQAAAAhmcmVlAABNNW1kYXQAAAKtBgX//6ncRem9\n",
              "5tlIt5Ys2CDZI+7veDI2NCAtIGNvcmUgMTUyIHIyODU0IGU5YTU5MDMgLSBILjI2NC9NUEVHLTQg\n",
              "QVZDIGNvZGVjIC0gQ29weWxlZnQgMjAwMy0yMDE3IC0gaHR0cDovL3d3dy52aWRlb2xhbi5vcmcv\n",
              "eDI2NC5odG1sIC0gb3B0aW9uczogY2FiYWM9MSByZWY9MyBkZWJsb2NrPTE6MDowIGFuYWx5c2U9\n",
              "MHgzOjB4MTEzIG1lPWhleCBzdWJtZT03IHBzeT0xIHBzeV9yZD0xLjAwOjAuMDAgbWl4ZWRfcmVm\n",
              "PTEgbWVfcmFuZ2U9MTYgY2hyb21hX21lPTEgdHJlbGxpcz0xIDh4OGRjdD0xIGNxbT0wIGRlYWR6\n",
              "b25lPTIxLDExIGZhc3RfcHNraXA9MSBjaHJvbWFfcXBfb2Zmc2V0PS0yIHRocmVhZHM9MyBsb29r\n",
              "YWhlYWRfdGhyZWFkcz0xIHNsaWNlZF90aHJlYWRzPTAgbnI9MCBkZWNpbWF0ZT0xIGludGVybGFj\n",
              "ZWQ9MCBibHVyYXlfY29tcGF0PTAgY29uc3RyYWluZWRfaW50cmE9MCBiZnJhbWVzPTMgYl9weXJh\n",
              "bWlkPTIgYl9hZGFwdD0xIGJfYmlhcz0wIGRpcmVjdD0xIHdlaWdodGI9MSBvcGVuX2dvcD0wIHdl\n",
              "aWdodHA9MiBrZXlpbnQ9MjUwIGtleWludF9taW49NSBzY2VuZWN1dD00MCBpbnRyYV9yZWZyZXNo\n",
              "PTAgcmNfbG9va2FoZWFkPTQwIHJjPWNyZiBtYnRyZWU9MSBjcmY9MjMuMCBxY29tcD0wLjYwIHFw\n",
              "bWluPTAgcXBtYXg9NjkgcXBzdGVwPTQgaXBfcmF0aW89MS40MCBhcT0xOjEuMDAAgAAAKXBliIQA\n",
              "E//+97GPgU3IAA2XOop6H+EVsfSQUXqx2aBk6gAImAAAAwAAD/JZB7zunw3UBxj/BXfwAB5FL+rQ\n",
              "KmTlPV/DuN49HELB3PadP1KftukzfsYfnUeEGnJra1+lh0H2pJQUiSnlKwouOdrgjF2PEmI7+Amy\n",
              "sBq5srv/cRg2JDJ/Zf5vBnfYFxBBcPwt2AZ52zsOn0h1SKs5LqF8eOI8IFyiH8r13QGQaPkRZS9R\n",
              "Lua7sFrfk29eIbsLrmGi+uoJMqu3feImB/negXfapCtHwYCCM7EX8phR5Hs5gkcWX/xrZOzSKDuG\n",
              "XAlqRhDBfVPS1qbw5lzgnAvzjERUky8kOx5niUjRgAAAcRuYYZUhGgKrgwRes2ABqL6c2r4zwjxR\n",
              "NMCR/Gu7Qgllr19YDy5fSS2rTmvlJeLIDqU0WqEOvnn9/BP6oEEvCSRGXVRn6zGuQvqomTlCnYNy\n",
              "s95H9NcoMGHSWti9I1haBom9iVtyNuyC9GnpQcfySBB7h1DJ/eAk1k8ydXucj/Zckf1fezeoB5jH\n",
              "XxqMfxwNFx3tP2PCHnh/H3wgRUbzT+fxXPnv6T35ew6mwFXT/tizQMhMZDjWikfvc10PEd8V4ktH\n",
              "JY1drlt4pQZbxlYO5psXdD1zJCiv+v+vu7rIu9hKGhZKvWsowXvOPz87o+UmmY49PQ/zIvsx6QYj\n",
              "Fd0i/Vz+wF3j9VGSP7peciLtvXeXofVyyBXW0CZu3cA/7miN8XjthJk9Fttd1VoyYyQMDAvRTYYC\n",
              "ht6iwxr1ZjnO4f/CdjydoLxhH9ES3GKicWnYhdWNAUCnF7iVn64jsyH3wfjclzh12ROu3Veg6Eue\n",
              "ecPsL2I45SKcTr34z1WaN6uHIlPs7/xk0N9+hOx9fjEiBnliSy49CYe748xnF1V9IlDazWCsavz2\n",
              "oFPymwNHr+h84DvvBegzZF7SB3hCwYjh30/r29XYoo08t26sRKnlOuLX/VlLOkbmgs87vLauP80I\n",
              "spUN8VmOipchy6erC3Z0PV63OK71tDztAgA71ypJF5TcjxDvn4GaACMocM3DAQO+TM0TEYy3tf+s\n",
              "2kufzHWM91BtpP0rRo3h2IBC9VpmBDAZEd/M+rGaTRA1n40//WIKMwBKHpHArubgXgKh29chQsbb\n",
              "xWJBKHDWJNehPfL8uTo/ImLTgqYNG7ED0YCHnhOl/3HoshLRhXty52xNUA2ZHazbrLecerE/ABXY\n",
              "AYPmbEPtaLzbilptsKQaPF9OfYG+jKmS7d8jd/NHqKEVH03g/E/0MnM/1JCWwFEznOBtkGto0E+g\n",
              "+1Mp0dr1kQmspZIDBThrFyMVhtXd72nXiZ3JnL1k5XdhCJq7TDxWZYsfitYb0StLRrofM4pp/194\n",
              "F91LAoDxfQ9/F7Vc5p79SNozZHtfq+9G0B6vuW2JfSK1Oq0+rr6XjauN5Z6AaUbGWCSQADivffp0\n",
              "HbBRUflIuBpkKdJHyOtbQyTBDPwUVPR7UrEwOUQnVKWniRo5t7uXYjpa3ePzRuhR2AhUPMVQAjCV\n",
              "mwZbu2YhCK83qLz2BXl5mtcMaNCA/FkA0EHBU3fLrE4lkObZl4kroMzbvx8THW3dQu4WJYOBrbgX\n",
              "+un4J18N4XlbQTeIcjGf5/jfijOElwr/PybLKbu6BkF7FHp6zgKHBo1eq1G+eR89pL67+cO9q7op\n",
              "2poHNjHR3iFCp+/neCchhrIIp53ZbvpgXDlWWhRZqBO1B7xZlAvyIVFTvmCu+pbSE71SA6B/uGxt\n",
              "yuClCvPVUucg6yWwKTwpR0IYdUyQpkVHlW9SVmuCAQnFQU+r7EN5xSSKO/RSsYy74TrcIn6OzAn5\n",
              "o9M1QTsBbDOKIB+rx2PpPMXsntzVbO8LHaubXlSA9QCNg32FNvMVPwrLEAxU1jZh/u15K8zcTwWb\n",
              "P/L8hb2wFR4BKb3o2YX8lSaX2MLyNdDJmUvD95Qwcop3AdjqRY2yVJ8xtpLCIBdYdogemw/wxtAP\n",
              "XuUWwfByyturW4cuzldAdhzOCHGA5d1/UwsdyjZ9Yn34Zi5jufd/Iiuc5pLm3ldc4izrb+na02mj\n",
              "fVLtQYux/ZezXn9NmHlrPnQOI1qwLdEkduKbCk+5FqYrHJdxfnU+ZSKNoZ+oJ7+VXICM1PKmEMJw\n",
              "/2iwqeGydP7h3GnzlyrzE3RiLSyemD4EW+mBwJLOrHBzT00UNxz9FeYD+vySG6cSqUy6S9b5inQn\n",
              "v3Zw+0ugW2mQTtXjajETsAbpJuAjEKQ6LA2t8X3XpBQRabRraKx7rb1tyIdjL6MksQ5wCJcQUncu\n",
              "glJbxtxTKtZcNnfYZAFt11gJuUJLEFfjXHV+Hw3RSTKxkUkYB28+E8f1NyeqWrN1uIWPKDizGPrz\n",
              "LdsbGFn20WpQZ2iM/I5Rls4bi7BIIEy3EQ4RvATWj2cfE75USAlegi3e6yAPHagqIb575DV+rRHB\n",
              "+tGXk0+uwWAaarn/k7TCgScbGhnR3rDHBZDMhkzJQHBq7pxHK8Wry2KWH5jXIQTF0HlEgMKxe6Kq\n",
              "OUvoiTUipIMAqNefGnF2PefoYCeDUkjOzTeQMqTxCCC6r4ZGVkrHy9aPVDXq3AfuYGm9Xvl0mBrw\n",
              "m9okg5U0BkOUIrdaoO8HZqASe97D/J+EPavYxHEWe9f16cjoE/BMwTyXh7qDcRF+O3hV+VQuPDWi\n",
              "39UFhKdxnow/x7tXZ4Ho6HgpXEBQ1t8daUnWr//qbKVoIscXSRaM++D0+lNn2/WhacXa7qEvyqYC\n",
              "CzFSbc2l4minH53r494qqXSzSPJg2mr5o4GRN9XjHWVrYWh28vFKIrOc9L1D+sQwkBDHkV2epW2w\n",
              "k5nPifWa2T2m1i8hiCIQeUP/h/Y+lABe5NrlhrVPa1i1DXFkvux47nU4/8pB0fPX2sJjKFzbaBiT\n",
              "wi0cGIlZ/SYLKhOgzMMUTk4hXPT9Js0zY5iT0d3Pa2PafUCliZLi26t2neyFj+4yOueY5va6GK53\n",
              "LbqaYpsk7AUZimPPPI5vvP0DM9B+JP5yoEz4B+04uPiboiflcyxX7dkz+cv7Qu38y22DKkmsVe7F\n",
              "x1yvRoUxK6lclNisFNWwqeDfL77TIVAyb8JHBDWl+xm1n3I4NtQslDJbc/cWmhMbT2X1W4NMTxNu\n",
              "MYhqVwPnJ9cyXJDDq/NP6clxNddKRQcX4/ygg/kR7gSD/d5zHmJFoTpJ04hqmHJyfk+5Nc8/zOn+\n",
              "qxBExCJiI6g7NvSX/i2Z7TNTpfSzsQmsmWIsLiTfJ7MijZ/ZNkMgCGpZkfRJCW2vFHCaqTv3UTqz\n",
              "NUDKk4ysTYdJTvr/mb0X/xhnYMAIWraOg94vYc2GRaxZnQOqDN+5o9PZ185aP4j9fuD7wBS3cXlj\n",
              "5S3xnlqRx50HyZcX6IIS9mBXgXv85/TJMzFXwDPl3gGhxnVTakOI5XQDMPE4M4V3/V5/UBVblOzy\n",
              "rwvzmdja8L5lKdaYTlAhLMefp/BOiVYz/Ch9An8TL1Lg3Gd/SbqPR8+mm0rNXrnHXBjH5h+khnF8\n",
              "kicsXI4VHlEnTC6yMmAb8i/EihEi+7MXQiTfr+SKyrggrSgVZLavd09PCBZkn5NDPg7aDQtM8cCW\n",
              "+AIkpcW/rRiG9tvASXl5sRyBkEXGGXp7GoidFHTiCjJV8ppT1DmD45DyXcP7NJtowLn2jKxqXcq0\n",
              "2AHEmv+JHeKDuvhOd5rCCvriaA0XCnymt56kS1nOD4cz/324+4GhYQEE2hlgJEi4xT5JDDSrqae7\n",
              "JAOqQN1V0E3rz+Jfi2CCnyNFH3L0W3dvgixA2ij5DlZURF0/slhdapTh3qy5sLG+6yj8vS8+4gRc\n",
              "Ch1+2aw5Pdk7315c/a63N2OiXE6x3oH9tqpb6z4+btDILuc7/mUAU4z6Ggktrjv0xn0h4HijmH3I\n",
              "3E1XIW60nv/QKSTXT4W3+tPXap/VBMtQDaAhiBZueJtSivFFRFBW8tV/iTuSATjZuq6oQUN/ra6r\n",
              "dOeIC/uk3rrCKCAmIqYWFrzlXyeaVPyQ+ZAIo/10mKep6Oj7UUC5eWLZWBrtHcvkiqneDOunGy68\n",
              "ajOzB7DyMDbuQfz48nIAKI5DHIGgrHcR8Xx5dMF2iBU1PyVnplBF0gkdgsO4E2rKCGTSj8UTA+mz\n",
              "2qZWnP+4gseNZveSwyRG5/703V7GqHZ/DOuJGfdxF5ao41FJ9ncMKSpKT6gn2/2WMoFDr3WQI8Dd\n",
              "pFxyGrHTKoWImWsOlBn/HG6+pxsnIoHSbh7wMx/wjeqESW+OKa0W7zhLBZDe0SIKb74Cm6i1jrUN\n",
              "rPs/q3YiQRWb5DuVqhpDw9H3GoD2Y+qIyhiIYKkLwo9/SNWPeBgUJz+Pv9xhiOLUOLf/jkFKghi0\n",
              "escxuybKAqsdaSAvSZ/bzRJFPx3+Y3PTlLYw4ksOZoYVsWj6H4fcLtRCsnEg1p6FVREkQcHU+vbJ\n",
              "ru5tPK+aVXhsdvkW5P28hac2mpNUJRUOKmjlJw6vrFtryy//zcBzPJeelBAuMg6pASJFURhlDUNM\n",
              "nlffr3Gf8zjoDx0A3BivQ0IlWNS2Xt8aUiYwwGF9jWdpzAE9B5Zbbeag1IMqbSSm6yxLZMOYjqPo\n",
              "sYUp7hQoD6jlgFzzkm+a1UHKiMxEaLljrfzZHFD6t+kLV+0KkixEWxfNgjHtMaireTEVxu5yWkgB\n",
              "t3KbO2gww4ihuEihGI1bSRtSUNK3nTZpTuUPvo3uowiM26clkRXEdep+tYxY/dyN5RpjpiRgMwlq\n",
              "NmO64uqG0PCVjUZLNyjxb+0+Jq7xL8tA5J7/0laAu8v65R6RBv89kDRDIKHouGn1ZRQbFJVGEVeB\n",
              "/OBnnS2whwYi6mELE1AyhwEecVoWFff7hI6ROYD3hH6n53Sm0El+PMvocFiNBm5paul34K/aAae8\n",
              "0FMoM0kS9pGCaL/barsacBz+4Zs9/IeY6xzK7hfdfON1IzP4ZiaVC/mu7yQauLmmd68DGT1lzU1x\n",
              "uN85s+xo9h8D2kBFAC+9BHyLttP9YjBvIDEyoysu46mPlLg9XkHEregFAMYLrNu+/ZMWgLPQENtO\n",
              "VMaLdhzKxwoLPJlIZv3ry914bIJp2/AeSUeOErMo1d6TL8tcW72Eb21cJyv8e7buIDpj/kpJlewk\n",
              "n9xyhASTFZSVtXTHIgOJoPC3l3n37hwmqLx5MNhcBjRz0LMpq6k7n2R6heEM2fEBA7akIxmfuaU1\n",
              "pAYbIpGMuNXmYh+bUPNmWB/xrGG32HSuq9mZSg6rsuHaOA3BLkJZ0xCyplxtzi3XmpmdhG8pVnA1\n",
              "nCNUsOgrucQLDNzUhoegTR6r/jN6Bo5pwBqrZuXmhOLAcyQt657km3/xZTnCcwnwL/axKaf7gCOX\n",
              "oXDhmBOeuaWyI7YDKjynKa3qyyWdsAltmW+kQ3wn6nTUS7qj/+lAYIOAYyfi+61dUIJv60xn612C\n",
              "GLuxcrzpJLftr2BfQirodoSjeDFIYNLXVtfpC9XqvnfRMmqKasOTZsm8tx0nUaWoi8giXpUWJSD8\n",
              "8b7AG3o8X+Z62340fh6iKIAKZR5wop2WomFax6341cWoLwGUpZTKbiviNZ9fyrzOjuyntrkOOKUE\n",
              "MwkHl9z078DktRhww79HT5hI30TFJLt/KRmwAHQgxXEugWfDg/x8L+YEEtQD2ga2XaISrO0HFZo5\n",
              "PQwBrSgn+JViAFavN5Fo1ENIJZS4OYftpXjE9MZvlgK4FUkScO/YcCuVePuXvHtMUZEG5o4juCOU\n",
              "wx0kJvZEjUEcrMcLcAsJTKMjkvJ8+GE96Ailg2tUzu2hpZIYOa3ZLvTQuySLVB7yG9mwugeKHdW0\n",
              "VnvMF6SMzsrd+xR8CMirgxfT6OJ/J6vC3MrjlaXUF75mb+pkGdXOymt6sWuuNRrgyVY7FQT6dzPs\n",
              "Zy1CxJRJlAwLIijGmHYDwweh6CdrVf2BXAvjTVPmMLW1vOxOj5pONtzeJXIKt0WrwYbrxaM9bV/K\n",
              "m1X13/xiQArAsN4tLCCRbFd+B2N5CUe7PSSttHJquSIrmrKwc/y2jvuu+v8nvLW5l/PwoYKjGbWL\n",
              "CKR2FajxLdIqPhnykuxLIWe3d8Bg3j/jtghg9z7IMV5EIuSZU1IXu+GcSf5InFgydwaCI8r2O1qu\n",
              "Q2YzOIIGEHM5QctllPDxdYqK4iNItbkrXwE5WyPOHTGYeaCnR5M7LS8+uPnvVDGXbqp+ADTQ/9bK\n",
              "Jrj6xWxj5og+dgqMCUpP5rV3ShVjlgTnDzArOmBvEokIECpp5VbJpyKXn67JahHw2tbCMiaWpC2C\n",
              "TvLYRhpfqJZKoPuEdes/gC7c/But6vYFcUrxIuNwIpzS2WHhz3/3TF51Bl5nXl0IaBYPYL0GoixF\n",
              "7F/3kmoolXI6gQcph5KfUWNkhd5ETklweRMGHRXgZWk6Gs7p0DlVDWH3ylKz43dI0JmtHnfX6Rh+\n",
              "uSNa47P+2prG57HKR4f0Z/L3GlNmgtJA3pxMnCB3T/qeIM9X39uwJgefafLgwEZ0h5w2kb6gsY/U\n",
              "sJNOXNBijK+UhZbV0HjUq4RGUTqeg+4wTnIg5cjWlkOd7/T02k4uU8+X/O1z6EJmI8xxq1kV+ied\n",
              "rg3olk8lGGV4XKkiuNgzW8Hi/TbTJ73Xp84ZnC4Ks+F9fCuFlSe14EBUqX1uMRBVu8n2VHgyht57\n",
              "cPoZfg5c/2cW737oRUatlpE1KaK/fQjtY4UnH4JXPZ7vqWyigtOHOq3SLj2lsPvfjrWjrHuoqhIb\n",
              "HZ7JBhuPsghC05/SP1A+8qylTAlWfGNDTF+koFaHaq6n7X7raDgq0fxB0AOtKwDwriSVThOpaD1d\n",
              "vzj7geHZSV60ByiMhV0KSyV9Yuer/P4m/kM/puRH/vrl/yWQIs7CDXu9WzrrmQAXVGkn1amWiVqm\n",
              "kmFhrFCSGavmYvypRck3hcolp4x5uZZFmjmF7YPQ31LxWcgRB6myFq+j2iFlPneErG5dcVTcC6Tb\n",
              "x3RpV+9y2oqV+xILOiLKq31HPH0+ureHcs/wZ9CWs884A+74FHqcfND1fAGKXRBCguuHxUfGP4nO\n",
              "vhLlYYAj1jxaYHDGrBvEqcTM1fSP8G1K9OQYy+VaCejiTORcRa3tqGxR57r6Dl2VY64DArsE89pk\n",
              "ozLGFb48m+0QMVDjBAjI2YQ8PqG5fAd0Cq7k490lyS8/Jd6DXlOGhjm4FW9ZRGqEbK94eFx9iXHm\n",
              "lBDGpjc6jVeDxpOxnSG2Eep47FAx/UVFoUcYJdK5Nabkg+CJMsnUXsP2luDrEku68RFAZ05ahtWT\n",
              "wQBickXPWHooDOzj2xv2Annd6qcg8/FWy3EOREysvb7F+25Hvw8LoD7whsddYjyEnLKrlITdFZ6B\n",
              "dOysmwmkWfcw/LPmPzNtH/Ido9DkOGVrCzt2QKMsw37qVfuy6JwKN1KQQTofXg5MqyGgZUWlYf8a\n",
              "FUrTmwqcWTrJ/Btf+9/8gHF5XuOLxfJjDLfApzh/6UupEjRxqrflrRj5Dr6oBQIFZIUmh+5g8Ie8\n",
              "3MSDnsh9CcbQtX4f6PxWspGVqk4jgf2b9Irmgk78+iEE5exOT8bg1lLPBccF/y91w4EFpelgxhnF\n",
              "1UoKrRUbIO33kxEyCm6F49gynqsN97OapBXSXkI5Zy2lkqpJlgMFkp4izRu+AKhgJuP2IarW57He\n",
              "QdxsuMahzYno6s4Xmrj9+K4q04PLquOxk8TKJg8UJJ8vQ6M7eN4O3TFr/57gZ3UprZqPzX4uBetd\n",
              "qTyH2SiJ3efZ5ZusOqwUe2pX4nU8Kw/kRL9Eyzhuufow73csOgEleyZ+3k7zNICW6SGxO20K5J0B\n",
              "iuzQzyYzFX1rHpk9Nw0D1vfKjxLNFl02fO/eDOfsl2dIIT48pHvUX6zzdO8iNkOOk9NiPbyOk9TB\n",
              "7zJfAvPKg1hmfgFIyHfpTAtIlu9EA/E9galv4krGOjaKPERp4HJM13ltzGKZ+jgbm+5hw8WCY3fF\n",
              "oH/ul9bvFc6RjPE8/c5RMD4Q1ClOjjPzLcuWHhxKKmbOKcwuQVtGSTQHslLUbMFemQTJX1PJUzb3\n",
              "bAoyhK5BUIwAxj1OIHnThrLkOGAW4j1x/JPihgI1zc1ltFScb0DA9W5wq0xMwWOjk/xK2rYUYqvw\n",
              "jG8LPmAD7DBVamS3vuWeWiL/qjYyxB8livrnCkfgGk35qTZ5YliAJ5EvDLef21/tHEP7S6yHFyea\n",
              "Ngci6iizBYH5Vxxl33L4P0i/vXno5qfy1NoL+3/ay6/QynUK6P5xqPiuWxWNTjbIAv2K1zZAyfwu\n",
              "4Sio6zZl/sDVPAyNpxSZMHjzWExu5OAjF3oVBWE0ooWU+AJ4/R5kvVHu4dXYZ8VKSn5kdpK8Wlbq\n",
              "r+xK/zxqkBYj2WCa3vjUeyV6gkB79OA5j/QVvnfWrGOEXEYiVWWuNo0pBcp1W76KAALEvTUmCjSB\n",
              "xd7PnDhJfr9qU6Gb92tQbLgu/Z65shJfhEXIbz/JqIn5P0zN9ULxpBzKqC/IfAFb2HgNpXD1gW19\n",
              "Psga/dT6awiFmV/X3F7eN95IpA87qs+BpUGPL2gNwbg5yFYpBBbUUz6WzAWxqs1yUmDxIL3vxNvt\n",
              "LIi3y++8OiZTE8WA4aJlWQJz8O3GPO516CxqaaXLW0FuYWj+8SQ8OBmGQOtU/vTMUK2tjXGcStKJ\n",
              "IlHhkRV1H5FIiaXVUySerEGi6IZGOKq+adpsemQJz5P7LRCBTFuuGLNwbZ1a7Q2PmcGbeyR68chl\n",
              "ps1hYZ7SehvBRgKd7ABMF3AEor0cqfUVdW5+gRTXC7nt58YDChPdykYSsHkqAGJNond5KujCfqRt\n",
              "gX56RQW5RMA5x5cZvL2xyOyhGkGgPFfRj33H4Mo35B5tDliMucN1SpcNSaLEE6xm7Fzg1Yg6IqUJ\n",
              "yTI2/JJ055sqsrsmFN0JCo+CbR5monBMlrbDKKcRW7AgtyVF4q6i921hIset9xdhK1buRNMj6732\n",
              "9XW9poi8NcwcwBg8ii13o/WYUabTgTsZnV5rtlIUkG9doR7ueUdIbO6FOfjy+ICFEQkNn9jL+tsy\n",
              "5QG38/ZxQO4vqrjz1n6Q6oTLwWr8TDKmdxDMp/lkzr96rbLoU6pjuF2WhmefHerbPoAo9kZUXXtq\n",
              "JPaW5l+7uBMShZxbYaZuRPw7u0WgpX4GFseL36mSO+b3d/nnYtaSBWZIP63trBKupm8WK5HmH385\n",
              "6Vvk65HRgE2PEWAoBW35LDUFu7Ngr2oWSRo67ZfFdCP6kOkAC6QlFdcJNa5/4ilMdOJMqXqUiUxY\n",
              "RONBajolC+r8K5ds9uV35o/H/IeTtbJtiTC5QlBk6bhOOmmMWN438XzqK1zr1KomTFHAsXnK9xQl\n",
              "kLer+IiyBerNxew/ZHlUddRkX6gnOZsxmhReMGuOnSKLB1EqDOQ/07knRgJKtkMfDAkAcJx+G4D0\n",
              "anxbsFs2CPa2VkszYvXIZEi/mlGhBgTEarnfDEyTGLw6F3Rtm632NqW1Y6e7SFn8bKlrOO2u8LWF\n",
              "MF/EYWWLXo4GmPkMVjjlX7Q6yS4rwmXujr/XIVquM6gMJ23u8JFZGJPX/aQkI1wvnvth6X2jWdmz\n",
              "2niOJReMshYgLw/jrJ12K39G93vZ+v2HSbo0Cq/LntNt5WG0A+w4doqcPkKP7klKxNqovNaa1dfk\n",
              "lLhdTS5L6KwM0DrBla4Lm9J9XTaBfi1kDoV38MgXpS/0rOk1sqHwdW9CGp1cctLLqVH4RPKp/V3I\n",
              "X1UOOk+FocmvXcJZxkpnZpLYrCjhc9Wd07uIJcblK0xZxS3QSX0nX+V5ukLLSIfYwEd5vLkoYNhR\n",
              "+73r94jyFrds8b7/0KK9tnDJzvqLuuJcALCzCwNT4trA3pAqikC1ilXjIyN9zTqdFy3c74RcFE1p\n",
              "PZ57mY9cUqgE6slu7FadrbyOO9yd1HJ3hzA64nJUpb+a3Qnk29NSJKWDjKdW1H4c0awu2LRMpBpR\n",
              "baHghT9zM9mCooUV/jlRor5XSRS72K43R+4Nag705jWBB7rhCpGowtLdZI5LUbE4T3Xl4K1wjfcM\n",
              "kwJRrovnjFNzpKqFRTKDLzjGB1TsxdEq+Z96KQXKMIjd2CNeq7YKEKAUMPaFXuzr5Txk/M751B6W\n",
              "cz68w3Qv4f1qO6qrdWdqstU4kXlB+h3tSvuXX54mVchQ7gv7jejl3oga0BjgE/FLPwz73qtCVHcb\n",
              "5yX6/3wB7++I8QDPldotyZaPI8ao1lIne5Ur7cEPaRC2z3BJHMUHeUTDXnkPzvAD5wLqxvG7d1Ok\n",
              "y05pmZDvYTmsDgVYTR4iVEsrphdmkoHXb1GN34mlHqlrLx7Z//Qns2QdgpwWAvS+RT4+2Xw/B0yn\n",
              "99f/vNGiCoH39bDFTYB3qn27HDYEXQyi00WwiIUl2fzPArcMVkGVx1rQmtUcr3vipsveREjLRV0l\n",
              "N83026y0IAIn+F0//da2TLEBRs+qVVCZGpfz2s73bjw/mqvGAplk04au1DwAridzDkkqmC/KAAV1\n",
              "OMQfDgsUHLCpIZxstXtVNzoAuZdgqqH0eqMmrR0Bv2iCrhCTpimMbRR496jZAva+oxwnqNdb5PZ7\n",
              "5vipiRcqazdNTd7d1815R0b4X1OpvsKxk/WHCHr/jTuRxLPLKnRa2sPjQ5PjzDFqYUV3wq79PTsf\n",
              "cxzL6+xRowzR5Egk3EvRAmsdMFLf9W6FkbVrY6wN/W/jmiQbvFgEbPgG/1MddMkdRHU17PZFjqhi\n",
              "2Lg3jlY0GVZS4xykAYu7/xAmOROzEG0pefIEC+2vdOtuZImTuZHq0kF/1wo0bivpLGSEhNKI6llB\n",
              "LvQyUnD5A9PGmqvsgso2FVaVLPyF8MfHLzwA0yBa+zx8IuDFVjXt3qcyjYBr5cnrVjT7Y0z3FgCC\n",
              "9q3NBn8P8hToB5nwYtYYGdgzfaWKpzN3n4IpW4bYd8lVMMzxo/qVRy7jhewKn33KZOOdeA2xf0dm\n",
              "uAMakvWHrWMfXkqoHXkkPr4YM/HsoPfh0zzPkaHTE0Z+//CTBMjQQbMV/tZLkFZPEBP9GXe7ss9J\n",
              "AqSyDUbqRB6ItZ+tafzCCP4AG2In5fb9MwMiU0JaSkX8tNP4r/WFlWus6XxbSlycu0G2RU5d0K3Y\n",
              "UyNYtj+S2dwL41ewIdILqqSYIlFxKwitqLZqTSLv4VZnxHpqhpDjgLHjVv5YiqfSqw3VcI2cKZu3\n",
              "zVYU9tcRU5wzFK70Wua3sO8mPlhwDwJiLBz4kHnClkW5S5QahxeRavX0VoBr8yVcdLXX/L+f2lbi\n",
              "KNTLS5pd4Wj3zstBHmuQgqlo2qimdW1xnAdIJ52JXPiMAyyDzQqwDNivvl0cJCW/UjN6HK/zKeu8\n",
              "rYZyRi1qbVQJ3yvrBnmYoqIrOPoVYgw9fl+hU2x/Byj0qRFAynLFDmQsqmM47kUQZa2dZY1rB6+L\n",
              "jA3CSPVxT15m/ncxKdoYreNqx58Pez61avtCfxbB9COxqkdC9k/8Fsl7Rv1OUsoq8KtjD7hGD9Ue\n",
              "W5qxxhvqbpj73utJYrwor7faZL0TbgYgiBkBZv2LgiAx6bf+nn9U87u62x6thPvNMehHkjrAjDrk\n",
              "SB0uFKMA5B+K6w1HPCrlNu+HxazlsgRG94rZAS4e8WXfXsKsjvV0zjEfaF97wZsaVtuwVOJ7Jw95\n",
              "0CWzvD6k9s1umrwKRnSzoSlyMBRCGtnQj6CmW3xQGbwC10lGcWFCOUlwMmVSZl+SguJA2vkX24hV\n",
              "kpuV5/wpVc2QaEYJGbgMlDXtuo+//CrR7UudgppQ7J8iOwfQ9dVBzFa+j24trRLfRs4whZ94UPg3\n",
              "H6cSyvgKg9ipxidgwqXJnztYvSN2dMWwRH8FNKoaEx4AVj14CWNKkucuSHHHG8PSIZ7mv5fEeQ6+\n",
              "JPrM8Z2sqxDtQPlXEapK/2xPl8MAVrgKFORuC3ZPGyq4ZridfK6psco4icbYmO1s++NkK3EGNEUv\n",
              "T/SrfxpoHuNSxzTh6bEu9CkzVNXl/rnkmrN35o1KJVqyJkhOMMa0VGwGiythePnbVRUG3J2/kJum\n",
              "5pD+MkWUID+7SYDpY9SB6kgAEZ2v00eRVFl3bIP9eBoeyaCk0FZjq09k09+JW6Bpp11ctMvKzObG\n",
              "eZV5cUq7S3o6i+EGgpZwx/ih6dZIxWlcd9XHkpJuprQXUSmYK32ro2n90e6Gjpldc/hbkFLvO+d1\n",
              "yn4dr+FiRpfh19vpFAL1J8HM28/LsKKJihfOCk/mreGrCmdqmDVg3K+EjZZrjXl6yrwwg7iZN+Fc\n",
              "wBuLPrYYqh7XZqAPKd6vXboTBHRkp54gxcBYQOuitfFNyHA3yUol4jIl4NGrXvbpmCG61flXDiwp\n",
              "CebApn4efpliIaFFO5FmRHc89JHy9q/l/C/yql0u+rWGFNXpHLq4GmSnjdvSILU0U+7CcFvnoaYa\n",
              "UAvo1/oO54P4m+V51P//se7ALmgBQntXvGhkG+r11Qjf8QafE1KS/AG6kShiSwB3l1oxLLJNYotd\n",
              "Vr1zbi+jg74UXWgye7ic5BFQ9nANBdhzxTdzTeyP1UcUPNj3uaHm4440fQ8be5dJ4KhBGGHMpT+m\n",
              "sib3CGIytR+kr4sPA770aTVhdIFlgSCgXig+tcmNOsf8pRc0fYAVTuESOFFsFz1baanM+cc8QArk\n",
              "FR8REN+ky3g4MMe1efOwzA4+2pR6TN94lY1ZcxhWOO3oimkLGjZnWHPgXoUwp9WzwZreakytbKin\n",
              "bBSBgGmtUFpqczm3ovh6jCnQv0Dd+MbhWMF99m+S8OSX/bKOfmHr9C++hiSQHGirfuvIKySK/CfH\n",
              "QJRYQ7PDJzHpqCM0+FWqRVzvhJm5Yz9LbEqUl9azI1bDd52HEGhuwV1h90RT0V0I7mCEa7BYoNF6\n",
              "Vvp9Eujdp7wccHO1fnhWK0nj28h/4eF+tYIQpRB4XdU0pfozPptIXutsKBOaV0oEPQILhMMKrt65\n",
              "dQbjAW30qTzqYTuuF8xm6zv88SkeoiRJWktxVvGR9tLjJ35EhifF/HQDbcHL9Fp5O10Pus3JE0g5\n",
              "6pQAGVMoX7WJgNxFz2xZHnIyraeEEhcyKp9GSX3OI/Lpb1gifuY9XgqXQbqWakth+mthbJE0yh8c\n",
              "aQAE5KMfMa+TptByHBVD3rbpiy74wAMj+eRTMu6CduztGNmYiBziAf8IpHP2FyYuyL0mO89f/fYx\n",
              "fuuVb698HXkqBN8a0cqwCN6mPsl75RpUoMK+weUqeArvETXuu15lbzOyHAWSJPlCqbTkepTeVBMs\n",
              "2Vmy6QcD7hKtrVB7NIYcFRyiQikRVENK+/dIhJ1y2DrZt8q2bfzBGYv5nOyiqIcQLUEedOcQCVZF\n",
              "HVjj/wN0l/aJUcfRruDl3T41z8JYo8oPNHvCWXXpk5cJX2JPD5jrHfHFMt6tx4E7mFTjKICVvIWc\n",
              "SWerIyFkkKqBMatWP4rkVA6F5JPM1Jv7JM4TiiCdvqLkITBC/FknrzdSy690wA9Hn27tf0qcQ+mY\n",
              "rJ76sXG6uzpEva7oRiGXpUl1fi+sjfdDLWizP/yKr8rAUc7iu3msZ2y9vnMsMq9EZEpo0fx2iof+\n",
              "ih75XP6dQ8QOjEATkxi3GehREwSUxf9ctePraMCsOV/Z7Olc+UYY9QDG2DJkQS//DhUMsd0mkDVX\n",
              "ZVHEeuA8su8mR8BrgFsRyYunOUd0PKYjFqIXfbtBfEFVrMxdEO6Dkoo9zfd5VplM8LkpUs1HF5Pi\n",
              "z9GQF89dmR5LNp35gZntV+nUjUktsbzPQ6JmpAQ9NwnviRVsdfIMhAyqP2lxbq0uGBSBJGUOrDY2\n",
              "2Ht2tO13Oh9mNekCksBNzfZEzR04aAIxrsrom1So1udWLr4tLH13myaHD5GOqytepnMDJXd3mkdg\n",
              "mSQP4iPfhdUMuhaiZUbd2wefv/FnZjZsaVCS7S5B8lLdaSutcwdJGnHMIGRGA4M/RmIARzu8gZAm\n",
              "ne7kDesu4kS1rqDhC4bQfmUVyag+waM7jefflqQ98Ap50llbuIs9WjevWBIcKppTlQPiHxvteNgx\n",
              "oQmGdpgivaa2RNOnUBId81tuQaVmuqBtgU1Pq7R8OGxgacGzBrUMG2xRd80PikwxFj4vY4BEFRe2\n",
              "+JtUDoiZfcKGny3taIQhOPIGKNhrWs8iK7IuDWu0Lbh2RvCoBrzR0zHAy5DrKdoFfE02aL8EHK13\n",
              "sPtTn9zURC59Lz9L2YLF3iySPvRwa0yJIWeVutGRyGUd5FCLTDsmGRIXZbn5bWuZ/+Go2QABBlfw\n",
              "POEAAAVqQZojbEE//rUqgCa3lbdYAC2VwiZV/Mfnc+p+87Wknp03+sMkocF9jWftEOC6hAfyWLJs\n",
              "4RjU4uNf/P/bqiFCvaQn+BP+hw7DLxxN1VdWE+zaLNoBMfXkf3iQaN+vzfA6ewDQCP9OA60N87rx\n",
              "YG9wWnaqgoP0nq9DEOMsf7kfz9qPdVfBImB3AmxgnEdyCjrste7OSA6xpjPtqi4mQz8YTQgul+hl\n",
              "M44ki+CGUm399ua/fg0bI9BTHJfQA16qJ6adpYENvzMU50GqBNk+Qcr9F0mag4T8MPk3LnHVyHR4\n",
              "EKtTzLabGvT0QLM3Nk3KntDb0NxoAlciGczDiqVEudeB94W6XYgKssfcQhsH38WQUNkzI9llzP9+\n",
              "mUNAImT/1oHKkVF4gwPS/NN9dPDKOOAGi7DUeZvq63215qtANSxRlse+L7g+wwnFyzGBdf4oFzEe\n",
              "YCRsHM7IWnMQydVJn/yRYxuc7tX2+LBWreWXvDtO0eaKl9xiNbBqw+Y7txOzXyzpKUCgZx04022l\n",
              "6h9b99da5j5LO+8qKa2b65ut8UKzPqQl4BDZwixmSkILK48GZwPkB1JOEAsERYyJhdo5kYC+Cb8N\n",
              "vE0I26jlYMeP0bgfojVCQvdU1speIeQ3yw7zcOzZEKcPY1vowCNTv+FdhWWqe2+LlNcj3HtGDZ1W\n",
              "LtXl/r1OWxX4+uf8fQtZYmABeqlG+Kyg9onLxvlGOvRdSxTlVA0qExukRt6mdadHW/e+rSyRWIxx\n",
              "lYYIzHXLJNBtM+Rvuj+VaTNTjHjc/PMmUOSGiMRoCxjAI1QUq5Qs5FZj1MjcsNzw/ho0nl6lvXqd\n",
              "f2Ok4EF1q0ZSaQhXxo7JyNZEuIh90axRrnl4fugIV+DQCSU91QXAUPXm1uVLTlKuIjjNCmShJbrz\n",
              "Lhsu6aiWYc9QZ1vc+OJ5Gv4pPORzw44nEKZpq6Vt1t/0Lvpf+ZUz7uQX5wlPhWOzAztoFOsl/1tv\n",
              "wgopDitymyFRJtJYULdnDwoNo+KpcG9bExC7xbMg6dOBoFoxELtLstHg1KG5wOqBCMa0eh5j8C1x\n",
              "5x3K2Zb+lY/IU7mUWFof4z5BtZuJCSWHqVKAf785i1VtDug6NejOdkAW4f5g4gJ/Z5U+ogoaPp8K\n",
              "v6AYTaBxoKVRk1UBYlbuFYJD/ifDiAGeo5TP7RsDu/IF/JW+p2bMFS9a3q6q+PIGnCNESDsgtbBn\n",
              "bD8zE6u8HlrZFyczMtIP3G/6Qd70cE/6rAhOPyzmbLqeXkj1dfZesFDze3kAmYimXjQaycrsLKRX\n",
              "bRbghOqxg2ZsZvYPhfskv2O5dAyrYX8JhSbREMAtEdzB+D/UMv2aLgnb7LbSFxhPve/nWqJ2jWzA\n",
              "F3VExEzyBfWm2PKOEa8dPbeegYKgQwBR76DcVhWLg7N3L6326LegN49AeVq6Int/FcEmy9PIJR6s\n",
              "B2lOhLtyKgeJKplUp0PG+a6sDEJ8iUN+i8DIKoUkBPZv0Ubw3tn2UQCff/g9nzEcnNkrVvsQ9KjY\n",
              "OhHI2OUXJUeAcE8zxTcpegYPjNMnghUJIzk8caxvcegMtAOUkMP7D8x4Z3cq0doHv2CXIkWzNgjQ\n",
              "Y/TEdRWtAIHYhtjRSIl1SC/3O5UhSulvd3A3UPZM+2R5YsCdG3YUMQL7AGq6e7QNVklej51oXtTa\n",
              "SrVop7QClRvp6M6CRHp7giJCLX0cJ00g035V5q2XRGlU/iYfoY2UARdJAQx+bCwiKHq41OzWN0A2\n",
              "McbwgemXArwo5GVmLNKtZUw1aK7yuX8RoByX07ir0O98GeUtK9Ap7V96j1dn+TLDaJ8wvhI4cQrV\n",
              "UZTu29UvjDB/VJWORadz1NIGQ63wLUwnAAABXEGeQXiCHwAljLCAALXVTTJpaZVYLhtKLjKXeNwT\n",
              "p7+yQZ5ydPs6cmE9PuP4sNO8iG4ZXJ3fZBmDavwF6DUYbTa8HLDKmwXlsJtZfBKG/X12ke26cebK\n",
              "NrZvvk2oGmsV0+bSWsZOBFUaoLQy5wBlnSsig94k+LGHuj59q2LBOR5Zga1KeOWaXmo+aQWRw7gL\n",
              "iDON2R4xIovSm4BtPRmTthPZLkAAAciLr2ZcN5tNvJCL8/1Nh+mj+qTrmkj8VeCetTuGYA/h2Zd4\n",
              "bw23Livs2ZzhN92b9IvFSupK++mx4x8Io5MkqJTQWH65kA+lsv+NbCJETdlQZaGFH+1918t7UNQo\n",
              "u/vvwDzJgPIuv2L+O19G5mHICkyaTQYwMcV50Pf3qwG4X29n2OgvjD7q1Fp0gD31L4SEoTzZWq8R\n",
              "hE8LKcgrwYEx5b9ISRghRvQzzeRJ43nD3XzdLq1i0Hu4YQAAAMYBnmJqQ/8AUu5BYybSgAnEXjzu\n",
              "LFyD+BXt5dHau8kS2RJQ4S3tcyzdszcdqy+b8rErqTfGPOiKf143i7RNebCrvQFKlZ9Py/2Kadnc\n",
              "PzNjptcGUF8V06Q+ZEK6xnLLvaq8VHjyPtngvoGz+6mhM+bWrV3zhcjIw98M0TolWylPgdjV2O/P\n",
              "HCrH+eCA3o2QTRngFHBb14kGKzkGwd60ol3BqZVbuHG9aEmlD46zX1LwDeWlMj3bK/UT6vjYtWhI\n",
              "xtptzqsemTAAAAaCQZpnSahBaJlMCCf//rUqgCa0TMXgATUcdMXOnFDbeFg/4vBFLWIqyuNbWFXx\n",
              "04TjslqfmlwyF6vWQsQ4v7bY95vuwZqRoIeadw7XqyKT6sXPJ/Ws5tkho1lppPi/gvhgbh1n/2zs\n",
              "HJ7UPmRLiwOaSIH1UxQXSqEtq2oc5HNfxVZzGLWptF8biPi0nLTYX34RPXW/i1l1AnbgwCOknBLf\n",
              "2u0jbT/kVRW6VvB+h2Z1Rg3Uaqyck2b2mZQdr2TvU9Q24c2BKuyKGfwCSI2gKLnJoYzqy+6vuFyN\n",
              "p4YJIFsr0QSzHwK8t5oWMlHhm4ooVFtF8fZnr4SZnXUUhM8Iw4JgM91VVfojV3aQAXSqPfK6mOee\n",
              "u6/GPhR7HgtHYrQMrFxAYuEJxt4sVH1ccrzDB9XLh5Rlw24PAtNZefDxilLTxYfmKNjNr9sGDRgT\n",
              "nJtOv+htACd2fa33cnG9J47IGlijPrw839pWbUf5GZl4NwsfkvnrkFkmrigtGgMUFZbeVVNvP8FT\n",
              "tQs0ALCGUDYEsTJZH/X78HMuEKa+Ck8oKogI0tdEcpCJxFmlc0igqftU+cXuq6dM3YzMMO3KSxvC\n",
              "UXrsB3lIT53H2LefpVHno2IhKjM6MOniFkxDMLGK3UYW1pOXKjsfaoIT38pkSPz683bPIjRisC+a\n",
              "mq0L/qzmmmwPxHX1n3hdiOiC5uT2VbidfpB39YbBGZSnrHjWo59JEAMKA8It83bP92VdiKdgSWBp\n",
              "hoqEvfs2p8vxD+C4PT2cBhtfKDqCEs82n8HtOVZYjWujEU0X4g3yEb4/b0xIndf0ELVTy4rI+zOF\n",
              "0j0z3YQGsos3wsv2tIPPq7XbvEEKg6JwFbjV4FpqLbJDGjUByepcp/fTxvoW9ba/vUUkI64GSHu9\n",
              "BAL1hnEh8fFjGO2Rbrz8drokXwY37vsLQzojMxtSr1L79Xc3joSph1DA8LNw9qc6KIjsBzkKxFdf\n",
              "wd4qKjCG+MM/qk7drwTKhs1dxORdWixrsA6c0HS7q5wixDDT+YYtrftvCfJZeNgCC2x+PVBeG8JN\n",
              "2vbcQPpUehy3lW7Ul/V90SKm/1Ug6w9REe3/8lte02XOtg7JwCla7u0eQEyHfh0mwU+XETp7GP+J\n",
              "6nvHSddeT7bn+4OOA/5e5LZvlsIFgOzEQ/PyPwXNCnS7LubDSQDbmPaISSz7KZMRxznugsp86qO2\n",
              "MN5cZeFuQUjzsVnvlWoB8gQAxlKHtXgipT+xy5oDi3vt1Tv5HnTEjo6apOsKFpKtEB9Xx3qys+B0\n",
              "FhM1GiD2xQoWnRO/MB5q0pwxuN+p3sNULiKobFN7PSKdXt2n4O+7LViowWaoJfmX0w+Aq3aPRD8m\n",
              "F484JJfUJ+ddsAiHVUUMh/zJdJot96ARNK4UWmXeIydYibQDcekwfRAC37uSxDiw+Qy0Z/xCs1O5\n",
              "fIbSjMC6PNVxX6K7I7WCYHuqvqsYGdDcuswi/wb1loeEamWI5bUaE7FCdO7TMqvfgQ40M5/9S2kj\n",
              "EHYJqSJV3S2LqK3Hv95gswMFSoL8kYFxc+ArDY+38f/yisXURIdv6NKArrulPh+DJHu0uxFgFiQB\n",
              "5rq3SVJUMHR5vbEL/aMU3PhI1DCNkKGDYh9fEkPJDHqHEOAtJNS7++t9n/yMv7YC6Zm8BOIru4bY\n",
              "DxPLi7lpebsvpWAH4Wa7RMnBNNUxBkaDi4uHo6y+o/wwLwgnSYSo9CHaXQpLK8p/IedpG9DrmCso\n",
              "VxIFgB34IAcEJ/x7S4TL3i1IV+1tbMqZTVmp49euryv8+y/l8Ypto++WWWmGsuI1F2PbAL/2eOh0\n",
              "pTeLUd86va23IAgsXMy9pKZt5NCfKL+Ncf8sBMRNYhm+NDlCbNuzr1/kb+SzH4Qw1X5obd8aI9MV\n",
              "VVN1BcGWx7hPKw+wbZfidlUasfcb4C3pyTFqa88YDDsqD7udCVe23WhV8BtVAVVvaE/OXtSOKS46\n",
              "ZboYngW4C7u5Q81rBTXQeoIIsA+BbQFG04Oua0c8b/vR79NLUK40Gz5ieapX3UZLm4+q3UBTXf41\n",
              "VnEoIlGfHl0CMu6PG/kAEaCkyPjfRWbnPbNMuks2siH4lSRquSyXBPPsHWBH5Uq8unLWjvPci8Wk\n",
              "3sB9AG0eAYakRMff/2xXXfmJwvKPh4sUOiK5lA6SJONJiAVwloHn6vFQPHw6eXV4qB9rwr/CgOV+\n",
              "4eeSKW57HE+Eds2ISTEAafoJKhAkAEaYgQAAAT9BnoVFESwQ/wAlmvAAJVNX9Xqle+4NofhM1/Wd\n",
              "4lpjHdVeqndt9fK/PojVYDkfTlq+e+n9kyX7hY4xa46/+WID3vWv1gkLgrPDmZREp595xCYI21Y7\n",
              "64u8R7S3AgU4xraUynauF4H7TUVZIN33UHuLEw0PWhxQ04WayoY43B7W4zcWKeISG99gkcQxWcJ/\n",
              "te57szpEnImJUm9c3GbtZ3kn6eaAvaMicyjs0w6TtQXe/SL4eC3+f/JD1RgBJcvGnQJY/57tzvk7\n",
              "PaVB/wrQ0CK27s8ISgHQF/nKS6OuOOcLIbOe6EA7hO5VHj2CgdG3bHa+wNl06lT384sCcErvx+Vp\n",
              "bNjnc73f2JE5na14dq2qDYXEGNOp0lL6KL8ps4ZFxo/ro7H58gswcJ01rTiT/Rwplf8JryYg0/Bq\n",
              "X6/3sg45AAABKAGepHRD/wBTKYX/oAPjDeyoXvET/j4VuDzM1eRjhG2/sp6LODx26E6rdeiL/YAb\n",
              "DAmKjZXHQFga/hNzrcoRVj6pMB9YZRE3KGbMRNgO6y6E4nSKkDehpsMykfkrN8FpZvIPGkT1d6i2\n",
              "Rt/KgnFQbCPagXogTVIUOINPsCi+3TqBO2IFo0WunBRYVt1GD8jP0XDbQhXxAFj+TVB6aGobaEBP\n",
              "LCG1uQaTGjIgzXaJnSxFrMn/Z+8gPePkXdkZm18goLdbWg1Mu4DcF63KyfjJ6zgyPvS0PrWDdUZX\n",
              "ggKDxgWx8c3UCaJpLvnW986dLafzSsq4eU+fB2rAUGTA6nm87vu7agEiyPjHWbooRy8090RSxSCK\n",
              "whxtbGP5pdwPpiVU+8j8oim3vxJxAAAA7AGepmpD/wBSOPX1OTwAkoiV3zFWvSDZA3gcipX/9RY0\n",
              "cPYjBl76Hu2HlFbZdrcfPBhUezvnj4wwE1C9y0HXV0GzBv4rWPP/X5AfEE1CvZEd7p/vIGsLTkDo\n",
              "H6lhyAK1+7YTbJbgtQkNgPJCKets2SVloxHP7UE29dtE06QNf8YldF/+6cbjUwrpIINTanI60Kzt\n",
              "OhAi4iiPrk4Wm/yMiZ4dllfD4LB5Oa3JgH/c01fwK6iq9x5jUK0FYYJHw8DTyDfHDSwu3oDIVyAv\n",
              "80pJKSTdqf2ZdNihCEMwRHo5bQb0xcPniE4vXhdUknVhAAABRUGaqEmoQWyZTAgn//61KoAmislA\n",
              "AWqEtvEFACSXnlqtZ1Rq0khA3rj5exovbOdTcX2KnV41fG4HWZ+aViTLKM7wHB7dFtpPPdVCuOqN\n",
              "O67t6iOD0rnSK02zyR8vQRzzlyam9YtwbiCXpMWCzAKSmTxBu/t78Zv7+tpXaMZYozhpdWpkvwQ3\n",
              "Ew0Ip8j8+YtrAJ82gzWfHCReg6Jjgft5hMdsmNildOB/jEAECwExh/h7FA6npG1tbX2fKpo6D//a\n",
              "5rhPkNVRr6tQ2evA0cCGZlJ8ifZi7gi2XZ9TevPjHXiY05alTSR7V4a2I1jrY/x/pMm0HnZb4BXO\n",
              "o34zlYBJN4CX2lc0GIPP+W+oNW9Kx3CVGutFXftij6NM3xbJ3/h2wEbtnlWMopehqnph/LYyE2Vg\n",
              "nbhK30DTkdYfS6VG+5LU0dLgTsAAAAKwQZrMSeEKUmUwIJ///rUqgC54ZszDLmPYd1f5J0WUdgBw\n",
              "pOxJobUE8chFhFs7J/8IAwBOEaufTdF/55DfPzEQ/brmazAcYNzW/nEgFlE2TK/VjTtg+bOOqbcR\n",
              "XnQGWgkhS13crIYV+bxKN/YN2oOsBNVLgRbCHMMlV6gOyVpBTswCZdH1DN/W36oF9F63Mob5NlYb\n",
              "RcX3T7Q8m7QE5Oz+cR5+DOz/Fo4RXwkwBG75nCoNEO2JQaBpsWD9dDfAaHFRwkU4XAKFMRWiSO2H\n",
              "2g3/Yr60GWk5FKaJjiX5y5HUHW7Uyy3jHDt5cpUBWItDkmMpph79VjxBWyfnxMiAJaCS5G9D52me\n",
              "2GPVoNRiHgrd0YUM4Zo0ncUMPD/Nw8Wf+j4MwfYgyFaUQlrTYZUB++Wgqo8aek7E71ahwCTSeJe3\n",
              "++cM3RrMEA5MJDg5Iw3rUaBz6nu5sun8eCtbjnnr3D3YBukN2acarGB+TEzCtOdRiRT19j3aEEfd\n",
              "Qe5uZz274YKyyQC2u/eZc0n3yfSaPwedRS/2FIYke5LAInQmOCgunqJZr5xc7Ip8dNwS8kmUD0VA\n",
              "JfikKLcxgsAiove0MpLKZKtg6kucglg9bd0za9FK0sIrYnHAGe9hkVtovvMUEeSX5raJw9NB6Byw\n",
              "G410w07VYDXoEaOHsdQ8g01JbggRbAbNi/RpABIW5mfy5QwD3qgnYReVnU+974M39F0ZUnBCGe83\n",
              "CNlu+cVeHNTzDTVyUAnyILj6P5wt+R7ww7nQf/QRvSHcps22GLPjgnLqVqZXHyHL3B7Yg+glFN4C\n",
              "G9wydfzITxjkwh3D1kS2OVkELOWrmS0maLuMZVfgqR1Pna5NnXymbNrubQfEyBhUf/1oWVc8YG9I\n",
              "+mRjQaGCg1usYw9DD0a10Eb7iQgVBBx/o9olaAAAATtBnupFNEwQ/wAotDpk8tlUv1UP8x1ACSj5\n",
              "KgZpKmIURbVO1UhO0Wh62Aj0uwMhaWQBhS3abWr99XJzKno1/oZTqf/N2eGKVoYjCHUxPVNPUgrr\n",
              "8SjOBBwxjkdp98y2bqE4hLx4BwdvpfBMkHKR45JgSdVLkkvIFRb+K9WqxhF4f5au2U9Mg1wLQUtc\n",
              "uEPND1Kni6uoxzEUhkabbBzlmJuVuM7AEuaj/5msfqU7EuE/pOkNHDHAJ1uuKoN0jw4cfFztIAlf\n",
              "wOU4hDtkbRai3nZe52HA5byNl5+ajyFV2E2tTKFsWRffovXdLjOYiV1ZueWIEAF5qgS90Sp+rz3N\n",
              "LEXWSVSs8mR6TR+xWFya/b1kmULRZb1fImRVYMF5FHAmwUY/PMhKiW/SEg3O173+rMr4PrGsQlFY\n",
              "FK2f1hcAAAC1AZ8JdEP/AFoFt0QJBsrVG/fwAljWg5V700Oq9wnY9X2AlILZbrq2+Yskbcf8T23h\n",
              "mlZ24tYxYjsMQ/BacoCl2YtCRG59pSrsTlgzCq9hIs6WINn8rlBMvq9kpEShdQf4MNKBPpYfWD0r\n",
              "CwXEjffcfcD0EnU58vt92WHZ3HuNAuZEraZJLwpnpWyJ+DvEnvq3AZ1xztskPULej8uLmUIOtPRs\n",
              "Fr9nuJpwAHWfjslJKSm8Xp5yzAAAAM0BnwtqQ/8AUQGXotfHABY0HH+uUfm76jbyVQAX3DP4MoPm\n",
              "cc+eLGHjUOzf7+F/qDxiNrWGROHP/Rlz3xmyiloPA25YY3B7X/5UdYATbe8FW3E6OGuAvfqgIpNx\n",
              "XR8XxD2piAgcvg51PVLTlB5mOFQGZxQ0V69dEJZWSlyZMjEeFQZNuH8EJJh7vvQs9sNgpOrcm9yS\n",
              "zmMngJcpx9uUUHAwfopc6Xyb3S3lkRTnPhWYd69/CHV9IwKSGoCqBqf/kaAwW3TzaJQMl/lcwJxI\n",
              "AAACEEGbEEmoQWiZTAgl//61KoAkhGjNwAXIIG58HtS6oicrMwFQZFRFtBFYQcOV+G9v2lsYRSUZ\n",
              "UXAei5eofhpfeVOu4H5f6pViv379qX+MwxL7g/UGlsRUABF44ZUs6BS2AQb5/mKo/Cb3tADrTOlr\n",
              "eZoJCoNwGhL0WBHU7iCQAefSC+oP1MPAk9RPbxvOptFN7B+13o7AhgFj64Pvc2pn/tQnWGW2ERc1\n",
              "LDvL6pnKbILIKLE03JmHOZYYO0iWJbfucuUGnlY8gHV+iA+es/fU47A1W5Q1pj7CNUrzAKe5ImeQ\n",
              "CqSAjRr5OlThTpuCbIP2b+VWnby+fPmAA7z9YZ++MIR8SLY7/TZnUZOx21hvg7umREV8VaNO/2NZ\n",
              "ARRyuD+dMuU8qRjyPasD2RuODQSJneQs5WBLao5YrnvxWdhMIfaj//hy4XHazd6bCOD5O8LJrkrt\n",
              "Rl/YVB2/F5VtQN04KjYg99L7mpC+yLfDelpOiyzt6KDfiN9w5DXyJh0TzrfFXG2uixz0W275wETe\n",
              "Ca/KLd1IxBZG3uIsPa52jlFdEFCtJfZsbmbFlRvaX9bs9klvvTj5Od1NrXry1VcXKacWv01OreE4\n",
              "5uDCHGaUqbRAvYgcE6mNhF7NOyq9ipc0SBvwnEjI5bRrybf3scgm0BFMAC/L6ZgSCSxoJ/9CyjKc\n",
              "e59DOqluiDRD2+CRmv0dIsZRDQAAAVpBny5FESwQ/wAkisdn1ACL/9xNE7vh9CXNn2E3mC3tP/QQ\n",
              "Tq1eSfjvK1/mW07wjbkbap7RH4Dn/kAICydk0dU1sYkWnof5HYZUGEGASD0h44pH3ZvFGEG4Or0p\n",
              "EFqZCvMqTtyzBM6sle+7uuqsBWeZJGZ0UXUKEZvsRivUBq9URUbqHjw3BJmQwq/rhlutOMNVczHy\n",
              "MSYgEXPYqwY9zmU2Iv9lRwuWMHvgFID6nip3KQGGJnilmDCoTpenJeZGhHab1f6qkP47btT5hd+w\n",
              "cVhG8fzFEmqYPxNahwBLaehZjMU5HE3BwBrwL6IH7FtmPW3tzsP8cRryXO/QfvnNqfAOXsy+FdhY\n",
              "4kdjyF9HAazZh77PZCWOR/rujLqkpZkKKQqKr8AjN8ZVhdAiJhH6xrDclurzEupUDSv83ONOLyk0\n",
              "2aJy97t+JTVYdybS3Bvi7InadFSRZzaRhJX9AAAA9wGfTXRD/wBQPufYgLenqAElESu8K5JVr+Ht\n",
              "nPDSpcjFRQTXkMsJF/I02HTMU8DUmuyfdeTQUHrU8FOW4NwYSOmpPSQOI3u1xlUd2YCZdPfdIlsL\n",
              "nvuY3K1DsIVcPotaup+N2XxcWt4smppuczqfRq1Q7E7Zq80S+3PztCy/gPHHpI3JkT66VHMTdYMS\n",
              "I8G0f15UzCKeXj8kfulcAm9uikQIIqBSu4TwKQRC/zFKPY31ZdwYbr1n+upIWG/u1/oUY//x3HRH\n",
              "ZJxOhXn67FcUgcWsvIlRiOzwPiwuSUYY6PcckX2OP8CIyVtp1vnbnhoGcLNYfN931A0AAADfAZ9P\n",
              "akP/AFERmfrQAfGKmNaWrwftzg2jDwxpiv7Xh9saaWNR99zWThaw2N0gm2w8qt1AzeZys6oaxT52\n",
              "UYv6iG2RkqCiOjJPgmlJdk0TQFLgaXBA3GkViP9RbWnUX4huEayHE781Gc+m2/R8iEjjkPEfla9+\n",
              "ekAqxEB5KCJbPuOsW2bKtgSS7uCCg/G0u/S7HN273MEdNwQjE0UeHThApjQIoNbs6NyDyQ8N+KDy\n",
              "jCCw0whSY3eLyq/uBqHASLK7aQMbgELENqopXJaCFxDVXpbtiFrk6WA4L//XuWjhkAAAAZJBm1NJ\n",
              "qEFsmUwIf//+qZYBJThim4dgBLKIo3jKP/O1B7Yf1BQq2uC7yya48njtQlNb8nrdhC8j1Hn9lzNv\n",
              "nFf1UFLk7UdovTvYSza+9Ny/wzbFB99eycmi+cbYiEv9LCNCO8fGVjDbneFJcmIVTa63OuVadW9a\n",
              "RH+p6yGUnO4akRoPKI6hdSWzKgrk1u2vF57MBHNipahAOyoJ7mcOkZ2O9J/DXvDgQszi708LckG9\n",
              "PwzzzKPhFKB+Wc225ExEwcpjqXvEolVqbPP4lBPn30t8z6lU4nnlpH3hc6CnQZGPwKBuLuJv8G9b\n",
              "gGowQneAQL30YpsPWLhrK9j9Wazy5w+6QmAlymRHeLLfdgj3fgkR5lYJJTMrx8ZZab1U9RYa/lBj\n",
              "c5BRiFrznmBq38PJY+vT7G8RajY96Elz+r5M73T1oh620Df/qqDkPkT7RlLDH+xnvD7X1UqBjiu3\n",
              "y+fwgV8mmhVMLwkcs7drEGQLCQuOi9v/PVceUweTfgli7xFSgXGIHE6gew2m7byD9dTN1ViJDTIA\n",
              "AAD3QZ9xRRUsEP8AJYtrwUFgAD4wEMWMUGnsZe5AMVvPRPZyG9foWdpO8hnoNdX/7TbX42M2+mEQ\n",
              "13+OBbKon8X18E0S4mtgVcKoMPARc5F4/BKu3J8hgMt0NCnmxozVzF2uTNqnSW4/9R5E3fOIQW4J\n",
              "uyiqAk/fEhhNB4I9xKom5SdCuS196I3l9mwFmA5wQm5c7MWeHbYaA6I70zGNAQWF8OsRxM5k5WWn\n",
              "SdW+r8J7/hBEwJHntMtcOzYqUiVlSTgOLMr7bo6l7AO4q7G6iemThX4xBrXS54wT4+cFoONoQs+1\n",
              "GtUCrBXagHQmsL4rV6yZAUZBUk4uYwAAAOABn5JqQ/8AU1HyXXoAHxlRp4I7hKY0Qn4WCcPg06bm\n",
              "luxxxG54eQJ2Cjhz3d0P2/L3MzmdlvO0Sxzy/UhS0pNB2nBwbI6afvWAFZ1c2bWVi+XSUbyAUshm\n",
              "hmzd4DnUrFx6EXCg78bxKosQrAgs49oeM0kaW8v32tna/H0k/UbGfKd/Gn2xznYOIwdld8DzavXU\n",
              "2r9dewR4A0mwZkrLEaumMuY9Y4b/uSZeB3xIMJkqu2zaeBhEPE+gLLOVwmSGjs46BYTgDi2Se+XI\n",
              "e/qV7CUDTXfasPK61zNDgPePKbbgGAAABA9tb292AAAAbG12aGQAAAAAAAAAAAAAAAAAAAPoAAAP\n",
              "oAABAAABAAAAAAAAAAAAAAAAAQAAAAAAAAAAAAAAAAAAAAEAAAAAAAAAAAAAAAAAAEAAAAAAAAAA\n",
              "AAAAAAAAAAAAAAAAAAAAAAAAAAAAAAACAAADOXRyYWsAAABcdGtoZAAAAAMAAAAAAAAAAAAAAAEA\n",
              "AAAAAAAPoAAAAAAAAAAAAAAAAAAAAAAAAQAAAAAAAAAAAAAAAAAAAAEAAAAAAAAAAAAAAAAAAEAA\n",
              "AAACQAAAAWgAAAAAACRlZHRzAAAAHGVsc3QAAAAAAAAAAQAAD6AAABAAAAEAAAAAArFtZGlhAAAA\n",
              "IG1kaGQAAAAAAAAAAAAAAAAAACgAAACgAFXEAAAAAAAtaGRscgAAAAAAAAAAdmlkZQAAAAAAAAAA\n",
              "AAAAAFZpZGVvSGFuZGxlcgAAAAJcbWluZgAAABR2bWhkAAAAAQAAAAAAAAAAAAAAJGRpbmYAAAAc\n",
              "ZHJlZgAAAAAAAAABAAAADHVybCAAAAABAAACHHN0YmwAAAC0c3RzZAAAAAAAAAABAAAApGF2YzEA\n",
              "AAAAAAAAAQAAAAAAAAAAAAAAAAAAAAACQAFoAEgAAABIAAAAAAAAAAEAAAAAAAAAAAAAAAAAAAAA\n",
              "AAAAAAAAAAAAAAAAAAAAAAAY//8AAAAyYXZjQwFkABb/4QAZZ2QAFqzZQJAv+WEAAAMAAQAAAwAK\n",
              "DxYtlgEABmjr48siwAAAABx1dWlka2hA8l8kT8W6OaUbzwMj8wAAAAAAAAAYc3R0cwAAAAAAAAAB\n",
              "AAAAFAAACAAAAAAUc3RzcwAAAAAAAAABAAAAAQAAAKBjdHRzAAAAAAAAABIAAAABAAAQAAAAAAEA\n",
              "ACAAAAAAAgAACAAAAAABAAAoAAAAAAEAABAAAAAAAQAAAAAAAAABAAAIAAAAAAEAABAAAAAAAQAA\n",
              "KAAAAAABAAAQAAAAAAEAAAAAAAAAAQAACAAAAAABAAAoAAAAAAEAABAAAAAAAQAAAAAAAAABAAAI\n",
              "AAAAAAEAACAAAAAAAgAACAAAAAAcc3RzYwAAAAAAAAABAAAAAQAAABQAAAABAAAAZHN0c3oAAAAA\n",
              "AAAAAAAAABQAACwlAAAFbgAAAWAAAADKAAAGhgAAAUMAAAEsAAAA8AAAAUkAAAK0AAABPwAAALkA\n",
              "AADRAAACFAAAAV4AAAD7AAAA4wAAAZYAAAD7AAAA5AAAABRzdGNvAAAAAAAAAAEAAAAsAAAAYnVk\n",
              "dGEAAABabWV0YQAAAAAAAAAhaGRscgAAAAAAAAAAbWRpcmFwcGwAAAAAAAAAAAAAAAAtaWxzdAAA\n",
              "ACWpdG9vAAAAHWRhdGEAAAABAAAAAExhdmY1Ny44My4xMDA=\n",
              "\">\n",
              "  Your browser does not support the video tag.\n",
              "</video>"
            ]
          },
          "metadata": {},
          "execution_count": 18
        }
      ]
    },
    {
      "cell_type": "markdown",
      "source": [
        "Observamos que o modelo é capaz de convergir a uma solução ótima que separa as duas classes."
      ],
      "metadata": {
        "id": "Oawoawx9HIP5"
      }
    },
    {
      "cell_type": "markdown",
      "source": [
        "### <font color=\"yellow\">Agora podemos usar nosso modelo treinado para atribuir uma probabilidade de que uma flor seja do tipo Iris Setosa a partir do comprimento e a largura de seus pétalos.</font>"
      ],
      "metadata": {
        "id": "aJ9DnYltHWTI"
      }
    },
    {
      "cell_type": "code",
      "source": [
        "w = perceptron.ws[-1]\n",
        "w"
      ],
      "metadata": {
        "colab": {
          "base_uri": "https://localhost:8080/"
        },
        "id": "pViRf4-zG9w0",
        "outputId": "ca499aa6-c499-4ce9-ae82-7660b687a261"
      },
      "execution_count": 19,
      "outputs": [
        {
          "output_type": "execute_result",
          "data": {
            "text/plain": [
              "array([ 3.1121193 , -1.14317047, -0.70370935])"
            ]
          },
          "metadata": {},
          "execution_count": 19
        }
      ]
    },
    {
      "cell_type": "code",
      "source": [
        "x_new = [1, 2, 0.5]\n",
        "\n",
        "y_pred = perceptron(w, x_new)\n",
        "y_pred # Iris Setosa"
      ],
      "metadata": {
        "colab": {
          "base_uri": "https://localhost:8080/"
        },
        "id": "fZrg_ccrJzR1",
        "outputId": "4bf17827-94fa-456e-f083-e208f6b1db43"
      },
      "execution_count": 20,
      "outputs": [
        {
          "output_type": "execute_result",
          "data": {
            "text/plain": [
              "0.6163120194730394"
            ]
          },
          "metadata": {},
          "execution_count": 20
        }
      ]
    },
    {
      "cell_type": "code",
      "source": [
        "x_new = [1, 1, 0.5]\n",
        "\n",
        "y_pred = perceptron(w, x_new)\n",
        "y_pred # Iris Setosa"
      ],
      "metadata": {
        "colab": {
          "base_uri": "https://localhost:8080/"
        },
        "id": "uGaAER_pJ4zY",
        "outputId": "aa1f6cc9-08d1-4ec9-9dbb-171b49ff5d79"
      },
      "execution_count": 21,
      "outputs": [
        {
          "output_type": "execute_result",
          "data": {
            "text/plain": [
              "0.8343939887777257"
            ]
          },
          "metadata": {},
          "execution_count": 21
        }
      ]
    },
    {
      "cell_type": "code",
      "source": [
        "x_new = [1, 3, 0.5]\n",
        "\n",
        "y_pred = perceptron(w, x_new)\n",
        "y_pred # No Iris Setosa"
      ],
      "metadata": {
        "colab": {
          "base_uri": "https://localhost:8080/"
        },
        "id": "bAgtVLD0KBOO",
        "outputId": "f5f7da4f-4f72-40f3-a416-e14c237e58b2"
      },
      "execution_count": 22,
      "outputs": [
        {
          "output_type": "execute_result",
          "data": {
            "text/plain": [
              "0.33866551968712205"
            ]
          },
          "metadata": {},
          "execution_count": 22
        }
      ]
    },
    {
      "cell_type": "code",
      "source": [
        "x_new = [1, 4, 0.5]\n",
        "\n",
        "y_pred = perceptron(w, x_new)\n",
        "y_pred # No Iris Setosa"
      ],
      "metadata": {
        "colab": {
          "base_uri": "https://localhost:8080/"
        },
        "id": "wenkjrQcKDx3",
        "outputId": "eb0f8009-5f34-42bb-ebb5-cfdf7c5993b8"
      },
      "execution_count": 23,
      "outputs": [
        {
          "output_type": "execute_result",
          "data": {
            "text/plain": [
              "0.14034623285805609"
            ]
          },
          "metadata": {},
          "execution_count": 23
        }
      ]
    },
    {
      "cell_type": "markdown",
      "source": [
        "## <font color=\"orange\">O modelo tem mais certeza quanto mais nos afastamos da fronteira de decissão (valores mais pertos de $0$ ou $1$). No entanto, quanto mais perto da fronteira de decissão nos encontramos, o modelo tem menos certeza fornecendo resultados mais pertos a $0.5$. Como atribuímos uma classe ou outra? ... o mais comum é decidir um VALOR DE CORTE, `threshold`, a partir do qual atribuiremos uma classe ou outra. O valor mais comum é $0.5$ (qualquer valor por acima será a classe em questão). Este `threshold` pode ser modificado dependendo da tarefa.</font>"
      ],
      "metadata": {
        "id": "2cGFFQ6CKbBj"
      }
    }
  ]
}