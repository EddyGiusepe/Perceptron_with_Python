{
  "nbformat": 4,
  "nbformat_minor": 0,
  "metadata": {
    "colab": {
      "name": "The_Perceptron_Multiclass_Classification.ipynb",
      "provenance": [],
      "collapsed_sections": [
        "jygXv7UDkyOe"
      ],
      "machine_shape": "hm",
      "authorship_tag": "ABX9TyOkCbcMaJg9FlP/YeO5NF5i",
      "include_colab_link": true
    },
    "kernelspec": {
      "name": "python3",
      "display_name": "Python 3"
    },
    "language_info": {
      "name": "python"
    },
    "accelerator": "TPU",
    "gpuClass": "standard"
  },
  "cells": [
    {
      "cell_type": "markdown",
      "metadata": {
        "id": "view-in-github",
        "colab_type": "text"
      },
      "source": [
        "<a href=\"https://colab.research.google.com/github/EddyGiusepe/Perceptron_with_Python/blob/main/The_Perceptron_Multiclass_Classification.ipynb\" target=\"_parent\"><img src=\"https://colab.research.google.com/assets/colab-badge.svg\" alt=\"Open In Colab\"/></a>"
      ]
    },
    {
      "cell_type": "markdown",
      "source": [
        "<h2 align=\"center\">O Perceptron: Classificação Multiclasse</h2>\n",
        "\n",
        "\n",
        "\n",
        "Data Scientist.: Dr.Eddy Giusepe Chirinos Isidro"
      ],
      "metadata": {
        "id": "4qAwxWzpIZN3"
      }
    },
    {
      "cell_type": "markdown",
      "source": [
        "Este script está baseado no:\n",
        "\n",
        "* Canal de YouTube de [Sensio](https://www.youtube.com/watch?v=8DEuF72Hyis&list=PLkgbkukKg_NpdJPhhHbemaWHNQCY-lmh1&index=9)\n",
        "\n",
        "* [SENSIO - Inteligencia Artificial](https://juansensio.com/)"
      ],
      "metadata": {
        "id": "EqlrTWufdF0-"
      }
    },
    {
      "cell_type": "markdown",
      "source": [
        "# Classificação Multiclasse"
      ],
      "metadata": {
        "id": "AYn_2Xd7KgZR"
      }
    },
    {
      "cell_type": "markdown",
      "source": [
        "A arquitetura do Perceptron que até vimos nos a permitido realizar tarefas de: Regressão Linear e Classificação Binâria. Neste script vamos melhorar a implementação de nosso modelo para ser capaz de classificar várias classes. A arquitetura do perceptron é:\n"
      ],
      "metadata": {
        "id": "nLhI3Jb0VqYL"
      }
    },
    {
      "cell_type": "markdown",
      "source": [
        "![](https://www.researchgate.net/profile/Shibani_Singh2/publication/321141639/figure/fig2/AS:572731935727616@1513561342872/Schematic-of-Rosenblatts-perceptron.png)"
      ],
      "metadata": {
        "id": "WqPuvMO-Ybt8"
      }
    },
    {
      "cell_type": "markdown",
      "source": [
        "<font color=\"orange\">A ideia é a seguinte</font>: Se um percepetron é capaz de realizar uma tarefa de CLASSIFICAÇÃO BINÂRIA (identificar uma classe em particular de entre o resto), podemos utilizar tantos perceptrones como classe tenhamos. Nesta configuração, cada perceptron terá o objetivo de identificar uma das classes em particular do resto."
      ],
      "metadata": {
        "id": "GsHBaZTnYdtf"
      }
    },
    {
      "cell_type": "markdown",
      "source": [
        "![](https://camo.githubusercontent.com/bcb4c2d2684739dd367e6e61d96102bb8ba28cd8/68747470733a2f2f6a6c6565776562626c6f672e66696c65732e776f726470726573732e636f6d2f323031372f30332f736f666d61782d72656772657373696f6e2e6a70673f773d36333326683d353237)"
      ],
      "metadata": {
        "id": "NvxtQKcuZjwD"
      }
    },
    {
      "cell_type": "markdown",
      "source": [
        "Nesta nova implementação, teremos tantas saídas como classes (podemos usar isto também para regressão, cada saída corresponderia a cada uma das grandezas de interés). Calculamos a saída do modelo da mesma maneira que no caso do perceptron de apenas uma saída. A diferença é que na última capa aplicaremos uma FUNÇÃO DE ATIVAÇÃO do tipo `SOFTMAX`. Isto nos fornecerá como resultado uma distribuição de probabilidade sobre todas as classes. Finalmente, atribuiremos aquela classe que tenha a probabilidade mais alta.\n",
        "\n",
        "\n",
        "$$ \\hat{y} = \\underset{k}{\\arg\\max} \\ \\ \\sigma(\\mathbf{w} \\cdot \\mathbf{x})_k $$\n",
        "\n",
        "\n",
        "No caso do Perceptron com uma saída, nosso pesos estavam representados por um vetor de comprimento igual ao número de entradas (mais um se levamos em conta o BIAS). Agora, ao ter várias saídas, os pesos estarão representados por uma matriz (tal como mostramos acima... é uma matriz de apenas uma coluna). Este modelo também se conhece pelo nome de `SOFTMAX REGRESSION`.\n"
      ],
      "metadata": {
        "id": "sUHaOqJPZufR"
      }
    },
    {
      "cell_type": "code",
      "execution_count": 1,
      "metadata": {
        "id": "8mQT9loxIC9F"
      },
      "outputs": [],
      "source": [
        "# Criamos nossa função SOFTMAX\n",
        "\n",
        "def softmax(x):\n",
        "    return np.exp(x) / np.exp(x).sum(axis=-1,keepdims=True)"
      ]
    },
    {
      "cell_type": "markdown",
      "source": [
        "Para treina o modelo com o algoritmo de `Descenso por gradiente` necesitamos uma `função de perda`, uma medida do error que nos sirva para otimizar os pesos. Neste caso utilizamos a função de perda conhecida como `Cross Entropy`.\n",
        "\n",
        "$$ J(\\mathbf{w}) = - \\frac{1}{N} \\sum^N_{j=1} \\sum^K_{k=1} y_k^{(j)} log(\\hat{y}_k^{(j)}) $$\n",
        "\n",
        "onde $y_k^{(j)}$ é a probabilidad de que o elemento $j$ pertença à classe $k$ (normalmente $1$ ou $0$). Como podes observar, no caso que tenhamos apenas duas classes esta expressão é equivalente à função de perda que utilizamos para clasificación binaria no modelo de regresión logística, a função `Binary Cross Entropy`.\n",
        "\n",
        "Como sempre, para poder aplicar o algoritmo, não só necesitamos a função de perda sinão tambén sua derivada com respeito aos pesos do modelo que queremos otimizar. Calculando a derivada da função anterior obtemos a seguinte expressão.\n",
        "\n",
        "$$ \\frac{\\partial J_k}{\\partial \\mathbf{w}} =  \\frac{1}{N} \\sum^{N}_{j=1} (\\hat{y}_k^{(j)} - y_k^{(j)}) \\mathbf{x}^{(j)} $$\n",
        "\n",
        "Por motivos de estabilidade numérica, é comum combinar a função `softmax` com a função `cross entropy` da seguinte maneira."
      ],
      "metadata": {
        "id": "OT5hXQardCES"
      }
    },
    {
      "cell_type": "code",
      "source": [
        "# Aplica softmax + cross entropy de maneira estável\n",
        "\n",
        "def crossentropy(output, target):\n",
        "    logits = output[np.arange(len(output)),target]\n",
        "    entropy = - logits + np.log(np.sum(np.exp(output),axis=-1))\n",
        "    return entropy\n",
        "\n",
        "\n",
        "def grad_crossentropy(output, target):\n",
        "    answers = np.zeros_like(output)\n",
        "    answers[np.arange(len(output)),target] = 1    \n",
        "    return (- answers + softmax(output)) / output.shape[0] # Isto é a Derivada"
      ],
      "metadata": {
        "id": "ORYCSSnTc3Xc"
      },
      "execution_count": 2,
      "outputs": []
    },
    {
      "cell_type": "markdown",
      "source": [
        "# Implementação"
      ],
      "metadata": {
        "id": "1GDAvV66j_Tw"
      }
    },
    {
      "cell_type": "markdown",
      "source": [
        "Aqui vamos a melhorar a implementação de nosso Perceptron para que seja capaz de classificar várias classes."
      ],
      "metadata": {
        "id": "A24kJFQakB4p"
      }
    },
    {
      "cell_type": "code",
      "source": [
        "class Perceptron():\n",
        "  def __init__(self, inputs, outputs):\n",
        "    self.w = np.random.normal(loc=0.0, \n",
        "          scale = np.sqrt(2/(inputs+outputs)), \n",
        "          size = (inputs, outputs)) \n",
        "    self.ws = []\n",
        "    self.loss = crossentropy\n",
        "    self.grad_loss = grad_crossentropy\n",
        "    \n",
        "  def __call__(self, w, x):\n",
        "    return np.dot(x, w) # Produto escalar pesos . inputs\n",
        "\n",
        "  def fit(self, x, y, epochs, lr, verbose=True, log_each=1):\n",
        "    x = np.c_[np.ones(len(x)), x]\n",
        "    for epoch in range(1,epochs+1):\n",
        "        # Batch Gradient Descent\n",
        "        y_hat = self(self.w, x)  \n",
        "        # Função de Perda\n",
        "        l = self.loss(y_hat, y).mean()\n",
        "        # Derivadas\n",
        "        dldh = self.grad_loss(y_hat, y)\n",
        "        dhdw = x\n",
        "        dldw = np.dot(dhdw.T, dldh)\n",
        "        # Atualizar pesos\n",
        "        self.w = self.w - lr*dldw\n",
        "        # guardar pesos para animación\n",
        "        self.ws.append(self.w.copy())\n",
        "        # Print LOSS\n",
        "        if verbose and not epoch % log_each:\n",
        "            print(f\"Epoch {epoch}/{epochs} Loss {l}\")\n",
        "            \n",
        "  def predict(self, x):\n",
        "    x = np.c_[np.ones(len(x)), x]\n",
        "    return self(self.w, x)"
      ],
      "metadata": {
        "id": "SC_ZiVRLjHeL"
      },
      "execution_count": 3,
      "outputs": []
    },
    {
      "cell_type": "markdown",
      "source": [
        "# O Dataset Iris"
      ],
      "metadata": {
        "id": "jygXv7UDkyOe"
      }
    },
    {
      "cell_type": "markdown",
      "source": [
        "Vamos testar nosso modelo com o conjunto de Dados do Iris."
      ],
      "metadata": {
        "id": "YWTc0ChPk4Q8"
      }
    },
    {
      "cell_type": "code",
      "source": [
        "from sklearn.datasets import load_iris\n",
        "import numpy as np\n",
        "\n",
        "iris = load_iris()\n",
        "X = iris.data[:, (2, 3)]  # petal length, petal width\n",
        "X_mean, X_std = X.mean(axis=0), X.std(axis=0)\n",
        "X_norm = (X - X_mean) / X_std\n",
        "\n",
        "y = iris.target\n",
        "\n",
        "X.shape, y.shape"
      ],
      "metadata": {
        "colab": {
          "base_uri": "https://localhost:8080/"
        },
        "id": "UD8XV1jqkwSW",
        "outputId": "1626b3ca-65f8-467b-d70c-0dba43c6a6fb"
      },
      "execution_count": 4,
      "outputs": [
        {
          "output_type": "execute_result",
          "data": {
            "text/plain": [
              "((150, 2), (150,))"
            ]
          },
          "metadata": {},
          "execution_count": 4
        }
      ]
    },
    {
      "cell_type": "code",
      "source": [
        "import matplotlib.pyplot as plt\n",
        "%matplotlib inline\n",
        "\n",
        "\n",
        "plt.figure(figsize=(10, 5))\n",
        "\n",
        "plt.plot(X[y==0, 0], X[y==0, 1], 's', label=\"Iris Setosa\")\n",
        "plt.plot(X[y==1, 0], X[y==1, 1], 'x', label=\"Iris Versicolor\")\n",
        "plt.plot(X[y==2, 0], X[y==2, 1], 'o', label=\"Iris Virginica\")\n",
        "plt.grid()\n",
        "plt.legend()\n",
        "plt.xlabel('petal length', fontsize=20, c='r')\n",
        "plt.ylabel('petal width', fontsize=20, c='r')\n",
        "plt.title(\"Iris Dataset\", fontsize=25, c='green')\n",
        "plt.show()"
      ],
      "metadata": {
        "colab": {
          "base_uri": "https://localhost:8080/",
          "height": 368
        },
        "id": "45HyQaPAk_kg",
        "outputId": "0acd9212-c588-4487-f277-9fee4d858628"
      },
      "execution_count": 20,
      "outputs": [
        {
          "output_type": "display_data",
          "data": {
            "text/plain": [
              "<Figure size 720x360 with 1 Axes>"
            ],
            "image/png": "[encoded data removed]"
          },
          "metadata": {
            "needs_background": "light"
          }
        }
      ]
    },
    {
      "cell_type": "markdown",
      "source": [
        "A diferença de exemplos passados, aqui vamos tentar classificar as três classes."
      ],
      "metadata": {
        "id": "M4ixk0p0masm"
      }
    },
    {
      "cell_type": "code",
      "source": [
        "np.random.seed(42)\n",
        "\n",
        "perceptron = Perceptron(3, 3) # 3 --> w0 (bias), w1 e w2 - 3 --> Três saídas (adotaremos aquela de maior probabilidade, mais para frente)\n",
        "epochs, lr = 50, 1\n",
        "\n",
        "perceptron.fit(X_norm, y, epochs, lr, log_each=10)"
      ],
      "metadata": {
        "colab": {
          "base_uri": "https://localhost:8080/"
        },
        "id": "b-TuIjLwlRrr",
        "outputId": "335cdc8b-630e-4b12-8c20-1a348f1f1da6"
      },
      "execution_count": 39,
      "outputs": [
        {
          "output_type": "stream",
          "name": "stdout",
          "text": [
            "Epoch 10/50 Loss 0.3992838232798919\n",
            "Epoch 20/50 Loss 0.290313203795845\n",
            "Epoch 30/50 Loss 0.23774032243503038\n",
            "Epoch 40/50 Loss 0.20631770086056744\n",
            "Epoch 50/50 Loss 0.18530798162642056\n"
          ]
        }
      ]
    },
    {
      "cell_type": "code",
      "source": [
        "from matplotlib.colors import ListedColormap\n",
        "from matplotlib import animation, rc\n",
        "rc('animation', html='html5')       \n",
        "    \n",
        "def animate(i, resolution=0.02):\n",
        "    ax.clear()\n",
        "    tit = ax.set_title(f\"Epoch {i+1}\", fontsize=14)\n",
        "    # setup marker generator and color map\n",
        "    markers = ('s', 'x', 'o', '^', 'v')\n",
        "    colors = ('red', 'blue', 'lightgreen', 'gray', 'cyan')\n",
        "    cmap = ListedColormap(colors[:len(np.unique(y))])\n",
        "\n",
        "    # plot the decision surface\n",
        "    x1_min, x1_max = X[:, 0].min() - 1, X[:, 0].max() + 1\n",
        "    x2_min, x2_max = X[:, 1].min() - 1, X[:, 1].max() + 1\n",
        "    xx1, xx2 = np.meshgrid(np.arange(x1_min, x1_max, resolution),\n",
        "                           np.arange(x2_min, x2_max, resolution))\n",
        "    X_new = (np.array([xx1.ravel(), xx2.ravel()]).T - X_mean)/X_std\n",
        "    X_new = np.c_[np.ones(len(X_new)), X_new]\n",
        "    w = perceptron.ws[i]\n",
        "    Z = perceptron(w, X_new)\n",
        "    Z = np.argmax(softmax(Z), axis=1) \n",
        "    #print(Z)\n",
        "    Z = Z.reshape(xx1.shape)\n",
        "    ax.contourf(xx1, xx2, Z, alpha=0.3, cmap=cmap)\n",
        "    ax.set_xlim(xx1.min(), xx1.max())\n",
        "    ax.set_ylim(xx2.min(), xx2.max())\n",
        "    ax.set_xlabel('petal length', fontsize=14)\n",
        "    ax.set_ylabel('petal width', fontsize=14)\n",
        "    classes = [\"Iris-Setosa\", \"Iris-Versicolor\", \"Iris-Virginica\"]\n",
        "    for idx, cl in enumerate(np.unique(y)):\n",
        "        ax.scatter(x=X[y == cl, 0], \n",
        "                    y=X[y == cl, 1],\n",
        "                    alpha=0.8, \n",
        "                    c=colors[idx],\n",
        "                    marker=markers[idx], \n",
        "                    label=classes[cl], \n",
        "                    edgecolor='black')\n",
        "    ax.legend(loc='upper left', fontsize=14)\n",
        "    return [tit]\n",
        "\n",
        "fig = plt.figure(figsize=(8, 5))\n",
        "ax = fig.add_subplot(111, autoscale_on=False)\n",
        "anim = animation.FuncAnimation(fig, animate, frames=epochs, interval=100, blit=True)\n",
        "plt.close()\n",
        "anim"
      ],
      "metadata": {
        "colab": {
          "base_uri": "https://localhost:8080/",
          "height": 381
        },
        "id": "vaJjNGqGm-UV",
        "outputId": "31fe1e33-9ee1-45a4-d5ac-22b5ff5ae9b7"
      },
      "execution_count": 40,
      "outputs": [
        {
          "output_type": "execute_result",
          "data": {
            "text/plain": [
              "<matplotlib.animation.FuncAnimation at 0x7f868cfb8450>"
            ],
            "text/html": [
              "<video width=\"576\" height=\"360\" controls autoplay loop>\n",
              "  <source type=\"video/mp4\" src=\"data:video/mp4;base64,AAAAHGZ0eXBNNFYgAAACAGlzb21pc28yYXZjMQAAAAhmcmVlAAD2lG1kYXQAAAKvBgX//6vcRem9\n",
              "5tlIt5Ys2CDZI+7veDI2NCAtIGNvcmUgMTUyIHIyODU0IGU5YTU5MDMgLSBILjI2NC9NUEVHLTQg\n",
              "QVZDIGNvZGVjIC0gQ29weWxlZnQgMjAwMy0yMDE3IC0gaHR0cDovL3d3dy52aWRlb2xhbi5vcmcv\n",
              "eDI2NC5odG1sIC0gb3B0aW9uczogY2FiYWM9MSByZWY9MyBkZWJsb2NrPTE6MDowIGFuYWx5c2U9\n",
              "MHgzOjB4MTEzIG1lPWhleCBzdWJtZT03IHBzeT0xIHBzeV9yZD0xLjAwOjAuMDAgbWl4ZWRfcmVm\n",
              "PTEgbWVfcmFuZ2U9MTYgY2hyb21hX21lPTEgdHJlbGxpcz0xIDh4OGRjdD0xIGNxbT0wIGRlYWR6\n",
              "b25lPTIxLDExIGZhc3RfcHNraXA9MSBjaHJvbWFfcXBfb2Zmc2V0PS0yIHRocmVhZHM9MTEgbG9v\n",
              "a2FoZWFkX3RocmVhZHM9MSBzbGljZWRfdGhyZWFkcz0wIG5yPTAgZGVjaW1hdGU9MSBpbnRlcmxh\n",
              "Y2VkPTAgYmx1cmF5X2NvbXBhdD0wIGNvbnN0cmFpbmVkX2ludHJhPTAgYmZyYW1lcz0zIGJfcHly\n",
              "YW1pZD0yIGJfYWRhcHQ9MSBiX2JpYXM9MCBkaXJlY3Q9MSB3ZWlnaHRiPTEgb3Blbl9nb3A9MCB3\n",
              "ZWlnaHRwPTIga2V5aW50PTI1MCBrZXlpbnRfbWluPTEwIHNjZW5lY3V0PTQwIGludHJhX3JlZnJl\n",
              "c2g9MCByY19sb29rYWhlYWQ9NDAgcmM9Y3JmIG1idHJlZT0xIGNyZj0yMy4wIHFjb21wPTAuNjAg\n",
              "cXBtaW49MCBxcG1heD02OSBxcHN0ZXA9NCBpcF9yYXRpbz0xLjQwIGFxPTE6MS4wMACAAAA14mWI\n",
              "hAAR//73iB8yy2n5OtdyEeetLq0fUO5GcV6kvf4gAAADAAADAA4SCLMzbu2wESQN/BXv8QCSrjAk\n",
              "khr8cZM5Ljf6yFKLQHr67gyZ8AdLG+l0e0Dp863l3bbb1LVhxYMp9FOY0TtBf6EkJrrkWd1hFSiu\n",
              "aDr19xuCYFqW36rsnvW/sBRJMbR1JocaVxDB6txyfCvotRToGNuZsXjlH0ABSvGQbft6OgNxJdes\n",
              "WHmKWOJ3GiKKuuKzyLiP2+Oz5qxH5emdKYRbOsd4+kg7uoAdI01cv/6hXaPCg8RksjZydiQkwhKT\n",
              "sI/2vEmzXjAM9SnPnQcY406NI5WVavogAAAKOrgWGgmXmrVPi9L3zjAsQOeddxdLQ8RTBZWNTIUS\n",
              "vQHuQONvjh1K2/z4Jw2LTyKP0YxMzvsUyqy215NNorgInoUZpY4Tbz6qIDL6RWemvwFLWoWQGbwk\n",
              "B1vixI9JpGBvsJefB+nKH3rUa7XmDceYxxtZUFGTX3WOJkon/ZTVY4FKVTtAFFXIe3hnZDDSif7n\n",
              "7svXxW4UcYFA4Ogc3VAPlHEEX7T9JKfWuuxY375pwjwjEvXO3ugCn5IFZjV/iWXj/5aNV35GPj58\n",
              "wDpgnnKQDvNaAoOlvp2S+CKAvp+H8zy3v7VBSX3oTMs5t7iYPQzaRH/BQhGUxXvYYn5cjovdhP5c\n",
              "UbnRyMau/MCuCjG0N3yQzKmppfVzuC+khIpbRsry9FpP0K6bwvmfVD6ar/voX4wKD9Q+B/HywWHB\n",
              "ZoN31Av6wyVuE9RhGJQ9ZJ1bi8F26I9ryZWaqvI3Qk0EeXZE+5fg7ssBpQ4QzsIinAvm1fA6Vp/r\n",
              "iFVhbVaDqTA2ZqyqCPJm4ZCsEBjjNJ2td+A8+IRFkPr7PaGofV1d1pm9yIp+AynwE60EglB0ihIW\n",
              "lVh+xy1p9MZVgW9uBqKFTjZmtD+cnJqSI12mF6fasVTrJUvhiD4FR3hAWhWr9iIUVJpa8yZnlnUm\n",
              "0P63Yw46m+WaWRzmgd3PubT1qf7mzykUrksLpnaDBwutH8ic4Xkzjv5yedjJDX3VAvPPRdyY7ItK\n",
              "g1C6z77ICAGKJvkB5atGV9Zlo2B9kAWwMU4dlThfIgT5JtrLdeKhkHtzfPkOnrHVMlKc4znYTFqN\n",
              "zOS4B8DA4nsUiWGfDzX/1fheXYJWBTpoUO6rsokI83zJgel072XKlU1ELpN9DOsa8xk33dx/u1rg\n",
              "2k6ZOG4iDg42qqzkfwFQ/0w8wAtlWlZCkgWJAHPsjtSWp1W9X1qP5kNreflkyvp6Uc6T1CR1+4yu\n",
              "TRERU3WRaIzMTL9BdZcCabttamn94zHCRW2PSueUTq/YRsnHMpijY/A81YQ/ka9H3s+Wtj6rC0NX\n",
              "hTxCYkmP0OQkebsP6mv77TZ5lLpZCqFJC/flyLnZSEG1dMLZiN4iJgy6d0g0uM6JFi9bEnnknBL2\n",
              "V68frE/YBTzvbvu68cw+gYVT05FlTyPJ52hrHflPg3EZucWMhqHUJEOLPt+uJfWiQ/Yp3CC0vdJt\n",
              "Wi7gaLbf+8FZ9WnujBUmdUHR+VxqAicex8LaBi9m4A7LFl1eCdTVdzWaqG4eQrt5Q9vHQxuM3KZO\n",
              "v4FgUJyF/48ZInOPzVFmZPgPv7qXjyPNdDjstTGgd/gIPoytv1GwnSy7ArjOCp/49u7vVUIYFoXj\n",
              "chDRdlESjs0GWD1xKOZXgo/5A2+E7OxhcNw2yvb/m/rF/Rk9pJVPcqplZx8LJpZSJFSACyHMlbO0\n",
              "4RaldQ7thc+Mp0PCPz/dLP5SNOqwNPnbqLBPu2mJxrWrfxozSzs0XBROqfl01GA0CYcTwjRFaiDH\n",
              "XpKx1QSY7nt/DGsCfh7z1igwwv9EGp506zC62HRmSfugSwKH1ZpaNAc/JEwJKPl6G1WXukwhY5lN\n",
              "DqjPeVqFct78VFhLGu9tmyJCCi0mJaKIr3UOKYioOjJ0CQ+mR2jsKOrgY+IsnABo/FWtgGqIUXhY\n",
              "Rd524VYKMbVeX258AVvsOJlVb7bfJ3NmfEN8vntTDyOMs3atryEL0HwO/uyURkTiNnZjtQC4yhvr\n",
              "jnidHZKxHhbZJQCEmCQJebgf7Qa7dVxzNcmFLqTrCjsn1UG8bv/ZSC9UIxYsx6Mm4alCW0jDTb0+\n",
              "y2kxc3rl+Oypzx87STK9Im1olYh0RvO6of05jlLNuqA0mFUStu1gn35xB3Jxhj9Gs/FKeXd2Shj8\n",
              "2xnuP3rzwL1wHB9w/hbdm8mdE2AtPkYn89w2rsiz1CGJmFZ39PAqvKy9j9EC7x5LdyXwVQRF1l/F\n",
              "aqe4TSaGEtSQSuIVq2VuP11burVk/oKsug4KMH323igePv77EQ+Qypxeau7NGTCboUjjJRNcTx10\n",
              "aWh6TXUrDMJfw6C/U4ZaKY/HABGUzE7R0Z//8nO/HVb8hfirHymgLhIgFc9BXZz2mBFh+MJSpYRt\n",
              "pwSciixvvs55WEL9Q1ckMlQDiys9LSuZmSqIuVqDt39jDHvncIFTPokNh9TAq9x9ed0rtZy571Th\n",
              "1/xfTlTA785gfJLLTCPAPp/YSSwAS4Z4R0ro4ZmpZikgC80zMUs10kprlWGDPFdP9X6k7DLQDNT2\n",
              "sdwvmcK0aV+3+JxHQy+K4jkVSkVSNWLZqF7m/5DUeH9GqeooxFqpiue9kV7inc7+BCiwmV6Tubw3\n",
              "5o0+jnvPuh9qjYdM+fIEpiaf3zh5PFEq5p0Y6yqKgb51IhL/ejC5bxJCbIII97Mf0LFx9NtbRJgp\n",
              "lXVBhCN6affOGUU+malfefD1ocPr1980i5+YoICDXMnkG4YlQfNDnIylNJ5tcsEkJNUnlGBySk6S\n",
              "NuH/gn337b7BkWhuAU8LgF24sJr0bj3WHXdrf8MfWMfMJ6kr1ydfwcNnkE3GDrY7jkr6iI/LAW2+\n",
              "fb8Uoch7JzwKVFhfCP1oQgs263fIwmHxA7fqKEjia+6lwqaEmIj+Ftenxgyu03IAABiTJPcUgNGe\n",
              "2epgn5+r7GHAEVJr3fd0FKjhkJ5XE/lefUbxg7iDsasggEKBoWQ2pkrORzklw5MCINcGUGe95eca\n",
              "FDyBw/sIVMIAF9RC/1Mi2qryetLXvroIkA0knMaFCcpOcVVdWrGVI9ChlUQ/hH5CaQObdpA5aU7/\n",
              "/7IE9eAabjSbc3hxe5sglUI86CXq+2SXCEE1q+AjfgKAPhooyQGtSp8N+N9amn4i5Eelkfb327xG\n",
              "QefNtwovKz8ANid6M9DDpHomPCJlGk+4Hm5TC7ncLDdydLdhS0rTy8wFG8p/DuP3WaU+GpPW67PR\n",
              "LfESi9/cKg65f8qWxAzdEg7//pfwpqh5eiOywHcqY5Y2MgtVbIfLL/MlZReZvecQNI4KS7zjW5vM\n",
              "Hu9dJGAR84t6gAdDlpoxLWx+zUX42hD3XF5UhLy4q3pSbM7hwSk0joOEGVGJSye6ZsZ3GI7AsX6W\n",
              "4ehXo8p1mnOldiQwlAvq7m02SmrBY+3Sk7f/Pav0SuaP1nVg3nXQUO/8RwlnE4b6j0ZYrF3qe2KP\n",
              "hfYjlfMBN/IvLKMm7Aoqfdru5Q/YsIz1IVkq2CsIu5f/wSvLPQpSvhWNDkrPAUGLqYpsYzjZKM9g\n",
              "Bhu6CpGs1EVRCGPL8CK4VI/wtt2vA0KKChFI9f91LwPdNLAKXFSDupj7JsYz6vs3UBp6YcB+sYgV\n",
              "CDkP1PULbk7eY3+SQFR9CHAIJtnMVWvlxibno7Bbv8LXErBzSc2eBWB/495HkCmafcQxNqgQ7K9B\n",
              "UqW81niOwVcq8AhlJN7SuKgAC0FDMS9y+IvraHHr8P+1vEaf+ODdwcB94zHiOnYlnU9Qp4WW1u4k\n",
              "okfXcqZHqlETml4dng/xkksFIq8xbrEpWf/6lGu3Hr+ho8EU3TGDtE2lfg258iETjby3TAaP3OFo\n",
              "eJcEuw2tDN5hGkAmRwqvXgo6Y3gV1M9FMzp/hxiyefOS1ScqVBGqHnsviwGZyjLcHZZd3t5LtsDG\n",
              "kunG+7aQqwt7+QVjy77Xlu5oUsJBKwyLuSvytaAj+PfAY+TfFWqmwYHb2M28JXZzx3Z1gcugpUku\n",
              "EVMcJ5fH5KfzQbKgDP4MbwmkIKQuNi9tLhXLed+1vBF6pzhazHSEfVI9ixfkVA36uBrALdv470pC\n",
              "BxYyFVKH2YGHJN7Kzyl2s/6jNI9eMR/1PtKOJpBYPrZNPZLFiqxnrw1Ni4nLWDAwqVlxAAY9fSIl\n",
              "Y3jUJTp6U4X85nkSTdZwnATGs2s0bw1sRdsyZ01u8uljfwevzrR+imfhT+SDy9o2pVj1UDcPlAVX\n",
              "LYBEJw1zKlvEx7nFij3/obDAtN3vD/gQazuDFXUhhSsZJM83J1S9YrL2ektXi2GvtetZJYpExSOp\n",
              "6jV7vVuzslXn9EMhoqptfsi36QJhqBFkTAv27soCQctl37je8Pwo4XVGfOfYK8vwfZ2k/GOKbl7a\n",
              "lWMhVGDSv5WftQg9XUOHX2hEz7jPK9c3xTjiwS6V4HjQSgR+gDGHXsA02hrL9wg6/TF228t5HYKU\n",
              "jQbZ/uAK0BHuhBmpHSLL5p7Am/I+CAYPvKa+G5Vjp41114D+ckHrXCSxy5X4j/siIHr++EqI2bbm\n",
              "904bTIAdM/oN5yTZ639w87ag/iLBOLcc1VPWkRoL5KTTfLUehd/kJhbO2PkANz6I/mVtarRPXVNW\n",
              "fNPiT0OSl9m4ioax9JllXsZxlOXgoDVqZisgIn4FAc18HkB4m8/9N0x9EnOXkS7OwzJEGulZCdAM\n",
              "AAwawo17iaUDuiS6ioFnW2pvnXScJ6WjI3D/fHn14NDecUlqLl6lAsWzSjD6BBnYQqJ528YANkpQ\n",
              "X3fqpe3+La1TGlrXt5fm9Uw2AExQkeWiWhbtZuhbvQRod2VxyKRLVskl1akt1rUZciJCEXLql6I5\n",
              "Uji5RjPT803lDyX58hlpIGZ5dRmpO2qh6SATR1usXqnrGnpVcFvruvo7/Jk9W7pE0qTmAPfl3v+Y\n",
              "xrsqmLBtwNKH7GSTJesjVNjtAhc1gbH7tTfbYE6nMPFtFzihmyfROSdJdU7UzRnKeIfmKBCHPRLI\n",
              "4mIu0bP//JX9aecbkL3R2EuvaoBvK4P72RW9SsiP4JAaWslZgMQPjSGXQDM5LtwSznj9UlZxs1FT\n",
              "htRYrQGKI/ZU4sknSN/pdqQLOWO4FBK5as7Sl1ifa++elH1Q8gKUI0ZSC1mwq6qQ3fePfgjPMo0Q\n",
              "yF2DSSfF3ceVxYA9FhUUqNw+0DYAEE39LenOykyt8+RDnjajiqq89Mwu4tSB2zCrD+STcN4xPD1n\n",
              "fuGYXnYrD0UFry6LIottfXg1fa7gbo0qxBl1WHgRRHEMQ/D/t5b9XTK9HR/rcsTmqcNeiV2UdQle\n",
              "ELivVwpKzjMae93oTuWlDk3IV9RjdqrAvQZ10UzoyfbRa5J9pDmSykFPcw2+3U7mOwcdJZcJG9m8\n",
              "4dWe4AcNN3gI5YryBj6evJed26H9RL5UjDhnyfTLydqFQ9E/Z5VP/3MdoH3DyRXpQF7OoMhqZnsB\n",
              "+PuT4mHOnF5u+MGKN3vlUSXNRflHOxvXHGey0m7Awg11yARuvEi13SxwLwS4JS1PH1xYqfo9pU2Y\n",
              "XHhGyfazmXS7orpasjXdcwEZvnaTH+WfUp9cUyo9bhZoiKrm/0VcGi9BvEf+8yhiNmJKQVJqFEDf\n",
              "IWW/sNWpinx1hc71RZpZGY94/vOPizyH9ygolqIuzqIjCaMUpMmjiweT6f8ZCcyv8reNyyugXNDF\n",
              "+rpK31S8tTAaBppCvNsyO5QOfGGqHP+Tl0/EddDq7fjLTW0H6Oon7qTlZ7YzTxyMvOuVnqtRLhJ7\n",
              "icLGnOX9+pnkeKdBOtNxE4iNcwaFBd3j3PwmReTAglYPAgMgIbg0mbqcym5C7QCKnMX1/3WGSlyx\n",
              "pjlXds9ycDRSqNWMUyACmQX5a5r/er/IigS9ys6bykZl6QxxfSkV/MGtBZmUaodtQwTlFdPvsLHO\n",
              "n43Cjb6Aom497TQdOzVqaR8BrP3UlpThj+IPLF7hir06rUBaLLIqYQl9RtTl7yFypfP6AvG3B4Cm\n",
              "vBKai4DPZT0+ipn3bjHTJl1NrTtqS5vinUxGy8m2ye2PACOfwL+iAlRThY4meJyvRUNA4gSq7jR6\n",
              "mX4k0P9F+6Ee6H7v8IAiG4KSc5Ti4FEkZx2j1EuP68MdmELpjSrBDKLVCbd2rRvSY1vsRGxV//+1\n",
              "Flph4y2UXLgOHDjQZfCwmn6g9BbzNrj75iPiWIELAXfEhMVY43Isxi7DTY//vnw18pe46YANd5K8\n",
              "fxkXIM5sRq4V5NZC2ht3YLa06+hT9qPkH3hlV5sgwtqOdlVw7X+4IkPj0a+7+Zegm0d6UCXMgXPT\n",
              "ou88/+Ai7amQUz0w+S9bcCuRB0oaxMQ8S53pnh1Ku+l7Xr76kxh9QB4rP0BD/NoT/5lPWaufHAAV\n",
              "mEJdPjCOLGWA/4ojc8ucE0YCSfutGz9bD3iPSONd6LcmlmLoGl443oznlKYf+BA2fK1TMYosg+D7\n",
              "QAbbKHqU+78qhjGF1LXm9dJ4TyzPYxi8xDB/LXytyj97guoDDMb91b2XgtMtU9nBQw8p2abkkezL\n",
              "SpMZX633b35YDh3GtWDpStjGHpcyJPR+1rAB07Qb73d9kJ1qlaW0X9s8oODCNpPWEqBPwy8E6b9B\n",
              "z6T/syaSEkFT7wYBmsz9cxhZf4CaUD311mLAYEytnRlxNX9AcIeR0yKoVBljPZpIAAUbVqqFjHF0\n",
              "HPjuHsWZBRSrfPBK/u9hfSo+1Cd2l4yvLvoMpY9cz6TSqJp3F17BAO51XcV7swtrtfNcudFTXgVZ\n",
              "PzxmrQNGs0p0Et2cK/ssW0W98rv3SirxfvD3YHdEhCIsRdX9BPN60DRfNlWehgQfSYV70gLkVY8Y\n",
              "hNFyafrfr2KhuPJbUYRPq35tFdXa7X+4sl+XRA8BeH3kLVtgD92VhWrHmBonNnlyEMYY+jkvuuqW\n",
              "iS/WlZ7NuXjPnLePYhKEQVTz0GNET7Jwq0U6+9XOJyJ3gsBGABj5v9XBJ+r5MdZMme0vbaZgVoNl\n",
              "7J6gy1/k+y7OgXlOCkUknyqd9amOcjVCHMWKW+U0HwpfLYjDaaWtk880lil2FlOaa1tbqeBVvlYl\n",
              "moVLTiDgn+j/fbIX5cdCnyjqK7x2c7VfW6EzYXfe7k5Wf0Mzw7LqrD+kV5Z2koQsm3fDYd4l+J4p\n",
              "yFPjemC97OSvT17n6ey//+P2kO1eWFEwFtGuMTyoKlFoe0JXZxEoWnt4fKT14YcYoqxngmrvBLfO\n",
              "dgt0T8pg0/lGmg/qkkWvPEJ5u2XqWdoy/nQUaMdp81xf4+uHhkkjbbs6ezWC9zga7dNrUCnxTuzk\n",
              "T7xwSsrAqMWeE2xfETXKrbaMDcVtkgy3mndPy+svnLdMm7ulQ9l3thD3so4/tIeyzosr1e8KLKL6\n",
              "+lWbYUdZxH47HoXnPGCOumVRFh6jCDtXr4gpstDInxl6vpe8bBFMRSLoLeqsf6HzPYSyYEksnMIY\n",
              "RMryZvrRz9djCQsJyTdFjbuHIphMj1AdLW+SMm0Ol1nI3U53+SbOVv5EeEMZP73e55xXRYqlARAY\n",
              "Xmrvmq6+SdAX6LkVVqcRLIJAYWuDriYTcV8sUlOQbF60EDR03P2Ro9yDNhw8SJrD3pC/DF8+y1//\n",
              "5K31B8Nys/5ZS4Vh0TCcZXWkSf4O5zhyt5q4ffLH33lQ9Z+TdQsggTh11Lc9PaLJ0hyzwv2EuFvY\n",
              "F7c0LTHrnNsc70/IDy/32C6pT1vKQ59bGlqnVqGivBXlKAZv8Sr1jemIZjltluK0AJvjCkzFnfpO\n",
              "bDoo3rm57lkWL77E10IgFIQVfmwb/3OmJ8VA37xdxOH99pJ2wj+D6Um+VLzbYfVmD0nRf0OyXzCs\n",
              "fE9DewWwkEdzyOVPCRYeTKXYNGxgUhvLi8lXiAk3fzjl90gOnjmKXKvXPU5/4PkhIkdscXkumb5z\n",
              "4Pm4htdh3v3TGRLm1cMzCcE8D1Bs3EoJgWgYl2Huu/OEnBRgM1Lf7nhBKMBJPPw3cunR4x//Wgl8\n",
              "XdVNm/Ck3pGeXdrB6d7D0f/c3va4OG74h9mZhjFoj/4/GxNvyaGX5uJ4hxpDv5qjychX1gEtv2rs\n",
              "ysDbGAXTB8knseyPEcJrCs2C51Si4N0UuwzsO55I+zhZHtXV9IN9DHMaHjTdaXucceLyunR3CZrU\n",
              "a8MItD8rTQwEp9vRR0p7qnR6P2ElTaZIUhVDPst05/rvIt68E5rzphXiXqNHWAyhKuhv5ImYgHML\n",
              "E3nb0lijX7WMPnDzQ36ImYEkBE4iHeXTgBCsnzqoTi1X3CB2nBJ/L2XSM9BkZ2nSSJ9P3UXcMWpW\n",
              "HYv9gKfhyXQj3Vfx19PpgFFHVoHwImIRSTvRFUkyl5dVTnAHTmIn/wtqsUH7sPVvLMkBSftNuS1Q\n",
              "TWEv3nxoQ2Pz4EGtDK8LSqElCQDP87fpteHAJ2vaj4+Egt19npZlyLZZMb9trA/w1veQ/Z48qGlM\n",
              "j/ArqPhlVUeoLR3NWcsSBVTJcysPIfydjKd8CwJq4o5tbgngd7ptC51GrnZbW4HlDDdTasancpuW\n",
              "3/imNJIw0K92HXa5aqMV8pHaZUlMPUAAZ9AQ2jZr3y8KM1h1w+c5mAadqLHISueaVABd1kLuj6VN\n",
              "Qzm+YSSKSqA3yQcbgEOzPf38OPv2O4LkTPQYGFc2XfbJXL9akhVRVfGBFLGkLwBTtLw6CdvQbO1l\n",
              "s4xBH+zFmlOIZetN2aUvInQ8X63jszvYHd17XkkttR+OhMFjx5NFhConMtGOpPiWxUCdhiojLydh\n",
              "S+SoWKhZTG3noPSUIdSJ4jNB5AEeZQegfEC4Pik/g2ILAfnGirRZnt9Mui7YcnyVJZv2DI1VpOoM\n",
              "i4O/JxmxvWwdvVCQB0r4HBA3u60Cblj33///0KSGVq0etFccq0+72cx+ZpOK1bz5E12pjfMRhZoA\n",
              "gE9AKkMdc7IM8VUlPhiIJ/AEQeNdPEjjq5ZDWXsR3O8I1J+HvKDalCJS1+LB1TI/heA1y8j8IIT9\n",
              "bqEximD8SxdZxMwT0d9+9OKyaxNwRW7iVBjnR1d3mVYMCExoZwSESi/fzjBIxhL78BWK4x6Q1ask\n",
              "9asejsWIkv+5r4b/syzu2deGhHaeuUq5zmUZ0ZEd7kkwKLZ4HND8N0n+X855/t4vTlyzCO0FgvUl\n",
              "6/q/Cz+WsX8AxZAiCYYbPo5pLGmc/MH7wj5o8y7si0PPq/2SSdNNiruKlT+RbFMnBRVAPSh0ju6J\n",
              "AG+enLympDfo0OhQ7c23mAmewcVjmQJRvu/2M81oMtuqsc709jxceCyFF5TUeVaq5/O/B4ioMIQZ\n",
              "aoiKeerBvUwib2pU/pwNaJmuQzwkWJiB6CYstcdiU/5PQ3c3WRITm26ex4t4eEldWjwbXBLVzSbk\n",
              "JK/2nUv1mTIpn3aWoUfoYxvp3btfx44d6vfy5yQ0mZyugwfO/iQTwKFjfz4mv2FyItpLFblykzH4\n",
              "+TV9Nh/c5aQ7NSZVSi6DU/GlZedGjRUzBMYvDSO9Gb4otYlinARrNrFyhIVvXtvtOEb5hSwJHDC5\n",
              "08EfJ+kqmzGCqF9hiAjkeyG7DFCT+KfSgaLh3toBn4t+8HbiA6MRUQZq4AydnATykLf5kGonR1Zx\n",
              "k6EeCXjlxtSS/mPg1aGc/rsW8daZQ9fYDyH0JK7lLe8AGsxgAt2lzeZertuMC9iu8gs0nuGRTN/I\n",
              "UFhDVqxWeXvH/i5tqyNs/NWyPxNHMpQ44I/ioMQs894DhTaxe8XmVh3RFJvbxtZ6iITuCwaKL0qm\n",
              "7KYrayShj3yfPzucAQ+0pfzTw+ViLcefbdSv0dN1iNaa4UzQ3sHrgrFOGu+MGBFYJZSQoGuydScH\n",
              "OF1iFloBR6SlteRbDKNwxFITbGKhXDxmSgAg2FeC/bEHm6gOHneUSsCq/+694aZkmsZdIri1rVlw\n",
              "0s5N+IJtPLxArOkUWPJHRF9+VEK0S+gY4N6ip5T7rGQXCFaBVvwCQmZaxKUS9mtBGEWERa8zwJjM\n",
              "SPHTBhHCBXnr6Y8BBOLrOZFpZfxbSH4TIYwrzuNEpCGUq/Ox5J1RKJm+Fx5+5NpRTAPdJqqFS0KH\n",
              "R8c19WzxMTzlJ8h8C/PniMT9zp3xqbO51tkWXLfJBGQ5UIYUMuMfaY4Sk4tAh2BtjuJ7x+W/56qL\n",
              "D6W3hj5BE5CCEaz1km7er11eTsYC3wml6IjC/GyuCaWxiwFdNV6y6xuqB0G9P8hBZOmo1pP5rvbt\n",
              "CguQLcJMZykKgWpF0SltPe6OxvkgwKDC6T4OChAq90Lq/9ZtVdyoyF49X0cbjv6DbXNZTI6f5Y3w\n",
              "/LEDDGlX7OYCdoLFiz6Unmm2A4BY5OmzD46fDfdQbkSRmgr4kVwuyw1tI+aRYfDgbfRRfuHxURKD\n",
              "8Ec19a6fP9kJXA1zBDmz+RmW26/ivT667qHF9MWqnYPKwpvXGokGXIecpxNx5Mzf8rhjvEybQj4e\n",
              "rWGQK3GIgntD3JwuoRXmh9/vXOr9glK+BP+7PEC5G6MA3wg+sIupgKnZ7pW7bKMP4iTCvxpt0eMZ\n",
              "hy0bRHSqUxYoxOydU3nkL3ERZvXL4UI0wNg5Vl17wiSH61kJ3lD190p6gruIfk7iV4Q+B4HCzDrn\n",
              "Kh4ULXQjkVcczy1HNcxuAgp/k1+YUQbMTGCLsMHrQvER979+pfY7WD1txIVAFK5uHyapRChDHWoO\n",
              "qMqyjG9Os2Ao7tjxlVeq3ST7U+peaR38c5S7BsanAIZSZuwu253bkz+ytiz+Qbo976WZ63ZgaTgO\n",
              "Z+OofZDZJ4ECovkxzgVYFhqEedVlrd5pkcyOfV/S+1NRbAHMw/sL6FF+Hn5PRObUXdV2Mame+IQj\n",
              "Z+ki35/a1WKaLSwcHHN4Edv7+Dao0srzxG9y+u62Ur4FLfKs/hSjetDu4gc5fVMUW5CddNR8umf9\n",
              "eUlCrq68KB6vtO55Zzv2J2ItC/zE67dXuBfPRGMZ6G45szQ+5U+pO1DyW3PPXmlotskR4SDUOKJi\n",
              "OYyF6RMxjaM3gSdCmsx/y0de5abzPukPI53PNyAnolXOpJzCGd8srGV6hiuxYhAlE8TA8NYBn2kB\n",
              "l5mL2vAenaIA/py1MDPTfkHauJUDiJe2HwEbguxVMmQx7tBplnmMdzTbRTWG9mmAFlvfl0reNTlR\n",
              "PxbouHyhPOcV0o37wRXXVLzzKQkW9KmxWOl5acgFpb0Zid/tjEzeEFMIiCwCnUM66tv9iId4JlQ4\n",
              "ObSylCNSQxo/86CC/O6gVTJRHl4PphLeIBfap/crldfjQvYCGjoNBFxMIEb0S4eCP9CSxp7pymE9\n",
              "tcPPRqHP2wLRFuJzu5US/tCEhcJgh79gpuoEPXOCu5PB2TU929wKfD1dKK5V9UlA3fEG3c7sCP3f\n",
              "KUJ28LVDE1wEkXE4n89PxFcp5Z7MIuX+s36QxRAJEO9lDEZ71A225UTGgKmF79XCqpKXoddaf34Z\n",
              "F/ndcGntFANbEV553ilCkQPzzaGVoogiDLUynsLXO7ihbUjVuxhVarLUM8GkDUKa3zmSFe6QW15K\n",
              "q28vn+ylFP3DqsJ63pgnJQaU0fWNh7U/tWiVix8nxxV0lN38Xpn16wOUfI6U519eB45i6mbdUwe7\n",
              "325GEylPlD+wp0MQr8cj3p7NgGXJb5GjHUBI6gN/H7ggMz759FJHZQhnIpkuHOnM3LGz35RsGwBM\n",
              "LWknQzan3R1agv42YBCibW7+NoLZg68nFmP+euHtqIG4AhJ5YWYkIL/c0u/gNHsfzKZRPr6B0roF\n",
              "oWwHXJnHEya7lZVEvoXg/7Jc9aD7aKiu7IUjs6vAy88LTJfBSYIwVmHDJgsw7ve2imVZVqZpAj7S\n",
              "zexVanyQotntxmsY0djc1XQ1jWIvpEwltpEM2RRDTME0NuhF9Ab31kPhN3xbDpQMrAl3TovhO9bX\n",
              "biONP7bf1/2XljFV4FF1W9kqSNm1KvqnxHt+gXeGpRp4WocoTKxyFukCfP2YxixiD58TOuyDnXd+\n",
              "98Q/nynOgQvZ8yF5p37muQGYa+v96uGMwHU5yphJf0ApROtzweEwmkXVqM9tJc8enueB/nb/QdRZ\n",
              "J6Vmvi0czdlVkdwD5hR5abpqqEAn0Z7Uh0NS+HrnfajiFGD4Y2zFID0i3q43b0gol3811QwwkANP\n",
              "iao3xKnpfPi4ejWYqPtUgIA4SRtgy6OoImTU30czomVwI3p6OVJOrPlP9KrHRSc3VWwG7XsKTdQv\n",
              "8HNxgy0x3hZpbsPTQZ0HeDpjUuoOHc5LFeLFrXhNIZQ21L8/pRdu0ks5INHituD2EIGhgxoTn+/R\n",
              "CJAYwqYtzZYmKrsUdRDvNTWrQWVEVPsSsTOjp9Xr1pdtRzeUGTM8PqEjTH85lFrKCgKJMXoKwddW\n",
              "8ZQA9VY6dPCwDGPSvrfWMhBAzctBlWZK/y1w42KFviFEW/KNvv/rX6037PGO5i9hOW91NCAdt1jF\n",
              "T8dvFF4PUOvY7oCNDNJOPlJchiQafdY93O+nNn+E22qD1SrWiaIe+yAeg+07exY4GMjVhDEt5sxs\n",
              "7BUVs0XN8iUWTeGJpKbFR2wLjsL1WEaGlz/p6jdQt9WprnhaBIhxg0C516jHpqlfX+scCAQJ0HB1\n",
              "l+14OFU4N5y8P8ibXUG9G70ZUdM+q4xEnpzNkRlayJ/9Ao+w31Ly20MsVS8iCgWD2ta2zondHvfD\n",
              "hqip+HLJABy8EMo1M06lfytuotO+ULMuNz2Nx+L22gz/+sFzIDtUhdgYegG/ydsXsU+7Xh+9RTd5\n",
              "gQD4Xsv28nQ54t56heaFzCT/1b36wRfAcyETQK/Wy1RUkAOxC58xzdsEMMCEZErckgmLUKBjmSpg\n",
              "RAYChTK5G13e4gWvqOpogrCS17LP1EC8r8NTbRuorTlIQObIgjVhzd5I6/y3VWlRYDxl69abyJow\n",
              "CuS/T/GVzAX7UBqdJwmbyzIJ6ixX+jb0um4/cdBnOou2aY3kAakCjgKnWET9eosQj3JA8oF4AqWu\n",
              "kMLGDic5yxUAkMaeMWd0RK4xw0xua7mVePXu9PDr0hLXXioKS5Q6N7EibeRzzDEVtKDpCd5f0pB7\n",
              "FE5j5uEbSlTnAt7OEnznaSiDpnvKfPGjfH9is0pBY/XLWeifU2rgzD29ZkxGUTWyQXbqYX+y8G9S\n",
              "4icyyXQTIBymCdCn/tlWllL/+6yjJsmTjwNVpoR107gaVmMnzNeRbPqmzZ66jJv2UE9UdoadEYUm\n",
              "NGnhhpLrD0pwrP5r2fmSEQcDwde7Hw8liAHlathU9WFyxdv7Ix9NXO6pGsib6nzOYA/hfyNzm7ql\n",
              "FW5Pa6Xf+liCeYMXO8m12se/Ghpz23wI2UBAJ7QlsXkBofHwVuIr/ffr0M2EOZSd4RKZcMpXOx68\n",
              "xaObkkgKo1jndPO55+MmlugIn2jZCXPUEjCs1uvI5wKRaBWksaoF2CwiEUw0XJObWyefSN7RFNpF\n",
              "Nb+FovNkD8EIiQGYlC64D8WTew+bLnPuRQiRGHyfxI46tek19pWOfee2E6Pu6muXihyirGT8aORF\n",
              "/NadP9E41/zZ1cHatxX9i++TKx3NVYsj3rHTrJcVL9S9N2xmRM03osxIN37c/iyMKM0Atad/mXP6\n",
              "ZDKhuWAu5loiRqTV0WtwDBMbMI5sr6/WqTEy3hvqzxIgC8lp9JMPJL5zwJrPLGSjXoloEMkCTaLV\n",
              "wIYg3Y0kEyai2lk3B9paKsxfIiC6ZALNidVCcaAC5rksvJwTYvi5DDYEIFuED6ITr3iQhqvNqLzQ\n",
              "u2DbPsQZMsox2qyrVdkYe6Vn33aVBFyR5DIJVjiitTbG9MDD4eXiouyJ72adBffrg1q2eR527jhI\n",
              "U7x2B0WsEVE0kph8RjHeZf2QBoDe33Knpk68NNIigy2pdVbcE7WI8W7/9z+T7T/j8iCUxlXrWicR\n",
              "yhbcj72SEKJgmy/QpuCPuDRNxaDntbn5NheHrFGizJe+N3vQQg/WRnasXbCvAKyp5Vr34kvRIPiR\n",
              "4OX+7+PsnHj/nNxyohVezuLZt/LFe1SKW+XB1y8stn8N7USgbZ620PrBQL0QLtofVLZeuj3xs+Oh\n",
              "O9Cp7X1ktE/hQR+h8/4Xvvb1+uj0cb5DfbOwtm6kVO9yyqoO6UtrM/pFDSM4EWEdhbQ7rNUtryCa\n",
              "Xd1B80TBJqBg1O+IR75epGPtfKJgF1Tm0fdcBnT5CHLCi6L5GYwdo+dzG/tM8QK18lyx6C/bulFR\n",
              "LfZTehNKZ8cmJf6xWEv7AK5x1bFzmlGwIU5ErAfbVTpH/QNVTBvEvdjaBhplBVn0VbdmBORv0A5c\n",
              "u97PDXgmAOd8olcT5ZTcogPpyjbvFXBVYopbltDs9JFCOStKySXitq7RH+q1OWhKAW0WKaXmv5Pq\n",
              "n4ox8H+Fp5iC87aoUdjjpDelXlMBFRIIxYr54i8Y4JgQRssFJnN1hWzIcXMbIwG0qOjn2MAqe6jn\n",
              "yxfuRbX/BDf3DviUADURy9DRbXWqKvlrTAAxGJVF4mcgaHInPkUGE7bQPfbF9iGxhyRIfBJYD49b\n",
              "usSeZ1g0t9F9RkDBJwc32Zqme7BJmU9N+fNfckJ2qm6DDxcDus2UIjixnppO4jdS1jnJh3W3hR6O\n",
              "Xp5sXXZSaf9ct9LyUrlsNjp5fOET/3aETGSVOptj2OYZVI7RWG6Sqi5NAAuK5uqB9G1iJOKxyboP\n",
              "jqJlj4czH8O34aS4L7zGtGOMXHK3ngCsTGuA6TnxL5YoHh5iPELm555MPCSxhBvwMaCqUEw9j+nk\n",
              "5uZwiuIZTbOaZSKzQYO9ssWaYgZXSmfSudWUwPEzS2EytLlR7jLd5mDEIVVwvKviEb1Lu4duCHL2\n",
              "LUWHfPNZT5mrtVa/bM5cu1GxwBvKBVpnzX4+MxzwuisjdlXyHM+hcOSIE4xMGuRwD1OFsgdMXNsU\n",
              "kIh1vpngEr/PzKh88ZzQsGZMroLD/3+3aUeNs750N0i/Al1FmPsvGPvC68nuit2AWTG5Uj1RRoKs\n",
              "k/L7TP/ZI7jh2P5c4xPilgRQdzsdq4H33ZixfXO4WVRCUnAVf3+5QZLhqPen2UeVCbXCwMT3rCHt\n",
              "5RO/0zOXdCDA4yUIAHeLC2CGaXPsBKnn7IWAkQf1hY4sTGCIqXWdRpTqVyaLmH3N5e5hV7W3Ccqs\n",
              "BsN3FuFGVEtkXFqd508FnQw3ZfTNb0doaZjCt+FwORXY/GNK5dngIEp4tLU1WnVPNHjolzt7/8+a\n",
              "0n9kOed6JURVvdpsMyin+6pPIOLaQTlITBQwdQwAhkgT+jm20QOWBVpbflWrYGC7wN73NJ/8xTJu\n",
              "sapVH7uBhyafFV1FER5ALiQXYTP/Oyec68ZwwKwHKfc47KluTwZlkhBcjCK/j479h3t3N+3tRtxJ\n",
              "gkv5x2yE3a5VAS7/KX1zYc6T8nHrC1f3Bg50M/PZZKUGrZ9Fqw0XDOOazM9TIDQENqr6h1ozdHsT\n",
              "LyctzFHCV0W1PQrhry+7FOCBawxLrs7wmDzKlI3XPpm88wmN4haWgE8y9CnzOn6R1nNyN1Sb/XUo\n",
              "v1sJzvSX4GtC/CZSiPHhbq1uw+Ui3qLTQnu3RGkfqAuJ+Me3NtVjgs1mSTxn/E+8+s2POR1uJSER\n",
              "JE2jPXYSsM4WwEe8WPuucflFr9bthj86DuaOI/AvlhtbWO4a8BOM0pUs1ekmc08cymUooHoOOzR6\n",
              "0UsemqC+jJ0wzXRAihbXkgNyucB8aP/c83gNEI7JOZb+JYXtNm44lGPTbnBH6NaS/ejMMHdIGTFg\n",
              "D5uzybzij9HZH0IKbHCuTsD4tuuCzXNROLYST9D03aBvARfMMrhIG3Zk8YruhSjTOvvbA8yCrRFI\n",
              "1CYpC0UHHujQHDKtHjMLl+JFhTNcHHj9mmmNAUWUx58caFs3yr9kueDd4BfewOrYaqKbFxDzUGdA\n",
              "DEgHinXegLZMpaQWeOwkvv6Pxb+dkIV4tQ/QdG+5Q28NnLu5imzEjdNbUqXxJJ4Hs4L3DR/baUpZ\n",
              "lvaAANau46Uxb9BegdeXoAzTrrEefjwOcPLTL9MP53pahjLcRc9OFM55lT4M1+7IYWdx4L+76xCb\n",
              "zA02jSrA5vTpdZTtVPYqQASGTvsageDixnkaMtSMRiUPPqcRuA5KwYuG5xLtQobsd4oPrEnxJ5Jd\n",
              "rvXNBbGQe9fgYZkyeM4FtakWYv//Pob9ZPdhtgg9Y1jMcY+LQ0DZqp+gxf0naQlD8bj3HWTGBEYM\n",
              "pGbbsK993kdKKZmeuiaifMThJQvyY9JF0E1FU1V2gJwemzBiKw2cLACaC0MhUFwvl0zjhgbfFztS\n",
              "p4+MFEHgSeMSMFSc2vfC9t13c6ZfsX0En9/X5NhUGE7fpCyREFA6+b78unSY5D1JQrlxhdBejX+Y\n",
              "FW76ohsTes7u331QJtlpChJxdzxpv5iLzyOIAuIf1on+F5tzfKBT21dFOf7UnpgpyO2BtpFF/Cxe\n",
              "nRTDex/8mKNMpkAMqHRR7+TD8elR4PC8cI402frTMFa+dN9wj/EzoH+Q3YM6rXgE4y6p1K9bUq2O\n",
              "LWi7EtR71PtaeaOMrNxM4ePv56NYn/eEForeRFeQV7OFkVY4UZLhZ5FqYRITEbFOPcM2rH5tQcYg\n",
              "VwsV9uf7pA1bSqpz3zo8qQJbbVFfIBv5jKMeN3Q9Susse4lKCIdXEidzz29Zn4Vn5ZfX/XEJVxlL\n",
              "3rsnxzDJ4UgQtVh7cwgwdEAfQQEFFI6KWCjfwHw9zM/HiDSav2G9YZgEc5b8UxarC6ISCHeZpsxH\n",
              "IUufX77esxuVwG5/Hj3Suo2UMRGuIvLZCZVrhb3f6umJrNY2KtAb2UvBSemJofWUXma2D768dj6+\n",
              "ZWcWm0mb4ZKyy7hFzWZxIX+xsoIO6smt+zssNJVPQc+l7mlcOOkS06buygtPs3+Ya4pQ3XkLzrfM\n",
              "RUr3uKnXm7Gp0CK/m8ks+oUvooPAEOlxX0FBSyEGRD7SgZg5iJdSKdmarKMmUmz8+0QXAnBs/dhO\n",
              "luyayYMBZhELplDx6SjHM+ufid/7mfSkpvE2i+JTe2W9BfalluXmImEgIpTGM/P1YyyJPYn7tT+v\n",
              "oRZ5TJT1b3hBomNBlluJzvMDTRGeUz00oH1hCmTAHPbmw7+WMeeBXPn0/wbwPWkUz1faUDxyLsoX\n",
              "ecwnFNjgkah/RQGKwj8MOZu8pX7sFYebyLXHR7KGCI3JRVcQOpZhJ3Lxt1mCWuiTosE0tHP2YmwZ\n",
              "v5zaaqOqrxtOW8SyanBzgl8zy8Qv3cL3m6ZPMZ37TEZpOz0SfD5u+vnxei66J6ZnuRbOBL3+7K7t\n",
              "rwYTlziT61rIn/WokcGgW1l6XT2grDE/g6KnL3hD4h2aY/ccRtYIZ6+KBM3XekuUItiPA10P9Pzd\n",
              "thtn2uIp6StaGlRRfcqkFrKYRtF6aEnEEh5+eMR57cLsypP8dVndPD0MbUvttraLig8Y1v7HCJsp\n",
              "kxzvH4fo97bBlFn2JvwKl2tsRCovMH/FCDyvOt9chitOjmkyo9/LvbwYWFr9l2+DciTvC3XbLspD\n",
              "ByDezNseQtP4ZGl1DSI9NqB0EqjRK5Cdz7sEN424URP5VJ2FWREFXSlogwBkgDwEQ/ORyVSN3Rhp\n",
              "NRs/f74vnN2G3OOfQKKSsSXFuDbkhr8PM0KebFqeApeGg+iAjhyIUvTBkWCVX2E+H85XH1OlsyfV\n",
              "TiJw6l3fFd52jT8jkNrPwxvYoH08YrPk6CreK/FxSRpoN0ifwv+U/7DLTkQQF4Zh50QFKtfSNog1\n",
              "RpxqbtxvmmzY/el3L4Kx9oHjUv0FSoiQaOOYa5HYW0tU2cbsa5/KsxJOK/p1QqCfzqWPzA1PFngD\n",
              "gvpQjevfMBZ6AwD3sUj/ahYlmSDcHm+uPLeRMsD3acAX+4rOqBUe2sD6gjte8CntVcXWUPLo59wi\n",
              "Dq9Cxtibs44thvbTRauvW+oVPNSlvZSa1c5nTB6pnYYG/Xxn2VdpdwswD25QdVC+24/ZmLZ9IjLD\n",
              "FHLi8Mj67ORVHwV3K4ggeDKM4CT8zbjyj6TqUouB9XSnNvLcEMl4z91VAakwC+gwVTSnn13agf3V\n",
              "B1I9190gZIo9V4aBRFxxKIJ0MUV3o+BdH78/wBSCArozWaWOzx906nI+eiKpFW0hCqWlZBE3w0UT\n",
              "sT/P2KidVOnGb1+qpkdxqHcyY4eAtrrfPISwY6MiWO1e5VuOjdEgzZfsK52gm67KHVVadsWIG6DP\n",
              "kUEKpUmnCBWWQWQ8EmxDy2ZaOzaiik1bKsllBH5AceciybvhW2dVSU0LDYBChc2hMfWvhHHvYMkw\n",
              "5rw6ujIearKWr2hY09e7lfcDwWLT6vP/LX78PRnFHu8msyNMlruYKLWd2h1UXHIReuCps9y0rwKw\n",
              "EKR4DORdyJYQJ/YIUshTIIpB0CA7304GR5xb6jpR7RSTXab00l0msfWA/KxXIT5BuB4a3ua5KsY6\n",
              "gTTypqY/TUMewYJu6EXCeLElb98Vf++53pTqKQNNEGwXxcNlDZyACu+KvfCnbwmSAAAPRpDSywAA\n",
              "DzJBmiRsQR/+tSqAK7Z1IATX5OnFzLV5TFCOv+1aQ5FbvYbRR2TUAiIDMkWfWnqohlRJb6U1J44L\n",
              "kTnddXSMGgvwbYNl+An0XCOIDHv+P9SpHMauav1qeS5nb2I1cviher/tx1NPq0ajaUT2lEUPYh6+\n",
              "Q3rT86JgQEEr3Tbwk+Dj5gQ1yZPvBPJpPMf87FJzml/2XGag5jeIoQB+vWX3GzLbB6xcYMmbdhoJ\n",
              "4Drf+n2DE1ZK+AwrxLNiPLAxvXy1s4D6GrgdtUigC253nxFqE3qwhYOC5ag+szD4xqGUvpgnIbj5\n",
              "EI86G94UvJIm08pyPWg4eF5KUCe6boU60yUpvsIHiI1GGokkeu0YLOdWF8XigCx3JmNuOQuHJtPN\n",
              "3Fe5nZcn1wasS5WUzR4ceWbzSRrr44LKp5SDE0jxg/CFTNYvGjQ+VAJcJvAnufdWZZiAlcXkgi1r\n",
              "VLAfTdb+Ws7ILZiBA6ahxba+kauA0sfAlI0z/uO9tJqiXl2L36nonJqTMsIhFsq7V/Eg2SATUT1R\n",
              "KeDFAeRBgTQCzvyYDyOxZuxM3lvieJy6MxBKuW8I0Xqdps3lzxZ/O/FmDP/RgE3zN5skl5b9gJ0h\n",
              "XBa6uSnO4UN9bI5HIPg8pDfS9reAKf4PGxxHDIClPqGKwWOZ8ATJ7tyq1zD2UQt6Gf+IKLF2J9gW\n",
              "73/KdResnPlE+wF2GlngnkKDxOaSpxgaK27QQWl98N+H1yzlCGaIe+NMN9JwmBv+ib6nDsY0XSyl\n",
              "XdTG0ITRHqRx1vjJIrftNr0e7slUyUznSHwWAYc/X2mExQHG3YyO17z3wk6cfVrjFeVW6xd/WX2E\n",
              "r/96LIVVSBS9dHJf7trAmUZBTKJ/jGuOSLfy4Ul1/NwRS/RbaXvrMTCgwE6eCR7/v0cZyJp9j2YA\n",
              "GNy0MoSvu16zX3Nj940PwnrskL78OWDjR9Nk4h0/tVdfu6hK8d4WZw0PIqNVm8gPtojuBCus5oav\n",
              "MQGu11QL/b0zGjCn6lZ21/yD/KN9swy0O0idu5AOPJjRmbyB/zZWJGVP1/K5RyfKz6faKnDAI66L\n",
              "5Nh8IPCYnOHeWWvMCxyxN3YbdY86nCCGj8kXAIhBJdEWZ2iuUZVTKAYuFnmcQZc1sS14GGVvC5C5\n",
              "AvCs1jdk9ElkHd4WA4sEvkI2sfJyn6uFI9qVx4TDiHfcgKyKTgQ+Y1aYkrcbsWIruRzVT0eitvls\n",
              "XtWijEwPUT+L0KibZP0uXNWlxLhCKIfYmbTR0RmppN/QheW6Zn5mBvuLp/ZS1DO0tFjjJDGkYnGp\n",
              "/1fuaJZLVCrrr+nkat6UZLPmgn9lixjcL3gNwzX7m8/X09h61k3zdVxiPdQE84Ajzmq2jbSWZUyf\n",
              "rVAUKm61jwNSWT6Ll3Rhkl/kJ7kv5fHsbVC4jvSn+jlvJyTwqJGnsGx5zUqGCL+9dzRZCU5t2NhJ\n",
              "o4iIWnmct/yrCnt/KuMCaAVh32fDcJzrN5dKG0mRoehwb+eQphRSJPJnF4urjQvIbQ0Z6wzfUIQ/\n",
              "48YM5ORhvZHLkX/1margVIsaWL14KR3btReoxbNiHwRem9Z0VjJvOh/gXz7hgC0n0UrFk8bfKYR/\n",
              "i0YqA4Pb1ZIehM2UM+p61VfuoshTrITIO+rVvIXj0df4EZGamXyzMeuA1P7asNb2nMMcE0rtRgn6\n",
              "xGOTSXcXjXCdWu0LiVMwunDIaxXdeiKnxaUd/CHar78zYJlupmYOL3khMbljuAxsvn7n2E4CuxuT\n",
              "J3Pji7Ano6IBHrzMxrf4wRPureHo56k6azOxCbYoUANIRzDXi9xxLfXDJyj/eSm8KqI/j+h4dnoN\n",
              "AB3urYe6NlrqMMiQtLIQxnKtf0KAlIubfXcpcScJWla75VTn/6IgvdshDwzU+m19bNJR1y/HfG5l\n",
              "Cx0E/eWSX4kG/WUkHIj0b+TwkaSWliCpjlOEjtoqYO97KE7eqiKNPCTwYP9/VSbMUeADxCwthxtw\n",
              "ejAyMKoAlpo4m3sa+VjVxIaic/jJZTlu4sosMzkH0iIBJH4giivlblu8A2I1WXE8d3nM97lqTrb+\n",
              "APdWuQwIda+h+ZelwEsERwQtg5R/HSCNVzR0d0LyguFvxMUsI8I53pEJDrXKM3AAFQ+9LNXuBIED\n",
              "RJsm7f6AAIkpP1H6F5onZiOOA6ABRr9RINaPqELCLyoNhTGnLHvVHRMqLyrIf3kCHkvYUmEMp6L3\n",
              "VhSasWv3J8+Sxa4v6POkeiWK3DZgirDmraKArSHs8FgTBaVWg2eQVr2TDEgWi6wdLL/Bi/4mFP4K\n",
              "W04UwPInlglXQnkOJkMpxI82EGIZHJWxG59DdFtq0qIbGik/Yt2CtdRx3y//wnH6GT5qMMet5w19\n",
              "/pJ18hMeOekWbFadPWjeeSbhAgrz/kf3alMhF0mJQo8IGRPGc7d7URWYMgTa3tbbZIxcFTFit4OT\n",
              "XDBV3J98wTEN218Ma95Qi1RR8ISyA/zttqCagvd2Rw1fxQEAZC31rhqZu+zcNwiejWhh5dnwnpSN\n",
              "4QwVZ0aXr/I7GvW7Uz4wffxnoTWea8KjoBqdzpIqs+lavzW4NnrLy82mVjt84k1vvI/irTU+NaUL\n",
              "WHxLzsVjouF+taDs90rW9Ll24j/nUrgtrsxCDnSp0j4w2mZLMVecuvYU6RnFKos0eOgD+Gwx6OrS\n",
              "ILRpW9hwpqV9yGh40KNyimpWxfK1g19qFOMdts+lN0nOkVbq5PQhpX9CNjW3PAGMDJQFZixh+z6Z\n",
              "2IXlxrDGIaCbMFWsiOKPk+xoeNQX6g3zrOvmaCQQkubk+C/Qi9wAXPEyvYaxK7HzDC9ZsVZ5rIL8\n",
              "Xd4wPoeTJ1i2nEVwQPc+joAN405Fj81Yc5azspt1Zwkz557LZyPJySM9dqx5liNDk153Pxz8UNGA\n",
              "Dj5ovcnwTZhrFLXiUCN8SB0neaUCip1wfNqhW16/5w+ua/2GLkJQZc9RinLmK9N1Xqu7CAA5qkyK\n",
              "7k/mSzOPSabmIYnSegHIka3usgpvAsTTnRhfbcypOfIPr55wVV39HJD3jjLY41a4wAlNWqJlJPzE\n",
              "B974AV/b4mi4L+qLyHlvFIBm8gnWjUbDgfC9n1qgM29LhO94Kt92zzyziaScef9MR6FX2qooJ1aB\n",
              "2n8mrTM89LpWO/RF8B7BFO4e+eHURffMh5UVM5ImZH+t1Yw8dYHNSMiY5yNeUfziUp4U8poT/cth\n",
              "2GMAJMOuFZogGDYn0bf7P0mT7Dmi+e0sUiZj7+QUKqnLOa/Akv7ZtSpc42wVEmt/3wPvS+OculgV\n",
              "3j73RKzOgpS5Ea4lLAcTHpoy0GgLhiyS6S+OeZhWSd2VixndHPYzY6KjtEFr6lhcbJwDMewY2qnf\n",
              "4/xmykPeRXaeFAzg/h79kjjavdddM2XnmQNmLAGYyoGn8e/DS0jQSEs6d5XmRxyR8h0gZxmch/Br\n",
              "KTmydu0eiGA1BjIugMy4jRuLKaMQ9g5n/3/2GjN2qMfxzF2vDwkJVw7uKpK4edbvJ7NUzULUzxot\n",
              "foZj7bG8isqQ5tE80keAhlocID5Yh5xLrLgUgBm8aJfFrx9r9kkZGdG/Wl9eLGBOjSroeBfJbms+\n",
              "c1T6tNIdFjl5lePdvhoyK6zwpBJwWKtsiafaAKwtO/gD6e4x/murJaIAVtgTKDksr4UYx7nqohuW\n",
              "028yH1rPKih2vvYxbvMzU8PVlcsJbZY26Wi9AHdaVUTGCji98e0Iv1rlGYrud9Pq6EUqRXvfI2DY\n",
              "KkFD++/gWfGBOLORkUVJKyGKz1jtD9ZbcLA/y+d3Jkwh8xTO6T6Q4P6nSM9S9LUp70scFJp/s4qW\n",
              "IRVgLClGrNmJE9YBjwzc5zUJv2O7k0VF5RW0c9BEenefUEYvOAGvhel/62h4IJJwtNw0lHd07mM9\n",
              "8PlT8SCgeHRLX15f63GfIQo04Pm0MWcVqcQzNcwsdGSh9Pwbgwb49Z/4xg73cxrhcyHTX/Ls7SN9\n",
              "3J4iBaof23AVTcaR6WPnCI7RqCCCeYkzMS8ogvz5qyg7Sn5Fy+yTZO/yV9iizKlbRjmeIZseoDWA\n",
              "IGt5mMz7ixvByWS9QyhBQXys2VXjoqXLzdln1g1K9oJYqy+F+IQblz+e2MqdrncXkqV+q5Iwgkkv\n",
              "LYlGRtfAybJ+4iGvjVqkHOwbeT3JLRkblxMFLJJyI3U3C0y0f/5aHdOTcMo3ruk2qNuIzxcRPO21\n",
              "yV4HPU2SGv9VXIcbK+QXAdnkB46d9DbDzJ4cWo+LSJjBWXuTywGoZ4IEZpi4EgYSYEbzOY9xCoUH\n",
              "RFyEkf4vbd8I8sfrE32hVDjpprHGY7ziN3bjiJEz95/oQfSH+xYLw2XRotz/AwNeS7d/oIg6TX3U\n",
              "9YltJsN2qgs9qdpYfUgNGWmUE46fDhKA3G0lIYOypv++c0GUaQaOLXyffZ6otLEKd494p3Pi23gm\n",
              "fqy70Jv+mm2kdkfPkahfGyHwzczzqD/8z528Ew7mw/GUnGKIIDDfv/L06KAond5fvoXbEMDzZ28T\n",
              "5jrHIUz+iUMZFhy06RH8pxzEYcBHKbwkFvo+4FZFH1JVCQVVYyHohG7B1hTpILOEUYa/U1XkO5eo\n",
              "anVBeQGDaBNcxIEBFpWGfd602aZPLvpT6Ip9lPj2Wp0763ciwI9MgN+0exeyLxB2Ltlr6iDnSRJx\n",
              "LjyAMqeHAx8e8W8+DpkAgMpPw2ubus4YpxPEoSjXgzm2sRCVNqihK/UPy4Oj/AcYJrR9uacxWYSQ\n",
              "QOlDe3pnCnlSsTQdV/eTxKL1OsgESUtL61jY3uAqtcSJrE8p+1ucyYZJgdxjByYb8l0osbjWG1Du\n",
              "PQEbCj5oG7IaWbUDARKGffkQUa8Zl30c/wc5btYeYfdH4uB7nQSb7uS6Qe+LDPccPcpObmg9sT9i\n",
              "YYErf3U+wWR5AI8emosUHOMnHcke2zcEhdm6O3Ifs2cX6o/pQ3dloGhQN588LH41pUc/4qf2e5hu\n",
              "9iQ9g0ywxrS+Hq9M+CjI4wF4ML/1jNrbYNqc8dwgbaPD68jwayctUIH/lpUDStxGD2iz+uRyJIXk\n",
              "wr1F1j6AnCT4XRKc+csM1FMWBT8jIQ+uOa9YKz9fi8K4Da0WVW0QGGMllqO66+cvnYLQm+6L4Y99\n",
              "Yx3XYjqo03o7kbP/23kXXTj9vXvTw8jHPGODJJI237JAveuh9a/qnAU1GA5FvYnGzW5G1rZri8aS\n",
              "CQ0m8g/YmRVPZET5SoMNDAAABn1BnkJ4h38AejQ6cHwAlkW/zSPj0bA3T5Ktld2sAOF6wZtLvkCK\n",
              "qGykKBkYwHKyEbTsJJDslWeV2AcL+vO1Kl9ACv5xAuKRcSBw8Czq0FeCBig27hfLUHSFgCd5W9mK\n",
              "6HIN1WoAoHVT5L4uPJ688QoUWlLclD+XA191dgHeMvbySDE6KrtSn2eNcJYsoeYLJhgD3CH6ReC7\n",
              "p0GMcW8dQqZjHg4XFFe86PWzUoNaz4XdlLiSf5MtBCqIhhqKDL6xDSzmUCQYLLm4amjEric8g1If\n",
              "rdBMO+ydiP7vyjsdX85meFwdUY348hI1PaffxK73APaecNNAgWe/BYmLvibarsVrtAf0jEbbNP/P\n",
              "Jdqy3WLqqlZMuE1VPXOtRAK+7Afhp6/dXXNx4+pyk0NE64jgQW4aHNRlIEYaUhL9GCe7iV8Da0+d\n",
              "pKRkkcQAIp1M6HC9PsqDPmKlB6PVRYEAXvZafxEaiWMpjpfaFFlcoqoF3uQrdF13qGUVvfukAWLF\n",
              "HjP0nuJnwOP70fCjrZi1ZWvebM5geLgwPSK6z+ynbgsraY+602BI4OrBz6uF1J/sC9/rtPEeN2Ei\n",
              "E+o8K9gUpJOSgnR/46GOodWYdSg50QJpraW3DXwfkNqrZh3W8xdffBX9fUrtVz+YJlizUYUgykCd\n",
              "1/PxyUC1zsNH6EJA5aLhV2K/iU94HmYk1RPHlIHdvMMUOwjoGjbvM33g515I8hC5VIvUTzgawYCw\n",
              "A7UxcYIrIY1WvWKEsk+1vbOtlI3LRybDQWLIw3kxEuefpkGxv6nnNA8G23J7TubsNiOT3e2jFEsY\n",
              "3yurmNB91sA6ehz7VF9wOJxBySc84ZGXJ826uMhdv8bPsSp8aCMfz3UvQy4tYEoum71RVpbgXqO0\n",
              "poAcv+r6jDiiFB6ptEekUGpH+a0WRHCsIzHJM1eUoPAl9SIc9vpN3ZxtOJm2QQ+FDLhPwWAZWHqd\n",
              "mRifENG94tWdRd0x6fXw7BMARUlJ+NZXzGq9b+H8giQncDD9Lbu9W9F8mZf29tg3R66rDzjKuqof\n",
              "mMhhJ25UPEjMtQ63nDFz9sYxMC1RblmITGdPeYBBHhLxDgQ0AYhM/6iIE57LDlV8rFg6nVbsfq3Y\n",
              "sJr2KrDwDtf+yTcff5hymz5M9+9RWiOmjqINkzcFGC1RIss3tjUF+IMLkdf9wl+UHP71mUr5SYpS\n",
              "I3nocq6mDouwFdC3EMCKydCt/H55U9LFg4VCAsZQDb0QObFqFUgLngYtBIWQEFb7EXKyguM6v0ez\n",
              "TMwbyUps0MLpNNZZ1z6Wi8Evqp+lUl7QO8TChK45NIPBwVX90jkHtHM2TA8DggHkVZK+8f0FtO1S\n",
              "lGiH79wATMlmCMcMOtl8CCVhRbCKnvJywS+P3ChO+38rUWCYisw2O+JBsf+IA3+uYBMYteYVmGCg\n",
              "4QnhHCUE08qS3jxAIsFh7LspgRHVw7cvmggl4nnRfAUfDhlYbowbrq+vA8ABSWnuMb8325K4cFx0\n",
              "F1BbJfiPRpt29YKI5sqsy+lbcXBYbyp5Cq8KnZ4Af5vEY8u1E2KVPwlXU0Vrm+atowVa2WYZGmtU\n",
              "H+v+aMrAjT0pWWz2aUmaKTPUCwnDdoMQyVkMdNxdFpc0stREohg+MvNk5dob3vnfN+AHWMCWwwph\n",
              "7cXsx5RJPxGIl4WoJB7xcooQpY0dFuMqCmEXn9SyIR5Rvxf7KaRmmku6OJwCrPVGmYYwY5YrWBV3\n",
              "h6/obLt5lpn/jtyKoy6uGod1esaF2oujTO/eknEO3OasDfzCWDDlqXbre5soU7X1mHmaZDSkIf2N\n",
              "i9ryglDJ8IBc0nVqWO6gTaCpIrwIOgDR6MQGlutRGnOkTfTaTeN0aMmStDDsYclUoFv1r9LKoj7d\n",
              "/4NwEbv9czPdf40CGu1kwAEfCnk3hvX5h9zJOqVU35OihDtIS0PA8U+Ev4es5OlzQkTAWILJycwA\n",
              "a/RslCaQHCYQj29IUuAF3lMJaJ5/mlHVweI5dXxo3Sj74tj1oCtjsc/tgJcW41HXhJ40R55VXHgY\n",
              "b4ouimWeH7EHG23i7CfRoCtigiNFagDUYxUq67DqCwos04FLM6zamcxPXYLx7SwAAGbLVUhR7r80\n",
              "FQBmks1kAlfdyY6gzFAVzzyerMUj04mSCgPRhIcQGZtKSRxW6k/FLUFui9ziXHlm1sR6xm/MmciS\n",
              "2DbYhfLRAyj5Rt/heXVFTBV/+GrEjcEppp/htQAABBEBnmF0Q38AsZ4QCvrAB/B76Krto2/Xo5cY\n",
              "yUPLghyQAo1VU0Wjx+jsQPQYfH/tcrsIWflf8nOnTLnekcorVZ0SGxZsaBppvWE3p+Gw7vckEP5m\n",
              "mxhDFeonh+7A56YVaMOWPxQlK7jrym1ML1hbu8ac+DC6gzyfuX6ojHZ7lO1iFcZEeB+944El2zUJ\n",
              "40BLCBl+npR1+iqZlkuhCMpaMzyOX7dXGXKP4ZFx6VvPWNCXmrwHa+bNmt1q5A1Pei4l81YZ2X6Y\n",
              "8+FHTA/ZofRrun5G23MPZ3zg0nvcj3Ap/Qn7+v0cbsXS2/+Q/CdjV1mJaw7Ww93ACFdNMJIfA16i\n",
              "X3tSTnTgzwPEEoxGsIgGnn5gjVMf1nl7fi7PxIA8mB9/TLl6lJHaHEj7YCUPx+OA2a5G009y3HBs\n",
              "AdrG69LUi0PdO2KYST2bRfJKB3QGubOJZ6USWQf2skeYZJ263QgQRCtCUmSzIb8wFqMu8QkrozuD\n",
              "fASLTOuS1CtEQHTywzmq1Y0F3NWoze1xLMUJerf6IBsw1Xo79WnCOxNjrXXEXJ+fcguz09SsCoeX\n",
              "nyD+g6c9uP5pKvzAy/eipOlPC1lXoUIf2c9MsG0aVNLh/yI3yQcfYWanEX3JlJ/F6WwCZy59TaLg\n",
              "wbrRyYoq4c6kNugcxFg9mrxhdd6vQ+mPYk2DEk2ib0+3LGJbRVKz4aBFufKXf17t2KB5I6gAxMSN\n",
              "USBc5Wu4QJakQovb3HfjCj9xEtbLG7+DjslPXZxHl4BoQLSC5W2hZoAR2sQsk8qprkz96ded8qU3\n",
              "ZT8Zcglr1vl4a8sSRf0NoFV66b6DGOcgsl4YAs4oepMACQq40cTIbrV8pWoCQGsbUcV9Z5KGchPB\n",
              "CVvCZgw7UXyQ1G4g0v5Fw7qdbC784d9RsfbjE/5cB0vQtk5ij4iEehYFqEodEV6SMZGgvo6RLgTw\n",
              "bbF5rtPf6fHHGqChJBTDJhybYhtjpoPv9fjz2GvFPgaOPjZU2LrERT6umI66eaFld/wtQPBmJz8Y\n",
              "jH+kl29DlKwtDYSfjr0wGcu/YENUgcwfhSQ/1I6T7VFUzEgYHpl280sxqFaCCvlFhBa566AY/eQ0\n",
              "YpprgVjocuYLh87jX9RjimmhtnbFxbreHdjLVoTnGoftdS4jOQ/KatbAGD77mVQ8tnywnDGMqV5O\n",
              "WyGIFciS2+6mmFrrhMKUWAclZut5p5SWwKHzXzudvnJflzFaLAyFlzveQn9QCCAJEG+Ut3+rnG9y\n",
              "M0xJkbN5WiX3aJtwNkCsJKBvegM6S4cFyOgEIMr7+PbdybYLpOg+Da4TeJNG+K/ARjRG/DtjXiSr\n",
              "h7NpiBD2rM1+CNJwVzWFYoJ7919Iw0UjBHjxcdOWiyJgIkAPwMvhdsT8+dqJiKAAAAPCAZ5jakN/\n",
              "AKhpjt0QAJ1rPtC3KMDIFeuKpkjV2eQYLGZpTJ9kKe11ApIq9WCZNnHX5zdxZUASft7seOh6U6ht\n",
              "1mGCtv/29hwG+87zzKBQicL3OwcLreA+THAySzK5cROqbfWtYKxXzIPtBi0gzRwz68CGMf+Uv/6y\n",
              "XCqQDUPZRXH+70pU4lWsCGsds62PoYDc5zo3/VsXzoN6i23kZeNQDq8jxbzSyKZ59QDxmTm0sx1q\n",
              "ymVRkVvAvMOyeGGCXe81yfz2VJuwdwKdUYyhWblS/K3yxfts37zNeuf3esat5QoZfat+DdXIU8S6\n",
              "VIywQw0mf6/qwVrtInZuvHznbJo8fumq5pT7Z5uMzrAFcyF4+lWTZyPumQEuSnMGUxjSSS9F0/Oi\n",
              "k2t7w9ZqaIpLA5SFhZ/5/065dM1dh9ZUkALvoCDx+5Kj4t97Lbe4WjlYyyiAcFerzvWzsAMFJ3sM\n",
              "CyWp/BXHLZ6fTQTa4vAG4Q7dU3q8iLAx5AAtFdBh/5N1Tw1eys2zqEri/4aOwAMBOXkAZxXw/uFm\n",
              "+UU51CmAoVrgZI0970vR38YCQmto/BsVdMer8kGI/SSU8bERUwcgm4FKxG/Pi9Khlty+1zJY6+Hg\n",
              "fJdEmxBzBa38sXNzTUkuG44FCFyxEA0iyAN5u1Zg2EEfw4TZ4/q14zzJQy92PT4RSTJ/MvIQBYmo\n",
              "ZWfwFkxTPYkA4n2tRWPW+ha9lbN6yd7dLMj6jkM7Egs7NjUxLH66Qb1pJv14VuK6OkppG7EUUWmI\n",
              "EAMUcraI8auLQ8hc/0iDrvKuu+rLkMeKsCNyPVNFsBvreh+uNEegcmvloYWOeTZ9T1ns60hstoFd\n",
              "sPcmRAY7FduEI4WVPuABEsyB7gBE8ZlNrdhSwYUgXd8e57bABoQArgSyLiFX/PuWaPugDQAeexPI\n",
              "oHsfu4FSNZAkfLRBCQhrgO1Pv/2iiiDRMEWCV9j3bIP0TGZSwN4+Wq5f2qXuntSTNKoHIt+ZySJD\n",
              "Iqt+zQkwkPXeHNVW8v//Dnqd6wlMUbXiq6yNoPHaVpKMBJJTBWbZtytj/Qxao4uco0UX1FI/bEl9\n",
              "x11051kW9x+spJy9a1Xzc0cvTwBrEI2gNVhMAL1s2vexd8yTVfMR1uxn8Y7LTzgNRVhxHNPq96YO\n",
              "7m7LfmvD8xgWK8Yw36QiUwOkHh9jtH7EkKqh2+GGhr3sdJwEdOBPeeeq9Pwu/h0h1/8tl5Jd89ze\n",
              "fBcB8jE30ag3dbSSO/7CEeEW2zdyd8nPNYPGH8IbY8Ytge+B3CcMLPkd+3EAAA9oQZpoSahBaJlM\n",
              "CCP//rUqgCbH7D7uAK6sulZixdjorvPXYgJLIiycvHdIZSMjzQNwaL+XkwobfWDzRp3RoWREL6Oc\n",
              "HYW9uMr+vJPtcJk1No1/alpULjNL0tjjzqeoynXxei6OF9PIKdOZ3LBntdaq9F3bqcCUaE49VoPg\n",
              "aAvOAvMLvcdR0LLwK0lBuEST/2KdQi510ENceyg8BP+3UzX3vMRnnXwbJRxMjVru+nZdLryDIusS\n",
              "hqO7cwsIuLjBmpCte7q0ozOU8Y65PwfPZhRMFD3xvnrEbWffo2dmPLN1RQILttLyh9awlBYbN1da\n",
              "ifWWtR+Vn4vrzFfrc5F1ltdC3sJ7lZvFkbwXdUrLrR9r6ZWfjE/GtWx8l4fW497JuxXPb8GSNoZB\n",
              "MFwrpSFOiK3kglD//m4DUNwO50M9H+iFGZ5voCiAtV6k/imKABHMyjYQ/UNUa3Oj3A7xA5kwdQPo\n",
              "yZwK/9k0OD2uip3rnjYa1KcPrVynZg0emRCnT6kNfCTVzh8iwEWVy+orkHBqCTkeea0BXdv4BQM4\n",
              "YEzpYsf7vwHgvZx1mAGP1TPgi8HhafG0uuqAgEKimnneE2091BkeoaanEPxtxMiB9o3HrhECM7EM\n",
              "ohTe2U1XskZWjLyni3CoJYFEYEE6pZr2h+51HgIBhpOBBdtPHVLzfvzw8hHh/v5tCxGmgu4W9Gen\n",
              "PusicF7v118NmS/KNlU5NHgtS39gAqkiOjDy5xO2c9Qql49XCcePdFTeFN3aeIQxjHAW+au0tnSW\n",
              "IsixpUsGW+Bu+xt6Ev9UXi5HBKYBArdzVn+62psSszA25PMWurjUtibQgRP1fAuzq3i55evQU9SU\n",
              "HqKzf0DX7vpoBoUfFBJEZP9JCJqDpPykhsi1avGhfHQ9Hr01R2YNE4OzHVT95iomtI68RE/wSkuV\n",
              "1ug7rfN2zpiwHCfw7w1q7mEaK/odHZ/FqNGArP5Y45FYbt0eHjwRVwsqjrlI22D6Xq7QbcKRus9X\n",
              "K/a/ttELH/CstLlihZg3I2PDH2blrp3bcT6A9pUTjETsdDTV18ogfVGBnM/dhREMPZalrn4B2VSs\n",
              "tMoG4rHfplIGF3jf4v9qle/BMWutp6QliBPttRvm9EcRCSA2/kZ0G3AJa9anlSJ3oUWSB7i6i5Q4\n",
              "aqLE2lcgbkku7KCGBNbcwzslPyjlAwU28q1cHTeaOVxuQoT3tdrd5Hmy8dhEuC22/OE+5wO/XSqz\n",
              "+UUipsX+tXadZ1lPK42fG929Xb/RwUJIelDyc6cPt/MnDIE8jOZbvgE1ms+0QBZ1ra0TKEoao8W0\n",
              "uDpK2ziw+JnMb/TCky33oZW1HfjO4w1mvT1PwNkuhegjWgG8lf6XYCmAzStM2WTReQ1hi5GOJy6Y\n",
              "4wBvUiWDbsgstcnbYrmrpMiTXKXtA2QQ7kY/yucuJKjmZtGTeSS9z1P14QmXLJjOHkaZ0WXDjh1o\n",
              "ENf/2Y635daXfyEvdVF+QBzLrEZVmfZv5/5wbKgpuoFZbfSZpePAbXNnzVf+FKpAc+SdJ2bOGnSZ\n",
              "g1SwrTE4jcghW97QgML2E7LPEEt5cm/trT/Dtv8xXX8jOW7wW2tSwvp1DPYXt2OB2nynMiFXZfNX\n",
              "6WFXAIAjpXnYwfmWCmaRJQcUGgfNoo+Fk1d1giNE/MEPL8eq3nFfUZN6spAnh/lu71M0NRmYhzMP\n",
              "nz4AiHI7ofbkwuXIxdpQ/UL4SzpDTeySCMBswQ/ith4GLyY8iGSkW1KFHNGnn0pZq/iHXZllowF0\n",
              "o17/fOsyRXbylhuX2wqSW4BUO/Qv/3U4Eq05IGyB8tHe8SrB6QKrRlMSddp2p/FylOE0x1Q+OGkV\n",
              "HAG/KXIVWuxiAkj6Cel+IKKiR0NQbl7MPJtHX1hl+r+kQU+HvBQPHuQ7kbqWEZGBAxyU092FS5PY\n",
              "AZwkbpzK5lBS0lVCJbkmy/yYzPoM7iWyFiWuwSZrLp+ZqE5HbIB6HM4OsRmqDpiUGmxcZv48Dmol\n",
              "vSut5JjRX8x8TsX9588SmZl7K2qoBBpQvv9dTm/3c9Th9UUk0qvGyUh8nAvO+1z4E/Oz524HZ4R/\n",
              "7Pb+b83sYTx5DitW9nirB5W68l/+zZXsEr8dGnQ+9jhnYV747m3qjmqLA8gOCwYpnXY4c07aucaw\n",
              "3OxRXFdJlXt5j0atag5C2On9eoH9HiSrO4ft8/+y91Mk9QTOoT5+c6698w+H2tYmIexjCbots6Vs\n",
              "x0jrPAilVI+XTx6UNlpL+XqqJbaBRr8+uiZbFsp07B6OXrEtKkuYQMVx/sBBtUqmMaMqHXprjjU9\n",
              "MS0QTK9wpCoLEbfmgJdRhwrtrZHMYrGRQHgQKlrZupKIVSJ7kEy89HudbfGMFPnQjkjix+/aVnBM\n",
              "WO/k4wUTGhcvQW4UhekScNEIK+plTw0AQHIPw1D/BgRADpLWkdYdGdbcByZFC39zghvGIFKG8VQI\n",
              "t1f4Fa3zBgA3E7n1kK34LgSn0JQQET7/5QpDcbpK4NjgNeXxdkSEMzrwQFWTbNWVZkQhic/uH6ET\n",
              "51ZLVjJZbIzHb5T2eCDWg6MYgB6Bjh7ZDvrRfVoQ35E3cPjmzN1r5FyVOBoRGLlvGCduq//NClqZ\n",
              "0TZCUypTCSYijDWiKbj/BTFDvDrEjMBkPQMGsEpySwIiMGhESHv1i/DiwUxP36sJtt/6fr1tDjwq\n",
              "8MbSi/57DvvzprE3OdU2a32Y9yg/Gxb3R0jnjeV0PMu1CYIwCiDWbtBfL+Eerf+N71ZzkrWXwqwj\n",
              "AAkp0yCiAXeLcHaPpfM06hRLDM1yBuEIgN+/1MyGagZoPiSoyzICzitqS/8Jto0gu84tPKHhU+F3\n",
              "4T3xxLi7ST78P5I4+IVtJHUQtpfuVKB3XuPVVa4rqYNQuweLL/IhL02DZM4Avwq9QAUabyZCXmx8\n",
              "XPu8h41rVj+4/wWNUbuCpKtGOVC3epAB6t16KJ/322RmmIN/pAop5x1agguzEeockRbqsaybpjX+\n",
              "Ug0N5mqcFUBW10AmD+Mcye4a2xhqvf1RX2HI/ZjyeCGVd1GYWHp9eHQOqBIDZtuTP6sb4JGDwcfd\n",
              "1WH1BOzBfj7H2WDzfR1QjGOrGCjKnufg1VQxWgYaJWVeq+gSk8A78/SaZ3AELnyOlnLcQtcZqcZc\n",
              "a1vgTCdcAPw6ESAywAaTD/M8ZhWr5nbFiVJn6MD/dOFlZNih6pVtG5MhmU+m31RSfssMSDdaQILm\n",
              "3QOzazA3Zn4E4f4jMOC01Z0rwdVf/hmJFBOSQkbrsquXFIonUhoCmpf0Pq29DGXfuOe60pzr7rmO\n",
              "Ov8vHfJJ8Zjm9zHHcZ2DP+ISmF53z40vMRPfUwgIHSe5MnRBgqLqfZBEakEqutTvzg2Nvb6b0SKx\n",
              "4GQEv4UlrSgZFXw/1HlRiPNFTLqiRRLDadm6GY4UAskEpTfED4naAdHCnhFZZeZz23KQmq01Ydfd\n",
              "vzr7WePI37A3MNi3HgsVVyU+gWX0ebEjTzLUW3EW2w57enS0zenq70V/RYFeKXCeeqv8zSacH4Pj\n",
              "8iYvTc59TMcw72u8nzaYKvFrATETaymaTQnfMfkiedSXHYBBa4kx2Tn5kxzPYC2j5NY7b1af/mqk\n",
              "oyUX0pKFAQfBAHhvQ2WBsJAR2eev9+h7OsXLzLiLlu3qibZDbK8T5J7HoXikWWfVbI/BrgiuRqYr\n",
              "Kd91fB5oBe2UOksLcD5MSNMS5bAip8Vsi2hioCZQfoexcBhuRarbCEV+iASAEg+oIlkfZuDTVXOu\n",
              "nZqN91sd9O4BytCmTSaCuuqrTyyqDKQRWLWe5pbhtPKHCv2W6drfzH+0+Si/h+ReO+U9TqDxw59c\n",
              "44a2zq6+p32kFTxHdz9zBVz/e1UaLH9yNY/PSrQvL23rgRDVk3SnoKYA6EsCHWC/3+G7MQXUD1a5\n",
              "sROhdq4IBdc0eOR2H6RN7gMAnO6IwIuHGSCjbwinR+KqbADPMdRM5vjFgahVt+WuDGYKbbsoqsGO\n",
              "kGX/+1HTrdPEprlkhaVgdTEmy/wgQz52HAisjxTPA5wt7uIHJTARzGOkEBoMuvyY6yDIWu1b2llL\n",
              "xCaqIr32WmwIPnc4XaggvlQ6gnTPSt8B1oRiAL5KYK7+EKX6Xr7T7wludyt2RNX9LQhm5DwZzFRj\n",
              "aeBecnjukQ/34pF7wocDZtshiOguz+zReIg/9CP54IOq7CBkRUKPrOxcleoimnU9fwwDMg+eNfIz\n",
              "sqN1Q9lb9sgMbf058JEgtfq7kaF7TUEeblIoYdqXwRIWDtBVafbNUk4xSo56lHB+/hMvVtZzTKTK\n",
              "sI3npKpntqraGf4qYCpzTyFiVKIt5bnc1V2vAXN2pWoj4YihX5LjtM9wUtGhoB0tJesxNrnCrRYb\n",
              "P+RX6+pq6GzdnRKT4KoKewnN4vfVr5M2apaP3HK+f/Ms9gCQD4kNqYKduOYf9shLVF1/a7KjaKPB\n",
              "qcIuQowyxy9PKEdCkVGI1LUCRMUGsgfp+tha37RqC9OcxuUQQojgNy0c19qZOFbs6qH7K+ADMdoV\n",
              "2aawHSQJV1H4rYxsi4TawIakIIXDNuHmegYvHruV3CQksSRUwgGpwkvs9o0DPsP8tElAhgvv3mFK\n",
              "pV//Vl+9VSCjpWXFYHM7OWliZjjMlBYKftdJ84qfrdGKPUNHHewjuWwgc+vdpky/pCa30aJynnak\n",
              "wdh8JNWisB9wrA36sgttpfiNgFvVl5rJANMISyN4YMvqqnKMaMezxIUxCfcU3RBE7Ru22CdP262U\n",
              "TsO42zwCPiLjw3eEfv+SeMAcM1U5L4OlKJHWlXc15bA3JLmwUqX0EOrbvqb9FEJ9MhhjPYP6yQc1\n",
              "INNjz1PTJoC1FvPxKQ6ceHZpRGmSqpDSJ8KG7ckhpHiD6ZikdJ8un2y7tkI7yRB3x1cpUhGTc6iq\n",
              "NmcKQWjJClNYMntX1VSb5HHbsGk+/941/ImJ/awZzSiZ8SSY4Vm+j/SHC+T3t3Db7ZR8UuiLqTbF\n",
              "6FQyJ36nAOtAB5v5YD5eqvQTb5on3/fJRj37LZzMcmqfIFVQvjXV/Agkgqi1YvOEc2KJ8CyhhFvj\n",
              "3vcezpCwyEqq16YfhR7QNc4Ro8/Lkwt4qBWeOr/0JJlIA9RGxGXg7J3s93uXvPuQZGMJEYhrcJ2F\n",
              "JTwSKW6BxzdarqczAb89KYFtmW3RuB/UjVpbGg5D3F9fgzZ9VNnAS/U3UaeAhTVsQsL2u/dWc0oY\n",
              "t4elchvf/8Zxnl2f/2HmPsx7EInLHDPcAlG8oANPpha5anANQKQVAM2bbSwOS0+E6vb5xV0qRboo\n",
              "z4EAAAV9QZ6GRREsO/8AdMjpqACaLErbmZA9Sg0QpHWxRLJwAyu9pbWxFdMZT9Mqxd8h/eabADU1\n",
              "Xtl6sc0s5FfnYUHZaFllPo35/zuW9aTpzGW3KigQC0cQrRq5mvg/JHacwbloYMnAVayNjv5Q687h\n",
              "n0fGdbQqpTP1qH/qS4I/2lf/Wbw0dZlvWPjWy2HolwgEv+LzGx5FJU6L6+ndNn7yvKGrzhe08M1o\n",
              "Rdl2PRi6V5q8h+x3/TOP5MFx94Zj3z//5GPY08O1ZqVVexsaN6e1rpBPYxNwNuzRZNgflU9k0Wcx\n",
              "E94C64AYwC5lz5qkRYrkuDoGciBM87MVTZhVKPlvWWwhNxRzAz+ULRRfYXQE4sNUNMsE4PMXHrEf\n",
              "vy6oj6Qv2gEylIKQqd8C8UFvU9V569n4aEeSqIewoInK+FokFdDUi7T8jEv+u2wu0mJ7Uznpqlog\n",
              "vtW8qAGEbHSQwZt7SsQcOS2qSd0qrD3TzS8zTJtcvHcVPVW7dtgqCqPkey3KjINOPsIzU4E1AIj8\n",
              "tX3hAtueG9Mg/x69RhyO2QLAqFaSbsvQqrtbGn8+laIZ5IdYMOzhDeGeDpt3Y/MJErKbrE8/2ENQ\n",
              "AZ07uBU9QCoPFVJMrFt+ag9QMCGkBAJN0RY5YRRjQJQr/8iJAtP1oAEv4R3DLoy3Ne2tUOHBj7ZI\n",
              "ajsnXXcYdVxG5/Vbnc/l4wLFGaglYcoXfErbHRv117mGeOgFM/9hkr6kc9KdnReNLh3SBeUFbhN8\n",
              "9c3SjtAFmifZ3PxNjzLMt9vrbMZHq20fSq56vRYr5S4PxcZ0i1aBQ3PDeXU3CF0O5obAhuDfPPul\n",
              "d2QOUmxOrKDek0uPt14hWfLbVwL6FpcL7RSZa98p+QOiUeVBI20yVEa5l6Rn4b6lDz27/lHKEY1x\n",
              "j7tXbBKRtwDl0UUIsdp+PPFiLkenyFDjIoz8FJZwBQ1g8yeZG2cGSTLybz1WVmgubZbBSGxtAcRt\n",
              "KIjCuxjoFT8HyHuQ9aLVnbUlc5BZxivF3eKcHx16ac2rQGn9fUepSfgN3pqpuqYQVstBvkLeeQ+w\n",
              "4etlXWik57y93dkp248j0iZ98IOYXJVKZm2lN0w7P8S55cDO51DBp2ltomo8uqdDSbyARlv+VhmQ\n",
              "8Pzj7GGnPLvvKl5CimE2wCjX8RqSgau3Vlgumk60eWWkZcofyoOdpS5kJ/iqVpxP2ZyitHPri30k\n",
              "wAjlW0L+aM5uuNnLQOjX5OrGgAvSYBnYza/1Rg6qg3s0FXWSdXrqYyHLVXT382eNXPTt2pzgASJ7\n",
              "hn235NBKf8axQZRiCraWb2sfAqvgCi+xAeuWU7JocAcjdtgUq9hzmT6MQSRwVKRXPcrRSplVBtHD\n",
              "pi6CWIqWi64kap/WfMEafpWtRLpQfxBNkEBa1frsc738kiSGu3LePrOLIl0xc/gn4hJL6HP+jNdC\n",
              "UBduMsUEiYLEvl8d/Xh7VRHY6LX7K1nLLv3lR47sp/5vjX0FdwuvykXNcinSro+fyjsyaqtfACmC\n",
              "BtO/4SGtDA+i9ZZsGPvi/gHpbP6XzPiBzuanKgdlDIMzUZtv99Cp09vvvKQt8X7yTiLbgyt/gGkZ\n",
              "BItPhXlE7aR9OumCGMiH3KXPhW1i+hp4GHl+Dj6GGSLOkMn4/66OomphgDHWgNUWrDEQFlVnSxt7\n",
              "JJRzkhONFsk2MIHzgkLeUDa3nvMuc3c2+5kG1GvsKXS65B7MhUy9EaoU+TUwmcpbmO64NcQ0cjqQ\n",
              "x6uMB6Jz3XcI3J8Dks29P5HtNACbkFozqsmJkKmVq+Md5IGly4pDVFZ5qrTAt4QwzDvAqCPdAh0b\n",
              "26xcBwE88zDAmVyx9euqcZsN4l0JBv7vXiOWc84owMS/xstNrAErWEDegQAABB8BnqV0Q38AqCB8\n",
              "5PSAExJ8gG/ILzyXa1dFbAc+Dkti2rqxzWWlvq2I2mb8ItZNJ37gzGU8egt5lAJFGB7/GozhQxiY\n",
              "89GgFrtmuGbWDPQ7SDJgOUKN7t8iCF+VsOGtcMy2phQs02pf1D6JYI+ObOatHw4g0XduONKXXRZK\n",
              "5fWzx2Qzq5aPFnZX4UNWO56ED0bmUkNoqiV9egk3t5dH5q6EONUYr4JXAOT9jWwW2g3E4jAsDdOe\n",
              "NN3yhDpJQb4/wJCOtYmaJrOcr8KLV23XBxWzOIf3yxDuPdKg0Wv+RQBDoOGlfJ3uRNAYHcXy8EAu\n",
              "lg9MVsOD2OQNlVZEFG18v4Lqyo0VjiNpzbPma7inv7EgUp/Awy7TaazTYX7qalUlT9UdzzYzXlaX\n",
              "xUeBvxqbggFQn9QRSA3cwDD2vEi/b+stuPOy5OHJL6xQ0SFWZaiqRM/+9xDRn+h3m9sc5UPuY/w6\n",
              "tuBg2HBhSG8NQnzMhD0EwHDc7bAK0UH+/QwD/+pmpqxOcVY+Cbm2LoAkM8LSwqs9cc/ZDVfWufDb\n",
              "05wM5cWgvcwilnP8yB+04kbAdrvGj7fg9+bPFTW5e2cD+wcNU9izuF22K2A8urkTnAMgxqvj9j8V\n",
              "RPEUwMoodx3CHX+5ytWG+3YnwQlZw7u4S/X7Gwktyq0lxjw4aT8SGtMvLVy0xjb8LH193/fXUWeq\n",
              "a11yiR/LYBeqSkvN5Yq3FXVpA8uC4lV+lvVyOU/EjX0RNwt52pF5OUSZGjEhaItYpotB4+viIpMa\n",
              "LpUE0jxwjiwCjZ3BC1uSNUY7TUibGRTTS8rYGhvuS4OWEugryUdqiIgc7HMZvMKwKMHbeLaXXpLX\n",
              "UvL5CpJSPXnOEqQH8DbyjHOq/CBmWBEC0X/rn8n2EqHoC9YD2O/7uEmQGOE7Dm0bhhg6/WQtkIda\n",
              "APK4YYHdDiUJYjmCQ58iOzxFU2CeT6hk/ZLnER8MubMbTF0DQRny0JGMtETc9ts0BKmxElIoAWr0\n",
              "hrhWSGJ38RGHu4bPe8YkK9JnlitXNkiueWl8XXPyyZr8GT+ARRaoNMD1lHRZJB12PuMLOH1hQxjM\n",
              "vyRupvSpE+DX3lrxZJAckxzLigrbw53xptrdyOP0Qa31kWWW7gB9/4cIL5LmwO8ttjZtmNnc0IG0\n",
              "EvGjbPF37xuwoLjSBedIbJFe3/e3fC0dPsnDIo4zpyK7kBsVz/q3/yNJTFdidOg2KzzT4ZGUCPXH\n",
              "G6Oy7Y7M92UhKSZzeb3NncUBLg5mkb2vZqDBBbRmqfvxSXAUfEb/g2Ii4hkZVCIjJ443OWXiaPXc\n",
              "B6VWo2hzBjkWT7h8Sah0Tm492XIszS5zi5NMjNAteT9dcDaBVJSobK2weZdAz3ZL+Ma0QasL8fDD\n",
              "eA2QkxWdt46i6Y9qkvrLs36hgQAAA8QBnqdqQ38Ap++6Xko4ATItfno0ciO1onVSdwLuw/mfsmzV\n",
              "4RgUKwGNwJtN1npr+AwgQ/m+uRsf/sIDfy5EyHBLXXsRhGJ0ieX2srfsPjRm+5J5f4G2J46vJvmT\n",
              "+3ImDWTxKzO2aGMpG8lnMz7iUf/7lVqPIWQhdbr0Zjq+N8PhWJW5eDdGwQ4tJimJ89HTKgdpsmJz\n",
              "SbeaITXTg85FKmoau08LKF8AW21mh8h8DiQGRY8AtCOlYOte5xFCTpyqcJ90M4zrEZTGDBHt9zR2\n",
              "fX532ULv8bxJBK0a942upLmIoFcbxnXCXLIAdzOrt6FkoWM9Kel+AIvNZAPG2Qw6Sd52bWKE+Dhx\n",
              "hdJH94jEPOu8Y2KXjS30OoI6RFAGbOXA/qLp9K64xVjgpiT0S9xd0zScQRIHCAzPaQrsDx7gesP/\n",
              "3hwkGCUUqAoFQVS5AoQT9YBXRCYr5RzH1YqbS38KyYjtO0fVckXs3JEndmr6IRzp9/nspVHFfSa9\n",
              "DezvqprcA7yfmEYTI+983DE/GH5bsBAptzVzAcRC2zxQHy3vHzZ48C3beJEf8qWp2tzbl8V6buKt\n",
              "ncMCB8Ls13hh/fG1YX1tjdaBQBC+mJs3CbqP1bJVJ0J0JHg9DX6/Sj4qBHBlnK2lVeUNyvqIiHck\n",
              "5H0RgfoWQHYCdARc3NP60I0v2UhFcJt/3GhwJ89vRGhQTR+wNRkyQxTkcspb6uhGtQukbdluCKt5\n",
              "8UAqE6P+F2hMIQpR9tpSE44OYxI4jK47FezuCdXaIevSVBWddLl45dm2FPi4nqnMmP+nW05UzK97\n",
              "iIFvcsADnEjTZD4w0+IAln4xsjXHZqfyp5gnp2oYLRoQAHqEDzAMs8L/mu53sO5fc0OjgDTq+iaN\n",
              "fKXUAOgdAkUS2BR/T3by7EGOGHrLgXNup+OFDugzrQ+nCqq5rFxQ4/NTqW2Id27scMnubdfd+Mf8\n",
              "pvr5+k/TdcZ2RZh/51VfIgwv5Luv7G/arac/if4MKN+bypYNMRnUjKy5Mi8bwBsRWsezDAxl7NKo\n",
              "aaHHZDU/aeL8uoODhZzER+p5numle6h9CDtOQ14xzneLp5aMsBZ/nrKK5W7tEe+GoxeA090856lK\n",
              "tgaiumqdL8+O9hr33r5Va1csjGECzenisVNBeYtRVEZrlWqnf5ZVm5/vPYaq8PwYUudOM52ntu+C\n",
              "EfpmJ9+O0ACrFrKez5atYtkVzkN0dcbgo4HQ+vSGa7Ej9Uqys6zfr9ywRPF2l226tKjIxzJlRGWG\n",
              "bWsPrfAoxOJN6noEr1E9kHLAAAALu0GarEmoQWyZTAgj//61KoAuxCUQCyGPJ3bP8inbLnwA4RzJ\n",
              "lkiG6F9Q+SIgT+Fu1KsmJX4RIBBJc5J573m0bGFDfSQX7mQKZfqF/gcceVnbuHceiV4b1GFkZDFm\n",
              "sea15kwSJg6xO4EwMBtNcnjUO3Gblqx2c9405AMS33UEWNhuU8iYg3thsfRsf3mPxAPkTzzd0kU7\n",
              "G3CgZm0FMcrDiLyJWJReI+hJ+Tnw3f6/GKWviSBUyM/cfgjnmAX/Rdr/GDllDJQRsM83afZeGeeB\n",
              "vjHD6cqE6IDkX0jXE0+pybsuv4tBUwqYj3Re/8WyAJ3X+Z57dtI3vJ4vTirgBLUnaAUFlDLiRb0N\n",
              "7/MeqvOZykccCdVyxRGSdR+A+YNZ8d6VXHC7WzWrs7pg6YzHshnsqVebhAqQy1tCUuBzw0RqjMs3\n",
              "kV07PR72Wnez3s7c4yxE0FdE8yr2nsNbvDzKDy0irIdFDxcP7qQUFHmzSryWXmTSORi8kEQasbyM\n",
              "pkfMVm7lr397oFPYaP3sEsDihmG3gnpTNjmgWGQw4xBtFvYOsbaFpIU/5eD6GLj8zs6c/D/yk39E\n",
              "HO/jC9tk4ckpYMK15ogeL/11nZRRJnQvmJn9keGzGHBhCbjg/9GLkcodx1aFYhNgAZbyVEWF8Aha\n",
              "po9+fhyyhF/FHBLXVmSsWPIuZAHoWZEdSWoz6NaE9APvJMYZ03YdHN62AMmFMxRu3vMT96eMT5Uz\n",
              "bzRgghIFADarzmLUETDb0Qfs6/A/17Dw0eWMGYnfm7y5CCoIM3LJJ2jt368ruIiIuA5/cjbjfQ+4\n",
              "Z8DUC6Qj+naOPmE4VC146clvYZRANWqip3JDvZAliBIAmQJ3JPU7E84OreVMe9fMLZIDt4gmsF7J\n",
              "ZEmV8+KajKzKyx/UZX95jtKLoqEvDWOsxI3697/HrlLuAW66a900Dnqt5bHEvQKEayjVvuetFXrQ\n",
              "yyxjJbYUCkVD88l4H0ePSBvGQ3AYQEkaqSvEUx/C+IehxVyS3HqCcaYI4VP/VtY66fGc+6DYMKOo\n",
              "j8jrjmddNAiB3IA3hrwtFbNxoztERgFYAuTIZvrPC8WbXBpEKPrZZStLsZRD8BzzZ1OXcARHBT2a\n",
              "rddVEoyzjZwViPkqxGoH+W0sfrRvRSBc07q2EEBQHmPQ56hq1H8Ha4mwXfw+zTVLyt1eMwNM8owL\n",
              "gGA3D7f5SpX+mW4MHnGszZIXVJnMV/qW/NUsHIVPWRNMLKPgZ+sFIhtE1qPyyNemODveR7AOIc2r\n",
              "kmarKpNDmV8Vq6SXn5VZyhEOISmiZ4w3wF8WRq4ljQIOY/MacFEetZ1PuW2RDenQKgRkSG/PNa7I\n",
              "8hafcjQmiaawO7633Uvp9vyNguwLg7swVjJM5Uo6vKNh9aT+QPxF3cLtpFvgzRG/wod4RWfskBti\n",
              "7rMDs9NsFkC55orbxjgpzTHdc8I9JhAaEs4O3zdAtWMC2vKaEGSVhVVCWedoFcFFiO5tFqAMxaPV\n",
              "mSE2KvfTr+rjkjwdxXrwFp1c4yhDDRSIDF5uYvd7xuSHHHY4gMxx7dm0dOb2EannlYICbWlhr+2t\n",
              "WrYS4Y/8saicNtHNqKDLB0/GiGqJMQc8VxtXPhaXC4GdhzEFifJbwbWg9gxhGoxbJo6ezk0Dx51S\n",
              "2jWQV5sC32K5oE5BbrfduEWp0exBM0RFnHAj2hO7sgGC7kTRZ510G4HzyKAdWLwiCSPyUUJ8yBKJ\n",
              "iWvHCyG2pwLaB6guthcP3SBzI6p+94mv13oMs/c9Pa0ruAGMBYY9t0yYcAWtAzGck8MdGGzpDQX7\n",
              "4+1v8uAiejfUR+1kF+Igw+BDRj+ZrR7uRKLYciYSiG+0qLHSoQViUS8DrjD9vKuKP+e4pG35ZwmP\n",
              "PnLc6z4DGYzy0fui8j1DIj2y+elZ9/WDXSAtj5LtLi8AQbb+ZbPXW/tZJUafpD4yPOzBnlSTbPzs\n",
              "/35lP1nGOclmEjSMSICqQC7R9K2p/L1H6rk6lfNsTKvmtnecK4qdCQCHlWDlitPWtFAmYAbJwDXs\n",
              "A27q8QTvNPj3n3LQNPsWdNYj15dpVNNSkiHoyvs9LVbDpgFJ3aE9KOXyPVZV8oCPrNJzCqKoX111\n",
              "nuG1koP2arA6KNETVPtm8qL8v6N6cxRBsOZWCP0N+sHb8V8IfvfQd6n/xKkb5l/I3Dns6gMZFLqC\n",
              "DRUDU7e6kjoNi0F5bdLtMnHUtGTJRpBMQDHfwoXbIC8Obzhz6vSLB/27yDgWfzCm1zeayBgZoP7n\n",
              "qAOtZwkSliti0KOqnVUC5izVhbjw/cxa937lE4hOudtsFn4cIKNmqPVws+NjTlGkNODi2asJnhtZ\n",
              "gzsuVwXMa1fDuKSHUhPh2gGQG46ZabaKYY4oqR6HA9Pq3wH79GqxM0ApqFgi8ludn7wpU5QgC1os\n",
              "b9PF6jA5LB7jMXJMm3Wjg/bqa0YhtJI1GXTtg2aH7EuUNsdCSSJQvsCQLwmfFy4RYxKs7TT5r07j\n",
              "3zavlez6tOeV2wl2OCmWCZBcV14Q/iNtBQ3qt1eKZ2UH1xNvP88MXyOmf9D66bd253CW8GEza8/U\n",
              "EBuyAJ2KqdBmAYRGvFJIGakMssOhYmjNNoRViKBe4R0xeLk9nd2P3xNwKskvmUHgHkaDwUH5SR3m\n",
              "DHU4iDc+/1LtqG16mUcyNbtgcjsI/4CuOu2l94GkCJBXxmT+Zvxos54nNcAjjx1zYqqCvR5pN3e4\n",
              "KePyQqCGNoHpKHcAxd2YXow09ZQ1BC/HCrV2i3K1KxZhjN+iBo6FuyEJQC/803xs4lR5kPJkE3lM\n",
              "05XCJoiVuy3LTqcGa8lJGLwO9nUjR2Oq6UZu1WKmMjWeIAxVHd0b5bR6tQdWOSDCUEYapDQ3Yszk\n",
              "QR+MKHai1HqaQIil9mlacfVBKH2Abkuc5D7zoO2TpT2KuIf1EQ+9J+xyvEIZDaTnhbN2zBYmdvpO\n",
              "069apcUnhMtxcDHIF6DDfNnPH+ZtpuAV+RMboqvaUmQM4QLxLfMeN7BEjdWEsYMb4a+WXqALZcWa\n",
              "PF3PsbtHiiAuUyyHs11dNVG/a0KBthwN29ADUB0no/n6yw0DZ5y+QsIZTB+U2zj70swThxQLBLrJ\n",
              "MS61zmwPytJ6f5t1kGJftK2Izj990xq/gGCZ495jiU0bdIFBQtCK5OhJax14NBrP5kGAoLNsl9uj\n",
              "E3lCmTNW55/0+dZM7AVby6OipX5ZQW5pWsJaGvlbJ4vdsJ2Um1W3Bdh28dzasjpbdZGgmcWgXQ1y\n",
              "HGdk7Zu+H7Zv1QX4gJF+eoLclJfvYjTPJ+bH0wf9s07JT6SfA9Lly8Mqyk7OckEEWKJx24i91tqR\n",
              "uTlSBdh4MVl1SWB3KVH+5qfyDZWL3xhYJ8tlL2xNXQOea/6ExbvQXlTOmXdTyWtfAdYQ3IYVv+uz\n",
              "hhAcJsnYbdhoRum7WN3kC8fpVRKGOIII11PQGAnogEZ8Jbgoy5Xnvzy+Uc6bri7or3uOsge5u7Ne\n",
              "2K0dh5RwT3SZdLHPqXZ5Z7zJekPNfRgeP4UsQNRpA23Uqr2bet/LwLg5CWcwwWrofHhUL+SCsLMM\n",
              "/ITAWkiyx6B2Kmq+pB++hFzAvQx0O2gX/7kePLnmEKel5McKoMbirpvsjDYRzbG7s4rS99d0zPTa\n",
              "jSAIIXRPUNH/RQahdRodBglOqBCk+qimp+Ae87gWpq/zdAEF3s3jBPj6K6f2K8EFFQXhmx4A7RKg\n",
              "IQ/2WKIJsFniWKBB089y42u4V4OrqyJkFKNm2zDCd0tN1XP2AR5dCyl0ZyQoseYZsk4jhzzwWk+o\n",
              "4enoteh4ECQk8TSF2Nri6qDL2l1nYGPlG2rOoenfrq696JVuAAADARVN477oZrtZKiINzEyB+3Ek\n",
              "lT7PeXDNGdbU8/BE8oHw8Q7SvlpJXpQ4eJjSURQkq/p0dmx5hMoA/N4HrTDvGPKja1jKVlJnKSn4\n",
              "LYptMKE/WsYmLZ/naoL36tLjsg23bjZGx6t2EKQd5E45VjFYEwfYRCDMQ7nTAVgXSKi+tyVTgSNL\n",
              "7fEM+AAABOZBnspFFSw7/wB89AbLv/162LkALRBSU0hkcnIpQ2mzru2lEjUHcYKbabgJMT0P5RGU\n",
              "oRUdTjFfHZjmFGCaSPQgbIIX9H/Ol3lUp97pdmUUYd7v4VCfajdf8EUNRKnk/hB9GRhmgDnn8rr5\n",
              "3CGtOHXjL2dC8/1OVjU7pqI4doQD/qHzhR4x4yZPsPyCEEkel0iLnI9g8TzOWCWUn9K8Ffb+2SUu\n",
              "pAZgKXGHW/DsWTIYHSnMR5YY0SLjJpX/eFA3X4eFfzAQ0FBkxCpoAvF4Mp2VL37pXUK+zGHA/SKs\n",
              "sHJpLGR7Mi45ybcpL7dZbCZZOwiU/c1e6NM5A2YRj9T3yONWpnhmfwrlAspjlJ4YqIcpbieDNPFl\n",
              "KFFvKRt/nqgDSBRAshOy7yjZ1i6mpAwUB2c8jqu0QO8ZBHhjsczID6UU6zeuFl7Ay3Nwj70o0FH6\n",
              "3/cki/v+YDQDzR7LTWlxAzg6jcQQHsYZ8GF/nR1+LdBL0ib+4T4izkib8Uyg7XRMI0R02LClbkKV\n",
              "0xe20hGFbJeP7+vUZ3eA99OvhDi6YUTndKW2DwrAN6FpMtTS0YOExiun5/u6933L5DSGhUhe9RyC\n",
              "cZ6SQ9+uXVqYq4xnR04AJNjLUl11YNNUZ2F6KSC3d+QKTYXSnXhlACRrO2qkAwyEAj+CEwi5Edj2\n",
              "8wn2od2iaQ78FK5U58+3RTJBkLsrf346Qjk4eZshh1+/39qmjom5jQcFtEpswaglHg9D3UxFxvEw\n",
              "MZqUGpmmcLt4J1TEA+Xmi75UjO2HJihlGRuj3uaa7iNgTAER6t66bjEt3GYm1lHDveGWhRaqDrrV\n",
              "piSYDmoKEBJByqh03qs8X2DtD0CA/E0DnWlP3iPxrDSIxsu07K/9E+i75+fonVUlDCmfmAhYJcEp\n",
              "77LIE0svsBWCi+BTCL3jn1EIXtruzONpwZrFHW5mRbbFVqjuyYo8dnNmy1DMMJDRQxGH+j2qQ67X\n",
              "DJaY/reeli8A5a/3licgkP6WS8hHwukVG0oO2R17J0XCgKM67hhraQS9fQ4/xcBcvOlxRSr0TZt8\n",
              "TpfBixJyxQuxngmEO1sAGOpepQ8eug1ERz6GAjqYHUfVTJMgFFqJHzp97n2sQ3rFracAmaniUA68\n",
              "2UdaAFhlSf0KE3cAxGD6mNjRSxheW8/0vheODRjpZUAkAf/EcTysTIIogZ6iEF68CvL3AF2zA1mK\n",
              "YcyH+ixXgkfRVHZvcUc/LkB7owjDlb8QROqLCkUvnuwenrAM0wUJJ192AwrBGgESZxr3uFl2KEiR\n",
              "95yd8bdC/6m+09hbCOTlWqNmfpgzuiZM2Q6em7c21svKh4a592iJ/HH4zCl4NR1JU07lT4wKbzsR\n",
              "KfGJg72nXbgiq34AvTf+1H1csj7840Zg6WcOz9XvK9s6YVEXEO3/GbXxkDK7ItD4B+CL94qCsjB2\n",
              "AvviWt4YOIrU9i+BU6MdFGbrnb1mEQ7nRR9VKW30i79vd8onIRxLr5WvHyjJ65x4qjqji6mwutRf\n",
              "Z3/06/3DuF3LD0s4ywD7AjA85cM95JXaWqLe5H8qVXwD6g8OZDgWTXH7cZdiQ1eQgDds//YlQBpR\n",
              "KpmQAAAEaT8Vj1fn5/uJy4eCACz6PELA5kHmQPrN9Z/+kKsUhRY6V3llRCLRK8a5lC28TaSTMy9Y\n",
              "R1oAYuGUXEEAAALUAZ7pdEN/ALYd0Z2gm6VamYATSpVQKiTxhWUE/xXpVNFfJNFCOkZPIC6qaOmX\n",
              "Taw7htOqhr73WdWz5grSp2y7Pfz4zkfrTL8wmWH5UTuIh4GM7wF1ZX0Hx9bWBqDWcxyVDG8gZjOI\n",
              "BmDOZFP4wnOwzxjpqL7RQSoJARvTrSPVEyBYOO4PqN0Vp5Gpx+FXHlT4xkZB6pNzpXiEPxs5KZnE\n",
              "2t25dHaLgxAfZozv5PNkoGlg9ox6tZlJVUefe+U7Me1tcdrig2UcXz7ZA6NJsLGFhHZQ3WzrTJbR\n",
              "vAMBPzH7RVNFtt8B7Mk8yqmVuywjOiObN8IdTz5qCUKqdOroodPLJ9qcFle7SXGJM8WMdOvYMfBI\n",
              "RHJNVLHHG8R5Sbg89qM40ooA1LJWVmN90qQK5Szqo0gFHHM8ucEmhNYnCu5w0kzblMZnuFxU611N\n",
              "VCBh7KKoIFa8lPYTz9pLclY5TF1WDsqrgIg19D5mqcqyC9olx2VvumeP9c02Z64/RuOHKdBgN1CL\n",
              "BdBzO+qIMc7rLHoBIp2oMwt9nnwKfNpt5M49L9r2lhHDF+zmWurQ4O6PpHATTJXKeVeM07siC/hY\n",
              "RXhR0vprzIdwxmEp0PunqkoIL/IJKtWZStkmBr47JokEePFpOI4ukQa4ppWdrP+oPBrSoshiZPqd\n",
              "05c8q7bgoiYPH6iFQuvRCmgDRovwd2sOcInjH/CwlosycGzBbuHymld7x6P184hoEFIWOn+IJ1CS\n",
              "Wl9v5Ob8WMGG0CQavCjznWcX3VBgXMVrJqjrYrSNmD7OqiNSWT/6MqBFj5cgF1qnJg6O0ky1uTGQ\n",
              "9SrU92zJJdIh7Z/jdKDEmlQtGVAry8T3IS7rJyCsC5PQblfTXHGUqnkKUfdp0MGXZMeLFU6UvKq3\n",
              "qTyLSyK8LminyaIv/pPhHB7OjJvaq6JI1H45CJqd5DHHpJ9Z26+1vOsnREcdWbUI+8UICAAAAvcB\n",
              "nutqQ38Aou/VXJ1cALGS2kb0a+3vRjns848CDhwenA/c0RSYL84Xo/OZzBoVTj1JhRp4N9r/hSKa\n",
              "mD9x9G/RQiLurtufzEbCUNuulxTRpHklTPbvc9Pa7rfQ8j7HHFYCu+Ym3p2FCNPB/qdoOzwEXLqh\n",
              "ouNe41DdleuYKq8O59bzsVr6470nCRxxprGD0jXORDI/CN9eF/LdOrPXpPml+CUgqxCqOLWKZjfb\n",
              "xoo6seatCHerh/414C7T1xJm6LbN4CKfYzD9xkgZZ5oCQUhUJg7mPQQzHSuMNOm/a4Alo/p9SPjD\n",
              "JV0bGgYo1qR3acGurqpzFf99sdXsxn9Zn/EbwD1ybALKHalIKECKIFdiNY5OH3hCRhJ8s5OhQd2V\n",
              "uoJIDVqmtGZ4bBVp5qO7ocDikQCkxVGeI+ZeDeH7Zca47EUZJ7pT9seSjHhrdvs6Mwb9Xe83j+Ow\n",
              "p3J5eq3XdJlZ0up+COLOAMFQr8ByrXUX0GKpqytCgf7t6PwcmjEE8CCzAzATwnbqdxVKSV31BXEx\n",
              "C8OxA8wxQc0g4bdNaUQtU7VWv8k0C/JpM8OvUzneKM3WyoHrDy2xKnC7yWhlV3vW+SADrwasPWHc\n",
              "0xWSGCAqbxDFt4qda9Z7qBgj1Rvd8zz2iSL81tCZsbT5vxW7lg2ilDSSkMJT+hg3VX4lhd3iBW0+\n",
              "Jz/5gyK7VSBSijg3wN6fupNnypOmThHg/lZNZdnkaEVDLN45zE2HnZC/WXscTdNSPdHxIKwFQkUM\n",
              "76w3B0dJsZmzKxh0kaxwWGU1mwHcsBaV8UzIREfzsy3xO/DZ0O0yD04P1R6SgnzX9QvMBNAzfvIP\n",
              "Km7UluvRhZ8/3rwwesuFstgPTU+1LfDA5R0Qid8ejKhRNSvWXZ5MDhhWD5CQaTvSbBXGOriHyAyf\n",
              "GZfvIW2gjaw+qzJrQvzNkteF+w+8KkCII4UDZYXpy/rdgGRJse0iYCKA8gXlSWwmTdbwkNFstROX\n",
              "gLnlNt+t27W57fshGBbvA/wAAAlaQZrwSahBbJlMCCP//rUqgCSEV19QAWlV5gqLwBfWrBoRi9tS\n",
              "5gqJJS8s5D9chvRx+A3w2Tjg9MgTB1evg+6qIhf7dkWq6T/4HWJBPsKvA4SrANoAJ275E6Z/vvff\n",
              "0me6X3ux2redxKffvDk5UDe7Vdv5mrvt79Ez+BUWtwYE16YFyIbQgkmcPvXSI8iwDejbnnvW8/ke\n",
              "4qtF5IflnWqCg9oASU6yP4S9/CCUcLpThLALhFI/Y/HIpH5IveR5rj/0TY8YymCsNiQpDzNqDeX2\n",
              "QMf2P2OI5OwtXuRiSQ5HaUTF+ITaFIQvfsJJEQSQVCV2Yz0UJOOjFHfNvmCr1TZmhb+A4E0+ApJp\n",
              "kSXBctRBgzLONmB8RTpM3j8rt8ssDVgsYsh7Qea2+1glo+fuMfA4szoQfdMJLoBUu46DSLxmTDxP\n",
              "yks/AIoMJJcBy133r4o/nQtI+HL24VpYtey2r6zHN3YUcvG48UdTKQZq4dtR0BMTTlLFE0KDca+h\n",
              "CLNfhiStSuxwoqeUE82fYHuR6YV2mnQrf6SaPTbRKMwCL3dlLm74K6EFe4eh55hyN28m5alHVDJE\n",
              "+vYDEjIOxkR1qRYnYc5+tDpVDv4CEAtmGl1VwI0xhoOiR7n0p5wX9vdv3iAkKdwjAwmsBu27F+GE\n",
              "O0A80ZN7ACZmvzhpRSnqypVvdt1QfMuPLhDc3a4MaSiiWedotC2614JXVp5XIllsqyizlt3GvnMr\n",
              "UosX6o+Olg1SwRk8UAlucQngAAPq0hR80rkV3NPGRd7391kaWy87E3387jr2EO+TvQMngcFtzHvV\n",
              "HQnpE9indhGtsx+ePCsN4Py+vO4xX3NAiMQZzYyNw6lotxt+CKjFrGCOCILOohlvn2jbb7iEuhu7\n",
              "bv6kg8Vm5kI6Qj5R95uVCi6I3AvHXaFVZ3St+tVTnirMRJ5dplqFy4zPNwbTX9ATleW3PSLUroVw\n",
              "mzQ3zb5G3EiMwC6JyZb8T1BFmTT2kykMOs2R/4obP3cN1pb3RThUknZvS8nQSHEnGsE4v45959rx\n",
              "AxKuJYqEcfj6ldismuy+wYf8dVN8qnF0Bjdga7br/XoGi1aQdb+dUA5EB6ECISGpIRiq9KW6/l4h\n",
              "nzk84MryDM1ZpIz9a3Yd9bDLIJMGuRMyyO+XweiglZVTsOEiS1K+Wf8l2C/MQZdWM0skbeAdzIS9\n",
              "E8Jv40jlYb5gB7tImJRO4LBgRL/2O2N2HbveSQKWUpl3kK50ijzBziBUg+LF1YdDk1RHwpkldoIM\n",
              "8abGg3Mb0hggc1/P/rmAwZ1g2qyRyygaUrd1UTaMAxWzy2PFFpbSfF/dYdDYdvnFKVx9FtxkPxvk\n",
              "dlmDOI1pWylSwWPou57EN7ANIKUrMOwjYrFgsJItvA4QTBEAuIw8/wB63P4RVCVNtpQaBxZeBIuR\n",
              "IdRdCrraLcZOpNo0sQuthjhLl8lpgYNdCVpozQJG+H6ZXNHV0Uk/D6tJh+bmsfR2i+OORhvtKlFY\n",
              "0J0X1eBCgpP2dvJaRbjPU6/4RISqz6eCCN+H4UupXY3oZPbzxwGZZy85v6tJsFlKpux4obgh+yQF\n",
              "BmDuIUwQERy88/29Lpiyf+35nCdxTON7FjCfoXWJ1rQ0gClI4cl50go3iApeWS1MgmVxwN03iIX2\n",
              "cnpDdMj4K4wCa7P8C/h9k6X3PRXVGvE8AyrUB599Urk14o3/TXYf/ENDvrKZGo6CiRJZ3yDdEF5G\n",
              "qLRim+QdvRVjvBEGyrZ+WHuILE9m+zTVTmuQiyy+0EQrwlmA26uJLilphoqiAbsro2VyPNK0M9z+\n",
              "Uy2p/9ZfDB8iWs/LtgA3b0lxpS/NJ1IB7xxHcdaNptMKzr59fVHJDb693tCKsswnTW0IM1gI0QYd\n",
              "IxNnqSsDeKFKIQmRsuFPdD78H3z+BfWb61CwurTNAe0ykxVztiTYHAiIQ+pOkmoOZYfKhoO4pfEF\n",
              "v6V8X4Rz/g07Kpft+ozROw0vdMhhDcfRbnvoGQI0lG2wA4hYe4rYRsB014SERweItOT3igf8yNLi\n",
              "PDGf3pgWV5eY6So6/iUaYQ18ciU/4rb5OFv+y+uFr8keYCjOcw6dGwXLeQuYSHQT1T76960vVcJi\n",
              "It8JeBWF5VUsnCVZdlYvIzDxwphHnDWpq6RhGCajfQm4af+AV5U7/qjGYsu5aI1D3idstm78OHI1\n",
              "hoB7xOpGW5OPegJHMYGGB5COT8L9+k+Qcoxm/Io27B39IarAtR/GvZp0izCkpu1/SnD4Nl9s+Urd\n",
              "VcadwtAwThu6kf57rjfv54dEuJgGjs9oqXBWhD+LzRog1XxL7cnjTh5GcQvPLB40ZHmxBkSL2bhX\n",
              "f934vr9i2U+scJRWp4FcVVKvtg3PI6+ONs3junD3+N2fPvUAVD+yGV2xqgAaQiccd/yfJVR0CB6p\n",
              "q12oWCWLpkrfE18MeJqp7rl1QiHN2RKzsbDy74F1pduLh0PY7fvmGYU2RwwOGfGz8X2cvNU3uu9b\n",
              "Wy9vIt+BARvcy6J9P+UOTRsiUfnzq2YdAPWLAOQGhJkZeGY5eAEcnkdh4O8pn9QBj5mkqPdRZtNn\n",
              "a8Sl1pLQoRuN7uqOmrmGI7OytnYLLamCTe3msnPvN6fScVnQnTdGC2bYtTPV7bWDLTkNqdJPXgIE\n",
              "MvyvapN9WEHGfqOTGtKkq7uiQmu4Kpv9DluLDQINoCF3dhvPTBjQmRbLJ/K6hCd1N5Yi2foXzjQY\n",
              "KS/FOx/vWCwuo5fyfL3LaAJtihUh5M4h9P4eEoVW9GqPA8x07k9IsDla/qK3bq+Ko1k56wG+X/xa\n",
              "Eh5uIF3aQthXwWwVOPz0H2NN6O4QuXUHqvcFTU+syJ3EsbS/cBQDIPnUNLp1D51Gyq9kv7pnbbwG\n",
              "0ZQia2eNvl3y4okuMt7jA1Sb2SpDJMIa3caqKAWLM98IBNcffE50AEq7YXguESsFweU99BwjE2cE\n",
              "xAUdLXm2iqh2v10RCgEgYE1CxoQNMx3TQJMQ4aVsStIPEFdx/vvhvOyxeTMyOMWcDwxzL1HzZLIi\n",
              "CC5OdTMQHSemZBDSttxqs3AQAABXC41ka/HM1G6FCThfdjtPjurkeWyCeas23jbC5RtDkUUPrV2P\n",
              "G3DhdXAwPQS5iNwiZSHLLc8XeDrOH5oiJ0/BgJdm6Wp1/a263zciVQftdHv6WfY55OayqNKHKQqM\n",
              "yC/N+wg2Obp0u94xIrQ60jyf+ESdAAAD10GfDkUVLDv/AHHkBCVpbACrLLZ8arIgD8xLcPf1qaaM\n",
              "v8XAW0zWyeuZsGKmOOM4YiqzKJxTsyYQMUQhxHkbHa8QajNLwDj1CxH/B6SG7PXohgpt+lR61zIg\n",
              "CACKosBBud+YH70L1P8kEpTSd5dTCYcYLskZ66IstAnthm4VxxXvCl3zP1UDaquapV8V7GGRIEXq\n",
              "44uROBPlYXdM31OxRA/cKXROFl3PzNv3KZEl5eg8ugF6JyFu3GWwf7BYIl4S7yhR7weN+OOUq/Jr\n",
              "JlYR5NZQtIVVAIfPmz5E4Xly3BVOyp+34P1IVlcviIvw7ko6ysTTPh+PjqVpf0EYqMza8F4WWSFz\n",
              "K77gUZZ2PiyBVd8W2Zs5KGKLSb06FtQmVlkXzz8wB//okhgMs4P4my+dOSJOvHNLOXg5EuK36hmS\n",
              "Cy3UDQIjdSwYttYv5IViOXMhvLhGuo6zTMfEsN+/2l6jD0WA0mMKsjGO7Bwq1JBoAbDBu420Ct8X\n",
              "7CRWg7PuARZMFDRU4eIHFdOzSeE+HlxOZEplwVR3gc94V5Zy4XtPllIxuCqR9TPMSm5Q//NfTXT9\n",
              "FkWSt9JC+8g/auLM15zhQWivnAb66UOW4RTsog9CoRHrA5otrIA7aKh4eUDUkP0quRdRpcwDAYWj\n",
              "gnaXYiMHBHTwifVWZ4TaxeimXvPxjOKBVg8QhpZuuW8wJxH52/SL0SvCHFt3tOG1BNKoydFhdLRc\n",
              "g394t2FcOBAlPiz78IxC2vW8k6NfJ6qDqHZRodRFeiQ4eX+OUiCAiOPMPCX3YHYuV66wdY4Afw2L\n",
              "Zf3Py5hbUz+bNRUxV13briXwcXdMC49Y1MjsaMg7bSg7JSzSbTYr8UvL474nv8tbmjba32Pag93M\n",
              "CvmpI0Au5w7uZgWurINGG5/uQKwYvcKF9dn/VvV+nnpxpHRtf5gZuZNY3J3bzW2yTs5l/FKurDK7\n",
              "859BdU0m7CzPpVlCvq4WVCAreBVoEZbDDyGzYmDOLj4SwWHoAJ4zmwdTvNN+0bebAjF+/KyxiCph\n",
              "HMMsgwREQF6FD8wJfuMWhCRJKB2yvZKh5/Ug65AAzqEMwuSuAt+M3hbFxZa83bmBCCcH1dtbsiOi\n",
              "pT/I7eHj7j0qZRBydeS3XMRbh8Sr0bQ441XCtdsC6wzeFvNhWBI17cjjMq0ZCJBbEt6aS6M1cf3F\n",
              "4RirybUQeV2pvckQnGOuBAtcNKeWTwKVk8ZfHKRJG6V3gAz4PUpL3UrBE5DDxnMrGJyycD1ErIMZ\n",
              "Gj7Bb6ihuRnqRB4V2c7CZ8EPteAfatgffjW9fTNVOhvCdHyZIRdxAAAC/QGfLXRDfwCif3/iAo92\n",
              "AAWty7pahslO4aAlFF9ygMuvyRRXppXZRDRrZ19xvuoeaHNLoVH6uXlJpw/SaSirlqGWmNnB6Iwh\n",
              "o064lz391lkiXC4YFitNLxS7G2rjXKylYiEvB/o3ydGP+jBydILvsvhG9noQHoHkOxYr5S//tG+5\n",
              "5+Oqi82maALAcxRDeV4IgLlfI3FtS4BAUCg4M56tB924iGf5iJfJ+Hk6EUma2Wnbp95Fc+HNxPky\n",
              "BugVVCekrquq5rbOE6iHPvKU6i6OdCluHehkYZS1I6fVoLBtHesFMfUHzlkvRkyO4B09fpc2PnOz\n",
              "R1H4QOgAqSJWDQVHxECE0mA/OL5rNxzL70Z9x5GPOPKsgXjutjE8e0Z7pwh7uoFBo3hWUJPoKJt4\n",
              "m37gMFTqKCgh4bL8ZWOgRYkCcN2A59zkmfSGfqNmMsoB9PiFO6LM0dZeD/vP6FgQkcOOWzwkjI3J\n",
              "6CWwuo0dQE2rTysDBw+kJJFHTpOfABL4Gs6mkqzLcGdDzeIvcfWny6gM90/j3PNUNb77Qh7GshMK\n",
              "ZY7s+KggVo74GkDOVNQUJsfk3E5fDjGYbcbONvDfQjonKbV5FNNTUoFKXFmH1u+0znRavu4eGwbl\n",
              "cgpJh8MrHZma2kretd+mCticd2RlR7exxG32ilH4d2aLRrY4M5u8vy36q5EaM6n/u3HNGV3Kc2gS\n",
              "Cq532FHeWBGpf10GNvzH97/G5rEp8RNZWSBFms5jc6Qoin5H+O9a16fvQ+iuLqd1PngEmro6S2bE\n",
              "hQDmF74IjtOqwfU8hExc0HK9GQbaQb2UWA9QNqVTl0hz6esp6v3Zog5P7Rs9rUGLFLmbeKOt3uVx\n",
              "c+OC5O9Q3GE6x2ZkEhU/g3DwIom6pg+t5AwyYtHXegMtc9kdVwggO/sELMJ6Swa3w7eHQosivu3s\n",
              "Ls5b5/cMWKb/SA3mQDZ0mYehc/KJolm50CF9BXwpfgLFFzEWYAICdFLg4KzQecv6/4Jx11xSrzZH\n",
              "4kdkjQUkHqyFJQAAArIBny9qQ38ApDjN3iAEqmVeu95EnZGDXl7Z4R9y9RWssYZYydaee35iY4mr\n",
              "oIHhHEwnQ+ZCmETchQ1/ZI2wxQlJodXcgpJEBYiXHSWzvyrumeAhi6oDG1vc1bkXmZdGxz92cYwh\n",
              "59lzzY2q/bqv4WIBLJOlC2Eiq2uuMkSAOuf3mPoO6kSxqIU1iU/J0owdLpu08hGxxF/DgSs2T7pt\n",
              "NAjWpPfzDlpF26AKZUCcU8bkf/ri7YrdwJOpMpRQqM74jj+K+o5L2RC6zvQubopgKjY2+kJx1Cch\n",
              "R++LS2BjnvJ0vFxBOo+7Ja2lN5lbDYnjMxJscgsyuKPBU3GAopq1MPFcs8QWyIiTFzBl3Q8qBDYR\n",
              "7DkhWvdFEZL9oSXmuQABLacPc/fx9UfXj3bHaPSZNBG+F6EpvJ5C45Si8dPkFQUyB/Ksr9EEMZo5\n",
              "vP9uaFqKhQV+wiuss3KgFz8QFWw0vTxP/Kh56/kJIUL0mlqg5K7OhE7dH7fLYg3ngqbJwSfji9we\n",
              "vcZZndc52Lm7pGXaP9gX2mgMt2o9sjbh2x8VqqNCzf4fW3YSiYgEyyt72CrKzrU0BGiCyViyF9Q8\n",
              "jLWwS3oSrqJNQU6hDVipB2TA0+mMyLWlmAWocqy2T0wlYOP0Erp2wHvAB02o62nDYGyjMxG3efNb\n",
              "MUy+2Bih4d/rQYBohnMjAwgjtLGUxhmn/0wil47YUsPF77A2nPIQyIj/TA29UJ/96OCWUpHWKAk/\n",
              "nz+/L1j/UnJewW/bFR697Hc3SKsquyCM8VnNEc+7WS3gDQ9pa2STFmAUycJB6xaNr9wIWWdH7kyE\n",
              "C8UGt9FvgLg1+rTLFw932QpTPetZEUxKhTVHZTyTBU18JcVxzXoKuRcCMkqh6E3vsngVUt5VR5+T\n",
              "q2mazfRNnaOeDu0UuBjjlereCogAAAfuQZs0SahBbJlMCCP//rUqgCatwei2wBwbPN9Q8x4B62lW\n",
              "f7/aUDrPx3lqucaiOe/Ozg4757AeTGVls97X4cecfTZoaXOItHJSAMRwr3aywOv16kwDkKiAweav\n",
              "SkcaLbSQ3e6DD+Dt3ronUoz5N8yUfBJM8f7iWLEHeoK9cACRCU+N5koIfT7c26xfPyuJLAeGmMTm\n",
              "mxkyzF/zG3mneNB253UYJPh3lZnYyhuABrzNoYV3fDvb8lNBUpuN84VWfu9T2bAgA7Ajiw+7/9d3\n",
              "T7aA20yhLbNom0loKv8FGrigRE5Xa7bUIvIa+9tFVm3Kog3/v+14e4VoGl0BDy5IsTz/UjOnu3v5\n",
              "qwfKOhuXUGwgpoChFgPOJLvYLFPaG8FpbzZPNOc78LU1twSuFjmaReoOcmLMshdt0kddYACNOx6A\n",
              "yt51VFMCQcl8Px0y6tWTr/+Mz3dEjXuVLIeWeyL+yAqORYHLVouttWK/Zrmv//bsR9UD4EW/+2tR\n",
              "EUqCfLIG2mpnnlDF6t012Xcqbx64o0c/G43iFTbWXt8P73IAZiPWret+A53JZtYsIMS7IN44GzmH\n",
              "gOzdBSrVosecolXiIR9WQvVQlfoTj5bvXvZqOnzTk78kIVdijhq44NG0/BUuH4ej2RD97kbelfGY\n",
              "E04IBnSsszsVNNkSggioDAQTW6/s5BG+SPLANDSSUlEpLOvgMOtFLEw4JOUxsixk6xxdNlhcYE/O\n",
              "h9qKOvrIWezdx1qpUoC1ydSb2gG1Qt6wIlkwfWefH/6p4QxRwAGZCR/2Ya5/aAuhtiq6qVU7s0Kq\n",
              "YAZkBpNAUiFm0CMRXM0vC0tOdU52eTHArSTJfXMk4Wyb3jKgTpZvU/CtOQVyw1QmilynpB8OnIhy\n",
              "oW+apyQl+mfDq6ZOuRrGuqiCG0IE7JAGb3dYfl9O2R8b1qQ4CLOV19xBo79fzf57No27+ohIDYdI\n",
              "L2aavRpq3qLhLeHrJbOFVV2ZMTB1t+5pWnig8C4445BtwNOfhznwWvRQwB88cTSMC6MjAKZk8vkT\n",
              "2pBN65Xxej0imob3d4uRLfucOHgdg7tOdSemRa3G1wwY3l1R/r44ICAc/VKb+8XGBimgJQHPpx5a\n",
              "jo847f5HCZypXsvvWltpqa3Uj8+VT8TGbZe4ZB3ACZdvDAcoQ13ndhm+9l3sq0HX+0J+/0g0fr4p\n",
              "J4opTE8iQV4FVGCZ2RPVpiAD2iQw6e93kJ3JE39p80eR5ptOaOXYPGst6T3+vILSrcvjhmumC1YE\n",
              "7yUm+EfaoZBEyn4Csg8IPQidoC8YKbtkuvLNXqL86EqyTzG9CfKN42bXJAg/I781PuJpmvFsrHEp\n",
              "sQNVEjvNQRGApcyouNCF3soIdFOIITa1t4UWeNcwaxs0xXda+ZUrNmlN4vg2bJlB04oz7GuS8Zu+\n",
              "LztNkCyxozpumCG0uakti/6JZd5fkc+Xa8m3hyEjhyheC4t0gfaJ12GtvOvjJHBbGX063JaeH1G1\n",
              "JEAx+VXyC2UWPp2cMPsIRCNHXztrJKkXmJb0fk/WJvxpUkhN6NVJo0ZCqG/lcb1Up8AFok7mAyJx\n",
              "jp1f5N1OHWfkziofmANUICr/eZf0vHSTlPTWJl6kFbnW5wwxCpujg0Cm7zqtZdGYh7vNReybdQ9h\n",
              "LKJ319HCYD/MZtLFHjgSngfG3SXfnjL3ofAn2fZ/3z+AgZHZD2hfI6/XNsQdIgB7uUCqll2yRzHq\n",
              "Hnd3Cz52aAnplrSoVNi7/4l4bDImZS0A2qsUMhz7W1YOdlZQzhh/N4aZSl1/WQiMw5jaGgYNcbZL\n",
              "z1juIYU+g6LGq9QnyclsgttcKRaMBPdB0SX/lVWGEngjL4ywZXBmOQE3X2sc+ritXdwsw0Z8Zyyj\n",
              "8NwNGI0lMAwf2GO/hzC/ZlddNLc63kCbld77J+BCd+P9vYe6E1pAUmNwwLnJe3HK8mGjI1wXAoP9\n",
              "h4K8Rqy4FAU+eb+e7MDCgXq3oNvFCDv02+02nAp7Ev2WVi2VCfVu73jqXBg7t8r2d6eKJXHWTy95\n",
              "k8kKMvCwyGtaIZ1XklKFIqNZmK+vWk0/rYTCWzPQ/wiY9zEcCyaVi3PEAGBN+9/FjRwGBCjiWe4G\n",
              "iwfVQc3eNyhvv8dPxbA/W7wfwr+EqyiMTBY6XRzH2ARwqV8TYnVwoJ0DerfoXE/kcfULCcPBfZbo\n",
              "7QX/9LE9MNMHvoTFXA3dvTAIFAlnXbl3YmtAwies549nHb5Z7imHtc9slSg8udbaSQBpkx8iCmri\n",
              "eWVb6zubm2Gwbb9AFEg529JIMJ29lF12GuD7bDwwvP9isGEit0x/tNat8YAB+lQSgDV3yjJLdkQ1\n",
              "bEAI7JBQ8HNgtiEKqdnwYo9HaUfLRAFFS1kAVhaEWTNgw4zQjzO4ZwYnLVxBeM9iNWx/nMJF7vaK\n",
              "dZaXDxQIdLMm4fHcF2I4qZeLvYcsvj2XvZa3PWsU8rj3CO1kZC+1gx+iLQF229WEAx7oo9cwpDn+\n",
              "QE583J6Q+7DG7pge+J69aEJf8IMTgft+Z2P2YszBC8tx5Yhabg7ZPF/v3vDM4KqsaoNKDp+SqxyL\n",
              "Rtkm1xjTRu4u+G/I79LtHD4Pld01oxsw2YQODIZEjbrjXUS9Yh9H1kz0dncBlqHvaEQXGTpPM4kE\n",
              "vmz04aDiKJGWUacjSYxFBZXxM/i7rRsv/h3G3tysY5FSLl51vuk7oGjtj5RycJn084b2bpUNKHdq\n",
              "R8AAAAMWQZ9SRRUsO/8AdL+8OWf0AFrIKS7s9Zo9O1+0wDfY/5ilMdGffW42pUBE1kxQ7E2UdSCs\n",
              "N3o4KMeKCx44me9cLQXfr9vIAxUfRIiuIDWGgTdYVkycLfIZG/3FkXDjCx6Xd/2vvWduPsvHS95n\n",
              "mzTEkaQm2WlNz6BCmrA/bMwEV5uaQI7dfDMOG0W351tExIP/KTnqyN2TBLyUAJrzOS518HHfPDIe\n",
              "/YWDasIHf5TWeNKgX0TUMZvTMKjFkWXDXbUT7Z4C5yVp6Ic5tuVhwTlK/2boS2VGQkRaxo4RAROG\n",
              "NXTMAhGP6fxU/ZYpHh9kDAynTP2pbm1IHkHpND7h8mH9s8CCjYKYZu9TdDhrUzZdns1yphDbKbh4\n",
              "rEnLXvwJsGkRrWhLYGTSvmjchBNL6zr0/ivUcRLtz6k/RdgOusLWkbICm95BxoHe6SzYs4OFcuGs\n",
              "qAft3AuDkiGQkaKAbC07cBQJkK/jyqeVN/OxSeYK3Y63ShiJh035nS/wQFnEwKifMbWKiJ6CBVgW\n",
              "Ge4czzFT3Q5DuHj3/Htz9DOFl6fjW05IJgLbVl7M/fOK2ggX+Rjzm5S0tnRO9F2gGMoAzCSStEzE\n",
              "e7vr40NTljt0VRoY+2SCpQYyyXqy6Lp4pp0KTZnDgg3Dzcq4pBwssHG+iuJ94/v1fIbeuWmlojy4\n",
              "OsxnvjQniAcrtWhzC5SUdGr7iFA2CwjQEJj8VrMZwBN+SjBSk22qTSMJfFVhME4PwxhhVvJP5zo3\n",
              "tBQlFyaD1FhlIi802driyFM4ukVSnJg22n20SDS2p3rRg/CvlMVLswxNd0fxXMuaQhr7nTLYAXHh\n",
              "UGa7eaCK6Eri7iWDyqNhNEErro/eeoV2+BB2bDFRJves1Aplwm4bfeL8GRSEVBAqC0ypu0gzl/Og\n",
              "lU8sCMqrnsAio9xdDLDY9UryC5T5Gei7hUs6ispKhBnvvttI3RSHUnBlGnP6wOBZmqKcqiEaxvlD\n",
              "WMPOA86X0rMBDn0rNG9MnLz4ereULYdprcU6fDDRvfzJBQJWJZ3mT1/kpI0VLc1je6qlPGYYsQAA\n",
              "AcMBn3F0Q38Ao6s9y1cAJcD+PrrNatOcHTL5zq79eiq9dfdAc4Xg4/rzONmjbf97VkzL6DDdLrKQ\n",
              "wZltN1sW39VFAO/MgiyuyUHGTw8w/RzRFiDeHb81Jb4fUnhxUZ3Z7oumt9d4OGLBYdgt2S6+HASs\n",
              "vZ1oa63HstxdPISe/eXWT173qoDfkM5iwdfb7dODLM04fEwWGQdu7JReLaivvFyVnxIaf9mLS/k/\n",
              "GQuVfekz6JDhl6I7eHDhwAa90jbvBRX14azYOg4aT1bv53sc0k4XD2KRX0EwdKUiZIQcCfkUfPXQ\n",
              "qGc5oEQQuKbT43UIBz1c3bR0mm3Me1EKCy/mxPr6hWFku8t9BRBfRu3UHUS1XkTex0HAL972dmhK\n",
              "COWIJPb2LRkeE/+gwumnvjafNRFrHGyXATo4W7dBnZJfl1H1NDFAbvHhCX3I2g2BnvqyONR397+H\n",
              "UHGDl8tPgIGjsBAKgaDnvH7RCvThAsAfr1dg+xO/llUqA/Eu1LYvGexrW7As9aGcHgXtTTXV64MJ\n",
              "xQauiV110KtFnJ7emQf4TIT7iv0cSOEwHYElo/5AJ3HDH729QGtHxWiuhfFe1g82VMa3C0IOAAAB\n",
              "pwGfc2pDfwCop1QXaABOj5kguCJCdCQTlIM75thWuPT6WMzUaGcbL/nRsNdmYgDRSlpc6XIobkZB\n",
              "zPCudYQrabrwMaWTdzEBHn/34tKDOb+NaUitXmPC/V3rjYdUhIuY3dxLzBaCdE4o14KUaDFLG7np\n",
              "nAibFErRQikOd7E6aaMPlpH+0wfq7OjYqhut8l/r+rzb8xyZum7Q0rSC/aVvO4zeUhrMeFUMHz/P\n",
              "yO+URk9gaHk/yTvYm/xfPIgt9lq19jQMscKFWxWKAErbl44/K0aegC3/TuW3IlkgJW0Xdj8nEBkf\n",
              "IF7cZNS5Ihr1ByxbNiKgwAag4SZyD6YdBUGnMbXEgeRsi+anDNY0gTyAhrilcbuh4j+ysBGKdgOr\n",
              "eEnXUM4DAb6/lGFOmx7Jtct9o2BTDVxuPssCOxCKc5giHY8+31b8Ci97OeBMS2+Saux8ShjpSELq\n",
              "hgcX9grrTK8fxuvRkEBmA9tczAq9EmJSK8i/ZgP1MhHBud7MVA8qvpKObqkdVLq9A/4/xjyhgeZ8\n",
              "/RGvmnwpYM3qLvoa0wDfso+Hnq9Qm9w24AAABjhBm3hJqEFsmUwII//+tSqAJHzyNgwAQmBi4jr/\n",
              "b0A71qeS6VZr6+XFocH+H1JPqY5zuayZPDkFVfROnPMGilYf2eUrSn+ngR+3ztZbdtELWQHm1ICY\n",
              "P3S5WU0TNLHcEWoxMOGeC2eo2B+C1mduagbZOwyX2pL03UqlOS5MNsLvBt1EhYzdGqP8G5p5fUBh\n",
              "uKM24b5UdgxzzYpWRbjbuwjHmvZ77sDGZOQW9VcLR5kdwzVUx7v/aaALRpt/EdeNP65oxemtmTQg\n",
              "VrW3OcUhdh2hUdyjRQi5ct32pQ3/nsY8nAF9j9q6CnC5ctfhJ5d8bCZ0Wtg2YW1ZQvBuFf/1PrW8\n",
              "FP3o90e/ejS9cqxDvfPha67wuoUNpNPwn5P+82aNqXGVb2Kbk6nDzzAvMR6KkJzt3CIAwdNwaY6l\n",
              "CmHs2O4+VsiMpg38CZN+9PiYUS8cuQrEPDjkDWNfA/KHtcqKEsJzOpIV1JvjHEskdsr8CjR30zjx\n",
              "SGlksdKEKDXVopNJ58dDXhZNw5TYq08kw2x0Hx4RjcabPuEw+eKSSCere9acvOYo+NR3BUuRktdp\n",
              "fbDNWPpHaQjEUjp+eic3t4HZ8DmvXG3YKK5WQNSySiQ95cEselHbmMz3zA+i9pdEHc4OfpdozKxh\n",
              "Z/JjXqOkVQrmkX4yB7gJZ0ECqSF0DtjAXOPkKnviDnuyxhqtTeH+J81SlKkS59smm14vJGcwu9Ha\n",
              "fA4dDtrJ6KcEaWvg9+4Ry1ZDHTylJG+jyNUOwyvF3VH8PbQ4x/WLZTma0qDpH2kSTccGDZBa9/Gg\n",
              "z7KiHfWnp+cj4My+BDGLhnijOlXgCvJvNC2BwE4MFrlJ+5mHCJwp4JZy97UtiA+Mf9JafLJE/Rh6\n",
              "G+hm/wraQJ5+RxR83epSvYnbMAyE/3E+DFFSFV0fpvEatFMcFEiNZ5bcbb6ngc2EDvwFQ4v0nCYn\n",
              "81vi+WWOl6qvias0oevTqyjkp87FK4SliwQH9Qpc6U1CY10HGcOisGyhzJLYIsyfJ8ZRuJG5ZHlj\n",
              "1vndbCBLVorGnno8awPvlVk2Fnlv9ONlZbwVkjzNRFzqb6gFArFn8jLC3A7F1B0QOY7vHY/u+R8q\n",
              "pzw/Bf4bhaoKX1FRyvWGtrny6kFtYASYENvBtFGUg64I587LlBmXs0v60ZF2UylsN3/4doGo0mvc\n",
              "RBkAUbuOgx7ZwuHLdC2bWDE239ogsk5nxQTRczaKImVzWZBh7cG9HsW5QJ7Vp5TLBMr4HsQAzH5f\n",
              "7U+HstjaXNR5UHN1cQsc3aRy1ln8cJX3D6eGcqeo1MX6WmqVjCwk6CRhXCRWJyKCsg3lR81GFWgs\n",
              "PSsfWhaJ2Os7A5msshUV+zu7/Oow96TPwXG/Aewy5QU0xlT3x8seoxNU46zVGYfBn4HvluN9iF61\n",
              "McgwWP/ES37kVMUa0QBsg/SewQemXEd/0eO6UQkVDu0ZH9uULx0JH7OLvCrZMNTD1AV9O05ZsE8U\n",
              "Y+oA6QNToQESQ46Ak0sATivgR46wAF8iluZ9E0EUlsEXtrKQPvuKqYgwoJxSBXADWAVVlp9xB4WE\n",
              "JIykZg7vwNfRfflqkIS7C2TH/jqXRce6QjtzQi65hmxIYd5TqAI3qyXLvd3CSUAbdNJb+Gvm9Ea1\n",
              "wcIlRmOkjFwxwPdgoo8DnxXF/VUYaJer/UcPXX9rRCNz9TyxRgRJ/pfVGvhfYWBnFTI73r3RLBZW\n",
              "Zs8f6V27uzCQ+bsLkh0EZOKsX26i1K3Jh6DfjvZbpgiFqXVbabfymfkPa4Rl8iF4kOgw7a6i54PS\n",
              "zFAKV8BJZYbq+NX6aLdgZia7anr3qHc8dkN0cumTKSxb4jbUAS2ERboM+A0dSDWTopNQ2s/HnVVZ\n",
              "W/4/vdPUTpO/oUc1hI3POHMaUJkhETPVFgdRtiUJsxj9jHKxoXz38uISb/ArFCV61IbzWQXoL2/S\n",
              "9BUb3VLETJYIX0fLS8mLTjn/Yqqn/Y9a4HP1d7d/VuNd69iJ9S7JAP7ujseZirtR26gGpvoKWZRq\n",
              "pqJu0oRCz/YPWxtf8WpAADM6scSZEvNJq0DNhWRlF/digoJ0fufRn1jupf78T1t8PYkEv4ZDelcE\n",
              "FOpwSkTDDqaIqgMnsXxRCx4lMp6Uu0mfzQAAAlFBn5ZFFSw7/wByQD0AFsuFUQxTk2jbO+Q9Pmv5\n",
              "eFWBXUeXxsgCQjSqlSm7kqoh6YlNUv7kQBKn+3yOgnJc/jkcyAxk1gv+aQFGpwTt7FaN44K1VnY2\n",
              "ZQ32eygeGmP9/vDQKQZsph6rlpMWK8Feig424Ywff0gjHwgHTDOq1F+Bjf5H01C2u2I75IaEpEIs\n",
              "oRLUEehLmUVq6oLT/aIzXSizuItt40VrKSSkG9t5Sqlqa4ZWHPy4mKGt2YhSEn8bY80vGBIvCElo\n",
              "Xwp4Vfhtb3R3DomJiFV4b4mBfUlWcnysCJEvlEd4n9PKzh0P8qeILnDKvXsYfKCAJoWaM0JEh/UB\n",
              "+cfXI5BbkHltW2ihZavvDdlb44SwGvlUsiPFHoicwc9ZkZ/dL+Pm9ue0vWEK59flusKi6PW/lKdw\n",
              "LzMbSXAu4OFJTl0hPISlousuyHRRpJW41oUwAas14psMg5Hj1yy4Itn+hX4QftMqm7goMocRvTze\n",
              "0U4ANSTmLU4bHOtDo2Bz8u7DKJu0/7xrNlQsnItfagToi1JWzDUfK0v9OQUu7d/0ViDlDQiygeRj\n",
              "DBPF0rxSBIbXMdrnjz2PiiHp4MGmh9oJahToT48WTYgpQ/MWooXYjnQg08ppPeIEC/GwPMKVGqSk\n",
              "aiIqr2Z1PIrAMM0LiyrqI3LTDD7sNgaBGZb9/sbNELZqPPLrKz/40CzlxnXjtyTJm3juEXYWw810\n",
              "E6CsS0IuVeQHXb5JsBfZOHvhfJjDNTTOD+qPcO6PVy4gU5jimHUf4AVMDUZyIdJPvVCbgAAAAUcB\n",
              "n7V0Q38ApCLs0gBI1Bsxj4pwiod1GAKWREBXpA5BSNWIR7nw3ie9vDYGIXmmC7h7nDZd5Cw1SqsO\n",
              "BjbQCOiI7r3X64jejdPwwzbZl8Z7NJLucIK7t/a3hloMv7YngCMmC8dbsXbjbKqWFq1zs3VnB7MM\n",
              "w+dJUk/Bdx1jvw2XqraJ4osqN0VBXezFQNVUO4RrwUYAckCxXPRfl/5ZKVZLOew64tWYEPZqhbjB\n",
              "FNVJiBL90waEDSEYV4+BuwOrRS3NMS6bHgA95EY9wq7yyNEamRfkW/Ua56/umn6IUNtd0gYTPLJw\n",
              "p26STlgrWNGwCxF3juuifokSqz9rbr1D7PysfF31Gz9NXyTlT1dTGQAmXFkcZktwwEotA3zgmgHg\n",
              "1hbq8iM83xamtnOuvy42Wn3Ctk5SG0lOoerrx6BhasbkG2m8shTsS8EAAAFpAZ+3akN/AKJ/ftIC\n",
              "j3YABa3LulqGyPGeBs+anvQkdXNPe5u1hBIxcjwdz6OZsbyI7nYoOvcGztPtXJGJqSVrDIBKm/3Q\n",
              "1IpEdXc+iMLoikmKzwOlYlhMJvspNIrtDTrzhLMq3KHdC65LVR/9ShoUvg+mlz0ElJ4mhToTbnpn\n",
              "tNIZfBPB1mOw90UPI+lOzxLUZNXNKQVf3cmBQRBHIG7Vuuq7vf+g1zguGkzF1Ps9bdeNvpHzyHQD\n",
              "zraRvmw2nZyz/5LY6KiP5j4ciR6M4b4KSlUV02rhjUJ7nobxJZPbFlAgicfr437DYdDBWThjaX/S\n",
              "KrHQ6JYMXOR12m6J6mH7Ql7VUXYBaE7xwTxzbzaZTR9kMCqdazAsNCr3PMRkFcWTDnxzP3IjpaLw\n",
              "Huu3V3VyF9Z3pFTVCOxVP/LHAKflQ0V1IwvTNR1O1hbvNUPbYVulGAEBzSxuBuxEo+nlB9sPzzd+\n",
              "WiLq/XhvQQAABopBm7xJqEFsmUwII//+tSqAJJfeVJcAJo5s5BfbrTDGSVmxzA6nESoQBkVr64qw\n",
              "sR+QUZjIRjfIug4c9bbo2nJLLU+yVzrGqTk+cAkqfw7AOj4iLxizTSDUcpiu6M1YP55WJa0lQM4q\n",
              "vrjB10m2ewcEGL13pagVbtzZpJUhrjmsQByhYcbPs4NBvKKKq7MZ9NT9uCEvb94ZShJV94XOO12t\n",
              "/hlCd7BKT8u8OWFs4mVMknwsInb1/6YjgWrTl8R9r/e2YBVONWGGiakXQ2KuZwibu7ALdWhvoViS\n",
              "5jbRqHzvwULqC722CTcGtFqInNqGln6lkQD6KxUkYQpgXxWk/tt2mryhD0+oostW+OuBQVLDo+Xa\n",
              "nFAoyq8lsjRvV5hBPLQe8p/Dn9QRlZwy8vFaIgIN6vQTJZ6+/GlHoPUICo4GhqnM3o/88ka6t01A\n",
              "hWuiQ7dZGwzuTg+vBhE7a/VMCwnAwU6rb9yuoEacNuJHLesXz/jTms6mDn7UgTZOlb1OUbDGYwfv\n",
              "fawdBU1A/ffl+eAboLAoo8dDATcJLwWGzjiafeYD9XXT5izami/bVnkiCgm7VW19TxwgLAtwlHWA\n",
              "aHuwroMNkQ+nBVsqlSy7DmvftCJjRXqqnuE2gLI6SiPVo6exKI6T2PvK5129ksVM/O7DSF9ARzPT\n",
              "xLmHgF/9noKeF3uRuOkAa+XeJuZXpz5Rmht6LYaG3snRbNG1TfNZy6+V5wWKUfwosX5Kr6MaRNR7\n",
              "0aqhct0vy+F7f5M6La3acPmWk7UeTVdPsP2D8R3d55h4+VzTzW6cHFivpPFthMZRFEdW5u+H54v2\n",
              "wH4EgW9ko1RBFgSnxS3GuX66RszauhivUs7JVgjx3B9D4tsHnTpsjwWwXkBxP8FuzY3b9msFHNlq\n",
              "ikUlpra0xGwYFnlHVuQ3QxpMvzXVYw9XUXDqQvvB31T+Jtev6nMAEQmrAUMNq/E5ShFi9t0k7cwF\n",
              "5Wq6JpFSP63HycxjDj4gTdo9Sw3JLduczAbh/+uW2EFcl5h+IZcLi8h49f2j0tWLj3Pm6QRvboRK\n",
              "x0pTLBEF4h1Ls+2STJntUy5JTtnJcyFdvhnPI6nJblsFfOiru+Mv2TLa9sxQL7JIinv+gOZhB2Fg\n",
              "7TClqa1yHj3gaUT+5bact1YmJUSKx34DC4rl9wdYieiaFH3YIdIuLLcKEjegN2tfKqyusHF63hdj\n",
              "Q1+foSHJtlUNJmhK4wnUxUEqafrlTF324WHI+JZeaX1j4X0vR09LSM9iY1JTAaDADSWPo7SDKt8g\n",
              "Kpy0WTeMRvlLV5Q43dsrZaIG5Z4FDPlpOPCcN2Ggu55zqsh6wTca7SJuZ/PjKzFHNUwzPyJJwzkj\n",
              "5utOqj9KyXuMIJE/FzBqQZwy1ItTFpgTWi43K384gGyUe2uefbCOiHf8vyWEWca1rTLJCk8Lsdov\n",
              "ZOP4DDsvbte7JtKSyUf7GzgUtcvnavubaG+0p2+3NdSP3UYmEptONiYCJ6v2GwoToVKu7dMRyaUq\n",
              "8f1G0Vk8PiVUCT4GNLxOP27Lf0/xPbquXwl+Ng6DEpAHhEM5bmqBN40NTWfHTDTk+cXUNf+c9lnC\n",
              "37Vc4Pm+oy/nwwj3MJZrfDj7avGJp6a/stpIyZh9zw4eQE2HIp1H1hZCRbb9ydYSOuIOSB3RkcEx\n",
              "6wP6vlU5M1NS7Ej5tZRHFyD5lCyjsEUemTPzUId5AXjUaGq/M+HTVxr4QTd47zq5Yj8zpoyfhqRf\n",
              "XG/NfhvwNe5ITTOKYi/LcJX6iwthXRK8dcm0wBwq0LZUaDvnDxNlVqh5OJItaZ36mHwULfCZi48v\n",
              "4H9DuEG8x+A1633tMxpG7TKm7aOjT0wcSM5rZuIQ7yiW9OiYNug26UjcT/tp/ORB0raEIzxx3evQ\n",
              "ATQzrW6HMROzMhuOI8c0x1rOBe6Y4O2sIIGB/8SZudQx9a7JUIlJtmZMbO1QEc4XNJrISWeJT6Pb\n",
              "w7YB9OEAzvTAcMGVUcJviDpBjroOSP0tAgOzoYcrqdzcZ2MCIlA77cTy8Q+2ttR+AsUAr9RCsK3J\n",
              "L2bDass/+N1xeSMRaIDHUhpBiov+I3sd0z4oUwYzgLeSDpShCBh89isEPue3Y1pwZ7OSBKHlwQ4p\n",
              "3HHv+eRRXeNTj+kZEUJfH4v7d1u6NXZ5/Z539JVZ5HhvhBA064nyiGaRsCfQU49OKFQdYLHAeUrs\n",
              "w6JFvz1VsUUDWi1QE5+qQKTEg3Mqrx3nITn72dt0nqQAAAIQQZ/aRRUsO/8AcgdJu2AD+nOyo/4B\n",
              "L0KdpUwIRyr5fZVBl0Yhrhuw4nJKr/7P+zKL27UjmTX7vop9d36YN/RvCSuD9b924wmFPKsH4LhF\n",
              "HYuMX4ZH3Qp8gTPurMIS3360sLBxcj6WH7PholimypJyXz2xq+f7WLPdzozIUcikYi/XB4/3bShW\n",
              "DSKNkKVa2z+NIdEfn+HRJuZ5fnln/U4+8GsbuR8dRwYY5QORdazH62rPjtjamlkThIXoD8SooTCs\n",
              "iSJWeRKLGaL+O6Gv9GkTdaCcUqUsY6c9gP/nCA5VaFdomQenIZBcI6Nt98NTUqlPnhn+gaVGSIY+\n",
              "kmEktuTTAtrjcm5hAMLJrX0bcI3VBhi/ZSwyLuFdKVd+qWfGhlcS1/FGPzA0W2XPfazbKRFkFg+t\n",
              "T1qlWFrLkSinXRsoABhoOyRRsgOTD9xEkqw/oyWWTpOirFULQwo40X7X2T9LuM/qB9gYYXpPmFQd\n",
              "61Bc5tdKVBOcWJ864fXl/yIHaJDqgy4MD2wVp8+QS69hTHEHQaX2WKqo5z0A8vyjWDXvxqazpbaL\n",
              "aVRIZjVDh8iBxa83JLA7FYd1Nb1QvCYiaek2V21cD7U2JsZ2WeVarG0zxO08Ci3ZW8bTTtQQn5bY\n",
              "BnSgh9k96KNSXbrBcY50GWt+4Pb0j+EOWUprZxabYrrKfZQdjhDxz8IbM7AHaskz0EdlAAABXwGf\n",
              "+XRDfwCh8s541cAJcn6Ca7bVu+iNmFZFaYKuHkH1NTq2ml2FddrvB92qytGqAbisHJuZ+0GyGmFz\n",
              "xDbOrrxZqdQ0Fmtm5sgBAozkTvg5/tAztKTVnZG9x4mPA6U+OsPDpjcQFNeYxaBNfXwhZdKE6Nla\n",
              "kdVNDDy/FtFx7gGnxd/K8zwdx/GErcvQv8RbNtwwTOp1k044lCKCNY3mixXw+C+K/vaDLu59Je5g\n",
              "WffO/nym5TjHDDPtvdhOfxqsNzNa5/CN6N2MyiefrP7+aPsAyhPOLkwNMxrCcT8ZfvR4lN/OVJM0\n",
              "1VRSIAOf6GODWSEENgL0XJXC0WCj026x30yb3WmrAYCEY/H/z3WbyXx5ePCZlKtrNDGxxfYVXw4k\n",
              "/TZF0p/OCZ0QQJADeiGVx8qxuP9JCP4NZCLbhE5k/KhQpRTYWsg0YDYweE1U2VWebLEH1HP0BrFw\n",
              "l4qutYWd/gAAAX4Bn/tqQ38Ao4q7GhrgBJ7HgU4KJraLpNUzr4MT9yfWVKiiKt1NBPNpd271s5J2\n",
              "0iy5+ysK8KmMxNT7gr5zKzWQY721Z0fdbMaThTOwl/NE9ZOJ7k2lJHUPhDtLV/DzWkTzIYA91l0w\n",
              "KBRiF0Q4M940k6r5nZbeSaiw7U8LNURFM0Vw+NT9qIEz22GueySpfCEyY+7MC4EO0J940I6Rudqa\n",
              "9q4IKXsgg2+lpiuTwazVBLvO2d8iMrm0e1X1BsZSSRm+L8MyNPWgZAVaw4YwWOAm0DKEx8wut6TM\n",
              "0lVveyPHd6c/YqX7Q+mgPDRQRQsSYu9aEm/H9Tw6UgkL8fFOUyMrUHqbDpblr+cPCrOLW3Bgv0Qq\n",
              "hcC37hBZLOkrCUV+z7pIWYwR1bajJsHGls6Frdjvodv8jdsP7er70X5mbzZ9QPs9Tix8LKG139c6\n",
              "Vj7Bt3c9pHGVu+ZQNZ+xBOv3EHw5Fvzu0f55aBZ1y/tW/u9S3WewM7i0ltZsXgGfngvBAAAGpEGb\n",
              "4EmoQWyZTAgj//61KoAmt/nrAEZXpkzzdPPjsIGRYqo220kcKuxeOzgFVrUbDfD/vMlw6naMw2mu\n",
              "u+eHy1AMfeiRbnRNz+HcWduJ9AM5+S4RDJQZNu78UQZe8bWPZheeAIaK0/LvWhRWdQLkruMLVian\n",
              "w59pNRH9PecSWXZs0hVQAR276DRU9+55x3PGBx9kj6CZ8/53oK0bAkGzZGZ3qES7wvgOQ1D1Egsu\n",
              "qgYSWV3Q38ZLf20ZLeJgx2ev3+RlpBdcZU/CBdMJy4s39FX3F5jrE/6v7cFUYVSpNEr7tYrmc3p3\n",
              "H2Yxhh6fIMom3QagNLuqHQIlFtgNcHMGqeIsD7buem60uv7RXJf/UoFqfcUBKe53gpu7VMqyKgX4\n",
              "HMCCH7Pc3dMtf68K4j2fASQPeRNRENg0T8e9N3tYOv6yOxfwDoT1sFy7VrekVX3NAHvXYpAJIg2W\n",
              "jNnsCo8lMm+/bVx2TBWlZ7XRRCw5drN/KiaGS7nzxdmC97kEChW2TRo2T4jY4quHsqH9Rc5QYkc2\n",
              "DwMRwaN5QgMgqgFDDmebN7FRYfLwAHQWn8zOL4gar8AX4GODr6RZabhwqy600+/cZ+HVgTOb+UoA\n",
              "KdK9qnAYczYuxTFQiNL3XXwKtSkanoX5LL0tuLXsaHeJYqkVWV5wOJoigu1OJqramI80BifsIW29\n",
              "955nwsJOhYQ/14FNucJVMuty8R5FpjPEdHgA5zNeHQMBapZxFO8vNcUCW/fxJsbU9hoNpq1enQG6\n",
              "X/27r3dxGpxFFwdZoynfGAv2Q3i3TJ4P36Zl6oq4T0gHKZ5Dol/e6d7EhUggFkh4r98dta0QrIUN\n",
              "CYrqJQ1BUSAzPi6NQw+BQSnzi93lk7ZuUlSJgyi9giWrmEAGjDxON8qoRRCgKvU6umNQ2JTXvS1f\n",
              "JDYNL+iPsSiwiN1jjBNphWjCGLhTLtwkqDL9+YtWf7YXvVmbF4R9a5Y0UhKM+iknsDP8Pwi+P9QP\n",
              "+lWMV8Q1GcivqPAGWjcyhMoQ+/nbGZC7Tb50ZLSaOcspytVSur0/uBaCwSp3cF31iXXXEmTILB6U\n",
              "JwEQrK82wAXqzeAZZK7zpQxLbwUA83qv/4KvFqp1/euNdT8iZI925VXqtRvL6pTl1N/HNfWW/7QT\n",
              "Rsv0XLb13CBvlRefUQA7M8DK9z5IJ6eScXNxkObWmjDhD4j4tlga79NuuQ5RDEhHOuHxdF/JFAc+\n",
              "rBNZH4RT8UJn3dJWfFMDQZyb/ynBCZrumrS5s0yodZViFCXpTTbMnLwdFxROqGcCa2jJoj5bAQbF\n",
              "CmgsVRCeUuUAmsDOzPvbGT+EplsRyMOG6sU1p1z89YjSIbpoXONxA4QEhAJING0jtkEd94uuB4kS\n",
              "vDelt+brEXtaORv9BvTIWXRXHfzSncuCroDjzARIQPk/uGQmgndqxIYHY1G6H4cv5RmCasp+ZT40\n",
              "cBYfm5rQ7lM/bpj5/GrC5HHlC1utOZCfZqX9yo4uoQ2xtcV1nhbm4bMy3+rvApPY6Q1L+KDIn6wR\n",
              "dVEsOUXJeeNYDA6h0G8y4gI6VbGBdGhe/wyJutPlvZbOrXbDpx9hEYEm1SW2Zht3eIPrJwMXMs0k\n",
              "Q1YEozntOqr2GvNWrQz3B3IWxvi1w7YdTHzKe2ghcfDpoIlMXfdEpjCHOyRxx0qrgDduChwXkEF5\n",
              "/z5fJJw+1octbsllbNwsNPi3qzSOM7nWJQhcorOTds2KgzyOmZ/tWq8WQLISaoA0ZoBNQc4JJeND\n",
              "DQLj1jsPM1xt0e+dgVVvM/0U82VZaHHYga+r93Eo4kzUFTPwMdrKg2m22gwoKQoHAsB5SNbUqwGa\n",
              "6VTPYn02PaYkdA8f8BQZGO7qfHrABhi5Ler4JxpQ+DNu1P4WbtpAy2r6Xp5B0OueyIC9gzsfIL3U\n",
              "UBV/bm+kFrxDNF1n3aQgO3KolKhmc7hVG0rkB0PxZYLNR/DflwoEzNBQYXZFOJy+kkWuHkcfwzxz\n",
              "Pu43GuDxMp0hVup/OldtuYxD16IzXYvO53fS7KpBEE9Qrki/Y0WuBxkHlZ5StHGUzERx+TQhj+M8\n",
              "G3vXzNr2UdFfEeZipMLVwNXx5q3YmpkCSLRaEZLki6jFb+HPWT+YRVeRhGeJrHl0EfBNiESwppZe\n",
              "K0TQxumqhkShn71+qsubz6qoeX8ejX4XKbFhlWJ2R7beTeRw1OOvrpcXXY+KPMhXQN7oFlg6z13K\n",
              "y6mYQadu8bPVNjvs8ydfrFDQHCvgUDTqmZDZ1Kd368vRVjwj0/2aBpD19LvRAAACfkGeHkUVLDv/\n",
              "AHS0FeDgAtkBJNfB/G/Gz3g6ikfdPcTNTZPc+Pvg9l2yQp2F2R+HTedTTskmQGAQttQpfIhIlL0M\n",
              "DyurXm2bYgJB2BSzJ9txSfDsjGIXE6MgWxqOj8dVk/mj1UvMqPYsII7G9e6s96kp5wTrG4l6kGcM\n",
              "TLDjiymy6asgJY3zv3nta4xifbv3IuXJOcKxg+DeH5jrvDZs4RuFWyG1KcZ34S5mtSJ3SbNrjiZy\n",
              "AVbd3nz8UmVYi0EaYTtipD4SwfNQXWqHfj3GFJWK7+HzBYen3g+3S1erTRBOOLMlt+yt6kE7f4Yb\n",
              "u5ayJPaIdKqJOkbCwyJumBCA7OVv11948qPsdMb2+B1GN1WRZME7sBG1xabTAvegxoRJt3eNAv7z\n",
              "rWKy04/rFFRfilEI18+8E6d+QQtW/Mi6ksJE7DCUhJ3S1lv7EGTlHsJZ8JiHEhlgam4NPDI9f3zV\n",
              "xdGDn01AJ5aSFxDITdwllDCNkJPAp19OmiKda9m/EDpttOtju16imOzEJwmZ8b7EbOtmH/R0l0EI\n",
              "DY8xM6sgjZrMrHkgIdctKAAvxJPnLGt0MH24soU8KpE9Mwng29j4VLS7Zn+mWnaHaAIjbLh7e1ys\n",
              "Nqj/WoTYSjtW9uodPwDmN9galw16SrULykuwVXBCaZ2IRFEN2ahFVcO1o983s59XehkoLNdnXoOg\n",
              "w2/C3KN48JIfZCL3L77JCPB6n9wuMALewkPsIYJGJ+LMJ2UgDjzInvKXuCrCTq1+FVDH89xuM9DC\n",
              "IYBXjURrvdUeQmtLLmS4AXd+LFJGA/OhhUjBTa2YAXY1WD2xXACTwMLYz26uQ22ycIzj8lHgOQ5V\n",
              "6G6oAAABXgGePXRDfwCosa0aCQAfwe90LFa8QVVBuTKLtlfdQA82qyGFTG4tSRVjSek5bIa8R8X6\n",
              "DFLRC1Ra88lTc1imKrqMrHemaFxPCICTSQtFQurIv7ZfsrULKsGXUjVhJcqzsUdJ/F2f8nvZIIkl\n",
              "7eqRpmsahwQS0VE9HPHbjCNKHHOHBVI1+w/AqN4h/ylmA2ey05N4zrl440YkJz9xrdIAxYlphAxJ\n",
              "T7n4Ba+spnDgs2r6sGhaHAJCywH3Dk0bx2XkxmCCj/uW9GCNu43DWGHni1Ljl+9cfojcfIbduJ+l\n",
              "vyy59CPn5fMFYB1tlJ2uagh6wG/1vSmLZD5yvb7rZkBPFrtQ2gN9/PZ54sMWHKTHqUNeLg/cPNkW\n",
              "B2YWdBXKGI/EyMf828xok5HTPztfZ2ofDHQXyQOJXdxHK0kfrOmKp9k7xjdljxsEVbRRiDGRax9X\n",
              "5mh/BuAqnLQ/ySJbHi7mAAABdAGeP2pDfwCkEEXlJACxkwOGKL9auWhjZTbcHaWT64HDJGrUe7/c\n",
              "1scA5d83pFNdoMTXwffz8/mywr89xlct/iAWBP07CWmz2d38H+cLFwx+/j3Dp1WSb78rrkBMvvw3\n",
              "/kH189blQ/M/xINu0e+gcXxLCnaRP2/3zVIt0R4BMEYLH76rdBhATvBltDRR5J39lX2NRfj7n0s0\n",
              "NOI8czBxXD4TmNd/sqFOzpIDl/LY6Y/Kw8jzUwPryvfUPKN0SCduGALAe4lGLKVoklFeOSB/3MRQ\n",
              "hFfcVqdXl/7djGl1RFOqWcwDzJz4Bp6+Viic3gk3rXETiVLYnGpE8CfFvsjZXQWk8VRXVOtlyvvX\n",
              "ocjYT+pCoUY58yj4KAVlKYZoHi+1Ga1dxNNyddPINJhwJ5TXsBwcLoagBD00gcC74x5t6qV7gf7B\n",
              "vha1geBvwliX/CHt4SLylGovsKNweKkWDFjVNq/ksisaKFd+soPVtrDmGcIjmMsHoQAABZhBmiRJ\n",
              "qEFsmUwII//+tSqAJIRXSQAHErrV/dzGv04wVA2N9yU+KhoJyI7QkOkxMFOtYCN9Dwt0llfKQyjX\n",
              "Apu7PRVhyfWc+0ihdTqwPUTeMeeO3liUHRSNTn2X02XFBfhogU8v6JTg+862X+sZxCErt7M7bQKt\n",
              "Xs5sGoyORTAgwEZrQMJZudC4OnUdPtXTa5/SPFxnLTLqrKJpB38uq6hvFa4/7Aat8oN9AYPdsM03\n",
              "NaK651jts1+yPLaajG7etCPHY/wcMyvv4P4xS+YpW+vbyXZWVxVHuVntrReqAIEHuHj7JpbVT47L\n",
              "cyhvXzUbU4YvJXGwtAKmcCs7iuRNTUyODYQdimWheq0yIQWMzhnlOZgIr7MbAvc/NxTexlO9IYUz\n",
              "s0x4+7ydxNLcOYQ2+0IdjYa+bvCG95nFxCsKkAgTLGyeflmJePGpvt7mhVemhwWjtUtygslOe/LT\n",
              "XHfzkNVdw0H+/EK/CHBiFJ3S52hpw/DVk3+qZjcJuc0zydRBExJXK2ABoRHNV9p6CGJmNufMkudX\n",
              "x1tXG0k/VYjB/kdu1eLh0BnqOLuGBvaCIAMWThRDkYSMv/Eo7HdmkWOtpRnxweDOPCGvOYtI13t9\n",
              "dKTJj2K0ylFbMY9O3Av7NB2DKziCQWo6uF7hfjdXkWLZ/e9Jf+ZzFAeY7KQNB/N1OAZEyzgkkm8G\n",
              "0AeckKgg4qb3WjBrPc36qWVLconRvoLl08GTF4hsE4hvW8UCj8yQ9AjYgr8rytTUI2baj0cosaSS\n",
              "BwOjbxf2bvrGfgOCorTExAkMfA/7RvkURAfu+VQWldLbz+r366U8S42wn0wxQrXCpCPMzERnyPu3\n",
              "MPtv53eDu8ra1BWGj5e0StrHwwWBAu4YwNgu0ASSM4YXcrJdqC4eu/vrdFOArZGHw35obYnbZms0\n",
              "7tqweB7QfBCt4/vShBhesr7I1zo/LIi2/JfrUs15VOX+GFltdd0xUTsXDCv1oG2+j5NlK9C5hhon\n",
              "HsUJ41JPgkt4kIRAz7Ci6mQDbgUJx3ZcxE5tWbINmomfYjOsXudR2nMPg1/edGm5P9WRwhVEYv8G\n",
              "92ydptElXq//L/EpltpXVAw5V3jjotDImGehuQberwvfQbtTV2BSGgHeC0+9pEE88pdTYLuwmCkp\n",
              "hhcqPjaKNd041TXMF9DzkF/FY4KPza4/NkR5GAl1dx4DfHXR9B6YU/UMYWBl2t7nlTNIdiKfLESX\n",
              "5mT49GNv13AJnpRW9s/XR/Ia15fGkSi2oWDT7ON3kFusFylU2c022U2BO+PId2ju0POEw2yzxpUL\n",
              "JPb90QGwS19Vd2jmNVpeblpEA5X5GOOw+nHCj3pvfS/J7Zsq4mz9Hh6JXkzT+BTaK7nZOOY8Dx44\n",
              "02J9GG0eTuxTUxE0Bp7nLCovc7DrP0p3FAPEMNJgng8n3Ic41oDvcT8W9WLBzi5tqkkgbILEjTdK\n",
              "eXNF+C+q2CpZUvcCeJoGpNB0jVWgzjBdZZzlbyVfmHuGOQeeTXRLrTQy2l8PiOttbvi/rKd6GCtw\n",
              "eI2RsxfE1UNizvTNhXo8PSOojtxdUFdfpG+y3kG48u8+07A+p/3Z5s4VeNQMA9ChzxNqcVavEUFm\n",
              "7K0Fu2T3Ho/1SvywENVI0+EZ3KaNp1LDTuTS62g+fyKR6iFoxm51rSWmJ4O6fVQpcJAQwRMKCFV4\n",
              "EKVIwRiMT22Lx8Bsx18AD7ngvqta0lUTSlg0chEM2PhmBN71iCz8/38Hr9Zmq/pnafzPlSKi8ORO\n",
              "xZynkChIDfoO5VHPbOkDRVTqHYU0r1nfjDVUAkkTRlmjTgAPnFKmndeqrFwJbzRIn8lL2jQP31Vi\n",
              "uvfIkihim/g2ssAMbT6V0m6iFms/qmRxob4FLrkm6w/5+lmD3639Zl+Zi+r2iyV7tqD3sNukbNDu\n",
              "o0FHAAACckGeQkUVLDv/AHJAPQAVmtg7Qx5FR5vUMb6W3S1tzZer2piVcFHMcJGU0PQyhNvEYOuA\n",
              "axEcduHk1GvTh3zHEV3dycZXdR4fWNXK3BR82HJ/hYhbucNrb+6swhISlsvs8QWtDO5twxgXuA1L\n",
              "StOGuV1FObT4zNXD5pSFW3csb6soMVGzQzjyxhFy7t/apscp7VFcjNgSMcDj10kgC85j1Mjp1haE\n",
              "9iQkpb6fKHvM8ggoFXlTNbo1Rlkc/pWX4t0BViAB7rz0Hr4LvRWqAgp99AMJoSkJ1aSdemCMO0x0\n",
              "EWgrSn0zH/9aKolJ8S8TGANwxg1pTw0yMJ/eZns9XianbS2n1z/repCoQLVsm1WDPh+u/nNSvkrQ\n",
              "eO4boN9VxZX9D6ex2y9PSml1q/VaOuXJ5q2iar8EJ2k3JrzlSvHl9kYNzLEzsdaZsBAdGowdNJBb\n",
              "rEkoM51rXOAI8JpRWfzpRDRS1FzHlLsVZ/ysa6kzkizZ8bBcC5kgi1/tf8tn1sSWtrgjO1iHbMS5\n",
              "obpGXVQp0qPTwBqdgnvTxav4m4/KUVtovd69pkpymAW/weTUsogkIsK6HswdN/eXMvBm6847m1Si\n",
              "6VdUoUssHjD/6Ivi7uIKXKsXPdWWVBKVhvSCGbwR9btGrpZcVBoRuoISz9bWXEDg1kztjudOh9jP\n",
              "ut1v2HqDbKFff5YDeok/u+SRB8fR6G9157ijbYTq8UVx5wMOjORyL45owqLqlSOQQykOMEVwJnSu\n",
              "FSQktyuGSGU/E8rdogG/PL9W5D9GsCUap2o15diVXELC/TerkDRHsPjgPqKBIt7uK+X8qCrsYWng\n",
              "GnhRvCLlAAABrAGeYXRDfwCif3/iAo92AAWty7pahslO4aAlFF9ygMuvyRRXppXZRDRrZ19gczY3\n",
              "hAkpDlQby/a1Qm31etf6MlinhXIpBtZ2fDSEERLnwJNgBkVUfuND4SC9vWKIHQJTJbk+XKQDs0Sr\n",
              "PA2Z94FckfFEeaWn6bAPwEJDJTy5W3mvGvLHEhu2K/r914KC+fAqJhlGvECXIBNTXMPQfxfaZP4I\n",
              "1LbRMk6la9O6ln5etgWsj+Cd+DhwX19YmzwsQOwYkswMmkLK5e3a9M4lAzzlKJwiyHEdEN7MvlCx\n",
              "wC+0gJFjMB+oqpMRvHbbg+sDxOg4PcEAeBpdH0R5n3zo8qt5BKxFLpa45A4yz2YYdV0TSa7NhDwD\n",
              "Zpc0moFEn57J2Z7V1YC+WmSDI48tBqQByZKZc8tD4v9uGzDWz6dMJIYBOG9N0kDmlHKliMYBNKPr\n",
              "9ZbWOjCe6ohTs5rb96l00///x82+PwoDjDCccPvAHDn4A7br/aggfWkjKRVocl1D3rsDyVGVUqoX\n",
              "nYjchf1kfJnD7jXBmrzc4jhGSdDNZs0SGIaox8f9dXpJaTQGb4LgAAABnAGeY2pDfwCkOM3eIASq\n",
              "aolgJTYS2f7ZDff1Vpsgg6xhljKV3xz1WePSOgeF2gGRAjSxlEmYmxzi+LYrM5iKVzQ6p11zr/Pb\n",
              "bqWK99KIulW7n0gv5C01LZGhHLJz6U5E61XYo7IbVTE5wDg+GLysyQzvS6Nu0Pzxiqe+zbM0QKOG\n",
              "ydH682Sg1uk1Pz8UkYkWT1y7TtFqlyzdadPf9dWKQkCizWqQO2UY7alCIu4fL87l5w20BjdkHeKR\n",
              "GAzwD46IvlEb2P3aCEN7JUbdibHVbxtAKP2ibBXtFy2baOC3JJm95MBKiqZiDUwrcpHk7Xn2C4+8\n",
              "PQ+dx9AhzYMZMbFpV+W7Ws7XoT+u5qJP5gh+EdGiUAIK/1FgQ0CQWjLQF1W30f2meK/UF4Kiob+J\n",
              "KJvNr5O1yopItaXyJiPtF1IPHhw7Ayn0VL959vK0NGhF94f3KqVmjy7DbMztPtTn9DrsX2aJqKeM\n",
              "xfahOL3bCfdHFi6Hd84EFCrVKS3XdkBYmNTSh2ZmkL6vwXBG7hJy3E+O3vrxCcGmFn0j2RODaJEA\n",
              "AAWwQZpoSahBbJlMCCP//rUqgCb4j/ylSEB6gCJr0yZ4abB9faYCE9hQGMsQJZyGHKCmkA3Ik1t3\n",
              "+30cPSDJTM8Le59INP+RkhUBZnKXE+gppph4ceYoyM+49jZRTbLwCqu/Z+YhNbRcVTwbXJ6ihRgP\n",
              "8tCUtegKp3Yuyy+wbZPGImLobGwXmLSdbS6we7h5Sz6YRCv14qROBQOT2AwGsJ0broG5n+zFNfDA\n",
              "hu6IyWjMqsHRIpOmRaAMk7ZZjq0LzzDtUHaioGinJZ6aJ2HMhpkoHFCWXBPNy4UUXmTDjGjfxBrS\n",
              "hVQQLglk1OfkbhwKWJqtsYBOUbG36d9YQRFVnthG3mIf8+XvTDE0p0xLiiTykefogD/JrkzhgoW9\n",
              "BmRhpGP4AV2Nc6iDM2yGXfA4402YxyhmzA3S3eHW/Cg7tPdmSHEFAqBDyF9wpC7CgQeakLU8yD3x\n",
              "WCqo4nXw72h9n2xglwDEf7bp3CwkHO2VrhkhIEQ8c6wguZL4I/xLznGVfDZcpbDeNSsOOQra23La\n",
              "pxobBlc4mpQ/VtFzgg0mwHYJr/ugH0/OuoivSjVmlB4Qs8SuXGytbxuakZGdXrz+OUrZPmbev0q0\n",
              "k/vibEoXDvz3N+98DnYoy2PJAEL0PmHsOh83wWDv8c7I7q3l9b0fJ1di94PF4unRPVDrjGAjUPpI\n",
              "0TxXuGGM+dXVfQk8D+mFN5xrWGe04wq/Pr9HOKmiNgVJPQ9DkBKqrXusaw9irVGvEH840X0GFoVH\n",
              "8hFKso0LVeZQaqmuOTObWjZImRxc1z++F30iBAjApUl3PFxxdE+V6XJyXOVCeV2xTzz6+9n2GSv/\n",
              "nFWLs1hIoBWwBetcgdMABP/knlRrzBE0dN1yUYD27na4zkIvR91I0o2deVhJ/a1232l//4te0QGP\n",
              "aZT6nvQRxn3SRWSMtdPJgQ6wIXiE1eF2WrNG+nB1fgVTp17SuK6BjAzDpL0kWG5lVqEtT2i2QLYj\n",
              "NEDe0vLaO7jnnWK6NS/36WUyFsmEKz24d6cr+HlvgAqsAP2yjD2zMD5EkfiabAPJ6US3FH3tWRug\n",
              "obHWW4HmXtY/YY6GwAmfAxpE8IUrthwjddZlU+bvIhlO5bSLHA2ZAH0aTE+mtTpcWDz3NvmC5dNB\n",
              "FqtMVg/My0sl6GKRymN0xUrYBl2gQgi+Au4KyPu6lNHJQI9tMkQevTPgZ2F7oZxpkPI1Zdzv/QEV\n",
              "GBU+/f7oqJ1J8LSrJ16QsFmVP+g38fZ5lh6skj3vpu4mTzhe6ESP0IFYSp8AeaA+LjLIsyq7IJbw\n",
              "eFKFAM51Go6bDLuFp6kB4Qketo3uGoqzcbZc/FtcHXs4P4MdNf1HizYvmClDIy3M3GzqrLZSzsOv\n",
              "pkQ979DO5Dhvv76SMz/aRH6aP57WgwBojnI/Yrxw1drZ9OQPHETRV+CIjXrDDxACAer6LpVzzcgj\n",
              "9RkkNUNwcBBSPxT8SAfMWL6dJiDTDDMus3vq89EBdRVlen10QoMid1LD4UulQHqcZXP8gn3R7dmD\n",
              "uZQ4rG35ZXlpM6rlmLrS4b1Y+etlhZmuym3UqY/N9X/ggzSGAtqlvZ2Lcn2ErFeDz1dLXk2wLFdA\n",
              "DT+vU+hrmoM1z6u0ABUePr9I3KsXbLwVVeHDA9GR5Mw77wM7d4Pq1xsrJWSYCG6XvodEYrwYswqz\n",
              "x4PhcK7Esm/1wPLGR58ZHG3kDS6Yf8hzEzKRGEQ7nKP70O0pNA7sOd92RUvzunkN7huwmZQ1+BF8\n",
              "V77lf2PUUzLTzWHcIpWGqfSwna6tLSKtg4+Bxx5RwoXUujc+z82sX8glvU147vG/UrfEByvr90Bf\n",
              "I8u1xdwrDrJ9VJXB1kyIsFL6vFSZ3ulCW2PtjaH4IgEXrhu1MTFewhEQn80FVTHAMPrL5T1ZgwTd\n",
              "l5BWt+L93vhBhPs4NkDjyeLDT4tOEWFf/7gjifL8VqrNQQAAAgxBnoZFFSw7/wB0v7xMcD0AFrfU\n",
              "nJFe6qu3MDkuZaeZsGKxvCKtqIXZoaJRYGxLBOkHqc+svaN2t8auxayIWymZ0XpJSPmLMOEihKcK\n",
              "y4Mb//z91oykMi74XQZr7zS6LQni+A/hvh1SFEnQuh7L7quG6RndbPnUPAaR7Lj8aP9KiTDaGWXz\n",
              "Q8VLBZgiLVIcJspjFXLOEmvjoKOR5kb42GO355DXJUUanGz5fWvW+OQEyBU/TJKeFDy3GJXyhKbj\n",
              "X6UKBO7EhE61H2xRMVS97BDVegqeUdd7CbF/Vmh/GwffB+AdYY+eXGg3qUcGQW+3nbdwArt66b/t\n",
              "Qzm7j+AyqZIoy2T6IezPuTM6YcRU1vhT7mHcphHHvUFhSKaQtf0JVCcMwNu2tlrc40/1PlJ/ZSJy\n",
              "nAh6VedEsw4xHBOynETHPeuPdHZgfXABKER9jiiQMe95tZ/BZc+5gyBL2h+jCOVRS9d/SkuKn7SR\n",
              "AwExI2FMsktTUsQFLLKiFeHOvDTzDpEoaCZ2MRQNwok5w0GratVFCRK2eQp7XZcpfwnnlSxnTaML\n",
              "uSTCSFOsgeX37a/J9MATyF8XrpEYcnEeRNXji86y2KFd92SqaruB95PtEWnzYtCb4a4wfSDf0Y5g\n",
              "rrY/9v4JoF3NtHMjYUPF8YO02FWZ+NGanmI67chc45BhMQ1p1GER6cS5vZMsKrY3KQAAAVIBnqV0\n",
              "Q38ApKeJACXIqMUS8cdpiLMtCJPx/owA7EgwNaGG1zhFwZabd8fNKoUe1NXepx9HTNLjlWQUnw1Y\n",
              "PSqLRJMwIfHX9eGAWQmQna19FMEz9FIGD+sCSmZY3S078OEEY/diTFv+Ys7+666uEgBy9kDv6WXi\n",
              "ANphsUvMZvdAxkn54x7dXV9UD0osFaLnS8g0YrpNXa0YR5OeCom5QIhtjGFysjbSbBiQcJuNZaYV\n",
              "tEWPOAhN02IZ+WmDbH3/HZTPnyOrhXv6qKw6fmUOKUcqUCZm7PLx7d/BVyWGwFKEgR8EHuSKHZHS\n",
              "vM3HUpux1V0pkbKm60gASgU7k9QRD3m7vFlrSa+JdjaM1etyL6xvvZfTB6xZCjJM2L49gJ8KYYR4\n",
              "r/vPkvo7pSCmCvksabdyFmNO+LiVEURm5K7QXCN+IC0JWr/DwlKFeSwt9M/uZ4kLrwAAAb4Bnqdq\n",
              "Q38AqKiOQAmrp7E4Iq6ClBCEPXlHntLY5RVkSofFd1qRpjtFwPW7mjLjhsREHNmvQuxi6+N6ONLC\n",
              "v5R7SotJ7XREpKzPeKPu25O95sN09YLuHFoT6sU3HVfrxIAej6pUyf7wi2kymirqH06o79BH+8wR\n",
              "G27vW/goZSFwf5SMS0eQUlTP8LHI9gUx3abWSQbScXxplGfu2pDtOJB0UUDC0dobyb3DalXLhh1B\n",
              "6FryvIpmN+NuXxHdUTMxbOAVtW5I+wzNaoWThaXBottqws3n1qnyvi4gk2y2NBgyNAffAXwbdFc1\n",
              "AFym9mtxSYV13TzNnI9h6TZbD5BQEuyWwVEJwYfYehGf9dqizCFpa6gsu4bcc18PU887FW5cOJs6\n",
              "V0EK13ioANdfPvr8MR4FiGZpEuvNIiqPwAC4FSkC3qZMe2Clhyh0NpCqowO8AcMHJEFy43bUDU/p\n",
              "TIY5n/4jAb8HsLKOwLHGqljlrmGOT5lJT5QPRH1sTOze3EHjPHDiHQOxAq8HX8Xtx4IZ3mVQqqMI\n",
              "qVdnNFCZzJz7ldeGIzq5yTBZJjf043RuJnyp6F76B6iawp4WImBo/HCJVAAABEZBmqxJqEFsmUwI\n",
              "If/+qlUATPj4AAcbuuE/xr5h0ZqXogEm0TE86DQAtQkDC9u9M1hbFkIrd/ayPZJhOQt62iO0SZ2r\n",
              "DPMRHNwuwUvO/nmgmbK0O1tdOrBZ0pnykvlTzACPeBFAZpKUGe8BnYd0ykQF5/Qeq1hobankYQLt\n",
              "ie+oHbAZwp8i05k2SnTxY90vkH52AIwXNhBjr9xmOyBJrIkmEJYexWU2cTIMwabe4oV3bvfkWIx3\n",
              "IhAFbtoZ8uRBcNJ8+7N6rlwruupQXprmqxBOg67XYV9JmltkMaz6ns//ijK16jyDcUYgOKk2KH/x\n",
              "0XOfIC3aXyzdU6Utbj1cCY7NkI5xEZ0EBRVWs+QjORXynIG0iglnlfQ0QSEeExLlFIRc8OsEjyVD\n",
              "9GOQ7tjaY2dUM5v+XAIwmXbHyRoojK1+WxlKaWjBODKGRi7qqBcVSlvsiGclfgvDG01v5DHLu/VK\n",
              "rSnMvbLuNLg9uYet8mOELVR6vuyGKTcm34Xsqep/HYPs0HD945PeWNYPQlYkulbiQkSWtXvPTIRT\n",
              "O8Erq6vW5KKfOLAjwKwF4X8D/xeUnKg8EFR+tfnOw4qb+27eU9Oo/fIVBC8uCpfuaxrvxyQ71nKw\n",
              "jmHWNGQaCZPoWn5Yo+tvHC4/TjWXq1gzossBXXg0EvEDzDip7OEFj8yus0GO+SaOuIZR5QqxSJbg\n",
              "dxCuddpJ45gEqt5hHr+dFVJ02zG+4ePp3vW2Fjuur9rziNeU63FHPDT8cfCGv2tKpj1gnr+HSVg8\n",
              "SDd+vVyDZ8xgodqyVL+Sb7d2xXP1ekIFEcNYABx6ZUtwSkrKeuKa9D3vd6rF+9cI0VBnEm4Chvcj\n",
              "llxdV6h5Lm9kc/AN4J8K/26Uml7VMb3/R1fqE2iZkadcm/WIW8hNqsqRck8Ic/zXWfxatvWRu11S\n",
              "ynkG/Uzi3Z09+sNbpV7c7xEfyffJCwymC3j7H4KdwTzrmMqltEV74TDoYFP6vJnj0WW6jCxauPaF\n",
              "eP0WXxxOQMD4iExBtpuHbEN9ZBIvirPp2jib+PknGHxvLsHlsax6mz6PWqbwl+Zbu/0TwPrIGdAD\n",
              "G5sZzQKspgQ/k2jeoHafgrbmKWuFzViakTTwj4r2/wKvx/HsUGM3AetEQIr9Yrv8sOeWFicFaA8e\n",
              "dSYba7oggT4VjG0XcmvwCp2y+qWX7TXupnguop4/ewK5h0N3SovOQIyOxWYIbXDjIEDCppmZF5/W\n",
              "6mmtpxFK9AEJ10vN36CgzbJZISF5TgH0IpKGf8l3a4hRP3FtNpwEMEYW/983cGEUjoO8irEe84e4\n",
              "qz7YhegKy+Sag5eAzSPmfEYvWOyZJcVY4Uim482UUZf9ozJag1Tzy0H+OnSDyMsbh5xug4KMO3ex\n",
              "a4sc7tfvqc7N81NUHkG/e3CR290DlPsxA/VZZaikVkmzVt+KmUsjtrb1mDtJoH0rUQDrzMl65xkw\n",
              "4AAAAjhBnspFFSw7/wB0tBXg4ALNcKohinNRwYjCP1LZbQfA2FdG6diBmPcqfWUpzIlxrj+7MJlj\n",
              "9xdYtRn3RccSt0YsMZk5lTs2n4ccf2IXUOIvUQgp3nsaMey6AS5YqKsgDRtLBhJo/zJ7x5Me40XB\n",
              "yZh+1vcEeg+J3IwihexKi0hJbFXpITvckhJFCfFcNbOSfprjMtVncSuetGQcm08snZLy/DxW0DY2\n",
              "29SeXj7BEQB46VtSRmGxx3C6EcbwLEwmz8sCx0dHDRbP9Eby8IOm8kpNxmADvWAcFn8qXXrpHNuM\n",
              "1JRnTvJdc8ISTlJ2zTAu24PFh8Twlg+5o0DFCuWwhQaVmds70rQauox6gfVdOSUg0sZA48/oV8qK\n",
              "H3dAtwZH/tpqcUw8TYFH30hB6L95akJkuIevN/WyFRijvS9X21810CgstZXFDrAxQli1yxpGpc6E\n",
              "ocWttdXTGJQDa6hCgkP0xgexLUZ4iAP6wS47x7J8yjrBiSSGJQSUUt+QFyp364S81TeQNIok4SDr\n",
              "3KKewFBPLsc40hmnvRKOaziPpaMgEwRrYWkGtP0GNmcKYpmZsGrkij0ReA6ZV08YXHU6iMdnylGX\n",
              "v0doWz2Y2K/j5sfSTbeiipksIrwgR2CLZeLQ8nm7qH+HNLvcuoZrPd77a5iULicHlsH/3U2hLnuL\n",
              "yi6PbJCLCvayCNZEPMqavEPPkJ5kGgnABSvvga4mL8w7N8NhPhF54fT+HRrkBAkw3pWaH3rnAjWY\n",
              "ZRDPAAABhgGe6XRDfwCosatt20AC0kwOGPmL3b9QY3fN0tqJprGPHIvnzVqC9eMOHwWhhC9KYsF5\n",
              "//6GvpKGgsJVT0JXKqthoLEiP7G2VDbp2NacnTxjMtedl40plsc8jsk/Cj5ebxxKkAleW1UtWRuL\n",
              "iGMlE1DkaUGYQ3mwNKs7zrhczxN2ehPQCumyxzh6gH8MckKilhObzt1xgtc8AMHx7f4+rHLwPYzE\n",
              "8w6pqr3mRp5HH2KJMiqnXteviu9LfROTkIi0BB23omghfixezKK3uygsWP1YSmH6XSVkRyV0SexY\n",
              "nHYJm8kcr+JVZ0YbTjD9LXOGdd8kMLhyR7mh8C7y61A51M4ibR/Mi120TVGCw1VDGbyRrhdmEIYi\n",
              "5hGMRqhuVfWAZL+NB19fwrwunXdFWxeVWGHVWTH6hlB6mxbOB8VNIXyQO54unfg5RGnwr/2clC8t\n",
              "wa7qVR5ZNHeXKjp0KmPLPo/oKGAMvA+6kr0W6t5vQLzmysbFOjvzppsj0L3e1dd76ySqwxaYsAAA\n",
              "AWoBnutqQ38Ao9YVOIOgAVwn3TwFWYdAEv/pC4xnc9yrzcITv/RR0HQxmwXDTGbsaoP0C45o3fI9\n",
              "KChvFOPlfW26LfTt9/OjXIgsaE7mL4Dl2Vkf4Fa5oTD8qW5uYSWceUj+ln6Jq3SJVEnpAAxke0hm\n",
              "j4HR+IlNwwMGMDeOqmUEUZK0fSPHxYYcF9jlUh01zBYG4L/rFbkMoC6by3GhOKA1HeD/nUtXPaLM\n",
              "BZIAZfcyzBYvLID546QVjkPjxOYaS41RP1B1iXXA4yShITkeLxnIwhZodXqw3hwo013QEm/dQ/Wp\n",
              "IMolkUbdtNATKhfqFPtG0g9om/g8N6ovIWn92nK02jVbPdMxlBXPDcRyYMU2bl+Bca2TCm2jv1iK\n",
              "jTAIuSvp5MoR/xfd35Oaazb6BNc0r+tK4CMzEHL8+HbowrmnB6Ez4xWvuMgABwUaRAaxxAYhAcnh\n",
              "aKQj8J/6htFuZzANY093mY82R0Z9UAAAAqdBmvBJqEFsmUwId//+qZYBFCVcdABJMw03qOtRQPFw\n",
              "Myb3EZzDHmXDSDli1txhkOqYUOR0RucqJ7f8wUmKmdIrxS5NHULFL0BL6vstRb/oFGd1d01uJkmb\n",
              "86TbrZo7cdsjltIncU3EwAXhx3rDf067wq5w67kzZAsljfalNI/dUhK72MzZjKBGB5KpknDA4TQ4\n",
              "M9OwnzG2bpL/kkD1qJySHdDFd7SCsxE25E/M1OpC8XMd8kKeumt2eO2d2iwwdNEUE2gYyMMu162U\n",
              "wXhSvso/n6E+RYQM26yuL0WYTL29AIg8X0dP2fGU4eMeoaX1xn4kFLVfx/igHh7wwhg/PUywWF76\n",
              "hCB6s0jsYEnuFr52N59aOROUk6RExW4bc1m/zYMkfZU8qtReGfkUEbqulOrq9qWARlfVfGIg2+7M\n",
              "zBbij1TlPmIE1CRhlmtkZRMf/5G/lMMY/76JF4o7n3t1roEyJUa2zcy5B7NzK3WKH8tzzdlMeQTL\n",
              "A2slu3wbXv74GA8ZS4NpuXT0IWZJvVT6kTJD1BBYbLnKnL8S9Vq80S1URIu6//RwsloBXVoQRs0g\n",
              "UrZSRe8n/tK/BWXHNZvNpcH1Oo58EmxspphFn1dMT+geu4VdUugFOJFodTHxJ3e5ZzVnBBlcVTuX\n",
              "XyV2QXmwtnQP9QH4GeA+X2buiQyb1DeRlLeESF4dAewq0BxxjSjJ4CIZq4PzoZ/C6esTfZG/xWPb\n",
              "E3JWV0xCNTX0qOwWWVoe4EEtv7JMaFOeOegl9OANJMIvWEJKmpRm66MpFG3TrFEr8qP1wDgMUT5O\n",
              "65oaxX/xDtuBTIi7ywkPCIUAeL31hIPVi8TBLyoRKr2GCtLtB81FrQDGOw1pzF1lx99wqkrdc57r\n",
              "ee92YniPtGzhqC1J4AyYQhVSgFJJAAAB8kGfDkUVLDv/AHIHSbtgA/pC6mJeEICM7ShhjHKvl4py\n",
              "CLD9ytbWihSNnVYUYsAtbwkmyoChB/R66FMWNb4NFDbgxqahmy/xN+69aR2kYaEYQ1CaN4/egKtB\n",
              "1eom+cn0x8wncGhQUxPKUwCiQe9f/uRZusmMZMeAzxSyilPW/SQUgWr+NWCCPNnsXxyXpjhidpgp\n",
              "MyHocZjNE2NiPwHV0kCLu/fBXvK+U6HDD60noGIObC9Y/U5Q0Q6Dp5PQkSle68Hfue9hUuzPPFXu\n",
              "gEwQyN0Cvr6jNukGmlDhksrB62ZDes5Le84NsvgZdiNXXUmoBXmxhtbCh2R8lS6YgcenDug27yhg\n",
              "FXjnarkldmvX9ssNlgf4WbeMPkyYhsTWULZcBBrMyGo4MYJu2sWmF5Uyqe5TD0gV/7mg4pSwxWAD\n",
              "WwdNbjg/A39qGE5KTrOlZXElJdeMnFGdZ5o+WIFfBut+RTHcWZ8u1MD3616tv8HkQZ3nfB546pBN\n",
              "11+tzBW39CAyqS/rztQeGlHkwG+kxjDPrFRaf/KIpZE22SBgs2aq11m3XHjqVGPNk6PXMcBtz1IG\n",
              "SHtKiLC2sP9nyZJL41uk3uSuF55ooPSBKZdNpooi2U/J9Law0csVvQOVFvxkbbK3wm8lrC45YdTP\n",
              "MSE46QP31PuodwAAAUkBny10Q38ApKeJACXJ+gnpF34Vlpg5J2csIuCRR+lh7tqRwy9gc5sC1brQ\n",
              "w6c7X+DNbmpNIK48c9BvNAwRQihvR3+3MgQSwB/urzf1B8g/bA4QD9erIk/fCurzWczY/qhzOMro\n",
              "9HV6Du57YjrAQCm4X91GLruae0cO9BHYed6Kb0ty7R6mONs7Y+I4QoXXE9YjuYFW3szqnkX62hUo\n",
              "EviaEv3DuZJWMsbPqOPwXjkFHx559y6n1lzXLKMyYVpZmoPF+93ioE00iGZm+Ho6Y488AZr3r0k4\n",
              "ht0AniakR0KIz4zVCtJp9mLgxEhxB5o0wBgD3Q1c9yLxhXEPlRnku8wlaT7OzORD+tD4C2mEB9m8\n",
              "OujvKGWU4+1vqPZaK6bVe0oj1bmRS4KxIee3UrXxHo9V8D8llbsSUnOPZAQQFvzmwYb9pGozl5xQ\n",
              "cQAAAUkBny9qQ38ApBH7cYXACRuMF/hGVpATmiLk0hoV8+lS9MKHolKAYnZUjc1fPY8goxkfp7rq\n",
              "y5JhQFPA/vPtBwfKoJPKkk5/4wDv+TYMkUmK1mU2ibuJFOZGDTbdymu1wPuvUQ5S0iBa4mYzQ6HS\n",
              "fPiJ6tLGo/3DXnUdrmbw2BIStS0pr44ofe/bRNrYX5UibEIgNfzQ+SLy7n2mmgtCRAWuubAxFC2w\n",
              "J20X4gQTUCkj8nzNe1maIYhqweXhS2hn83l3+sYXGJ1bOng7aSWSqxLn3ZRFYbA80RuaFilpYHqQ\n",
              "1jVVwmDTnZq+igKdmaM0a8wiRc7K529iKDNXRteKE5BccEH45nbCqqkWJ97IWrLRlpM5EOj/3AWF\n",
              "lZ8R5BaX2TtCV75+i0vhfVXPkDcpzXaBGQ3iBNvi2/kRRBYPD2dG8KwIAzjBXqhlQAAAAdBBmzFJ\n",
              "qEFsmUwIb//+p4QCSX99MK6CEwABOSJnJ8YhcDzahjUvGo0EzTfAOarHEBRE/RpPHM6NE8sAFINW\n",
              "NspRoj3AO9ZjDMiu+UjP8v9uVVr0t/KWIMImjjlI3MKFgHfVB7odTsczMlJQuyASJRDrcAA2u2Z4\n",
              "tmSdpVCjPRrWAxcSNXKkZTY22oa4Bb9mlyLcNlG/+Mt0mBtOYR/kqmrmOVOzoMcuhzI4XXmSEsNV\n",
              "8uQVb50qDF53dpvs5++NPcTB3iHcAgk1b2MIS/+nXuiV5EpEMlBXJLqEO9rx/4NkE8JtmqOMWafN\n",
              "4lz68bH1HJU70VdXpT6bYU6AUa/uaLAIF1CYsWNo9VSE2pDFjCmzltgoaX4Xi5K5m1/3ajz+typl\n",
              "1E1LbB9Xtp30o255K1pt5MwG5VwiDhfG/kKT99mH77hGyQB2olWYG3t7q9WB74LUsLYCP4hvr3AQ\n",
              "O2wH4BzJ/HNVVfovlVZ1slezJ9lXVgfKJThWEGIsp9bgmyOXp9aMVoPO1lAChTkgPtJjjRotFbuQ\n",
              "0rnw4DsV9RBP5aN6CJOtYvfmWmODoDYBVJqAioZ4Y6JLc6BRiHgPF9wZCrz4yyBBliQHlyCPEBLg\n",
              "58XoVQAABYdtb292AAAAbG12aGQAAAAAAAAAAAAAAAAAAAPoAAATiAABAAABAAAAAAAAAAAAAAAA\n",
              "AQAAAAAAAAAAAAAAAAAAAAEAAAAAAAAAAAAAAAAAAEAAAAAAAAAAAAAAAAAAAAAAAAAAAAAAAAAA\n",
              "AAAAAAACAAAEsXRyYWsAAABcdGtoZAAAAAMAAAAAAAAAAAAAAAEAAAAAAAATiAAAAAAAAAAAAAAA\n",
              "AAAAAAAAAQAAAAAAAAAAAAAAAAAAAAEAAAAAAAAAAAAAAAAAAEAAAAACQAAAAWgAAAAAACRlZHRz\n",
              "AAAAHGVsc3QAAAAAAAAAAQAAE4gAAAgAAAEAAAAABCltZGlhAAAAIG1kaGQAAAAAAAAAAAAAAAAA\n",
              "ACgAAADIAFXEAAAAAAAtaGRscgAAAAAAAAAAdmlkZQAAAAAAAAAAAAAAAFZpZGVvSGFuZGxlcgAA\n",
              "AAPUbWluZgAAABR2bWhkAAAAAQAAAAAAAAAAAAAAJGRpbmYAAAAcZHJlZgAAAAAAAAABAAAADHVy\n",
              "bCAAAAABAAADlHN0YmwAAAC0c3RzZAAAAAAAAAABAAAApGF2YzEAAAAAAAAAAQAAAAAAAAAAAAAA\n",
              "AAAAAAACQAFoAEgAAABIAAAAAAAAAAEAAAAAAAAAAAAAAAAAAAAAAAAAAAAAAAAAAAAAAAAAAAAY\n",
              "//8AAAAyYXZjQwFkABb/4QAZZ2QAFqzZQJAv+WEAAAMAAQAAAwAUDxYtlgEABmjr48siwAAAABx1\n",
              "dWlka2hA8l8kT8W6OaUbzwMj8wAAAAAAAAAYc3R0cwAAAAAAAAABAAAAMgAABAAAAAAUc3RzcwAA\n",
              "AAAAAAABAAAAAQAAAaBjdHRzAAAAAAAAADIAAAABAAAIAAAAAAEAABQAAAAAAQAACAAAAAABAAAA\n",
              "AAAAAAEAAAQAAAAAAQAAFAAAAAABAAAIAAAAAAEAAAAAAAAAAQAABAAAAAABAAAUAAAAAAEAAAgA\n",
              "AAAAAQAAAAAAAAABAAAEAAAAAAEAABQAAAAAAQAACAAAAAABAAAAAAAAAAEAAAQAAAAAAQAAFAAA\n",
              "AAABAAAIAAAAAAEAAAAAAAAAAQAABAAAAAABAAAUAAAAAAEAAAgAAAAAAQAAAAAAAAABAAAEAAAA\n",
              "AAEAABQAAAAAAQAACAAAAAABAAAAAAAAAAEAAAQAAAAAAQAAFAAAAAABAAAIAAAAAAEAAAAAAAAA\n",
              "AQAABAAAAAABAAAUAAAAAAEAAAgAAAAAAQAAAAAAAAABAAAEAAAAAAEAABQAAAAAAQAACAAAAAAB\n",
              "AAAAAAAAAAEAAAQAAAAAAQAAFAAAAAABAAAIAAAAAAEAAAAAAAAAAQAABAAAAAABAAAUAAAAAAEA\n",
              "AAgAAAAAAQAAAAAAAAABAAAEAAAAAAEAAAgAAAAAHHN0c2MAAAAAAAAAAQAAAAEAAAAyAAAAAQAA\n",
              "ANxzdHN6AAAAAAAAAAAAAAAyAAA4mQAADzYAAAaBAAAEFQAAA8YAAA9sAAAFgQAABCMAAAPIAAAL\n",
              "vwAABOoAAALYAAAC+wAACV4AAAPbAAADAQAAArYAAAfyAAADGgAAAccAAAGrAAAGPAAAAlUAAAFL\n",
              "AAABbQAABo4AAAIUAAABYwAAAYIAAAaoAAACggAAAWIAAAF4AAAFnAAAAnYAAAGwAAABoAAABbQA\n",
              "AAIQAAABVgAAAcIAAARKAAACPAAAAYoAAAFuAAACqwAAAfYAAAFNAAABTQAAAdQAAAAUc3RjbwAA\n",
              "AAAAAAABAAAALAAAAGJ1ZHRhAAAAWm1ldGEAAAAAAAAAIWhkbHIAAAAAAAAAAG1kaXJhcHBsAAAA\n",
              "AAAAAAAAAAAALWlsc3QAAAAlqXRvbwAAAB1kYXRhAAAAAQAAAABMYXZmNTcuODMuMTAw\n",
              "\">\n",
              "  Your browser does not support the video tag.\n",
              "</video>"
            ]
          },
          "metadata": {},
          "execution_count": 40
        }
      ]
    },
    {
      "cell_type": "markdown",
      "source": [
        "Como podemos observar nosso modelo está conseguindo separar as classes. Se tivessemos uma nova flor, podemos saber sua classe da seguinte forma:"
      ],
      "metadata": {
        "id": "7ew81Sa5oZ_O"
      }
    },
    {
      "cell_type": "code",
      "source": [
        "# Novo ponto\n",
        "X_new = [[2, 0.5]] # Uma nova Flor\n",
        "# Normalizamos\n",
        "X_new_norm = (X_new - X_mean) / X_std \n",
        "# Saída do Perceptron\n",
        "y = perceptron.predict(X_new_norm)\n",
        "y"
      ],
      "metadata": {
        "colab": {
          "base_uri": "https://localhost:8080/"
        },
        "id": "aX3I_Oc7no3J",
        "outputId": "28dd7949-4567-4ffd-e621-c87fa32e7742"
      },
      "execution_count": 42,
      "outputs": [
        {
          "output_type": "execute_result",
          "data": {
            "text/plain": [
              "array([[ 3.18405391,  1.31789892, -5.5272039 ]])"
            ]
          },
          "metadata": {},
          "execution_count": 42
        }
      ]
    },
    {
      "cell_type": "markdown",
      "source": [
        "À saída do Perceptron aplicamos a função `SOFTMAX` para obter uma distribuição de Probabilidade.  "
      ],
      "metadata": {
        "id": "jL5pZkOupgy6"
      }
    },
    {
      "cell_type": "code",
      "source": [
        "y_probas = softmax(y)\n",
        "y_probas\n"
      ],
      "metadata": {
        "colab": {
          "base_uri": "https://localhost:8080/"
        },
        "id": "Cuhytb2apW9Z",
        "outputId": "17e067c6-5126-4660-aab8-bc64af217565"
      },
      "execution_count": 43,
      "outputs": [
        {
          "output_type": "execute_result",
          "data": {
            "text/plain": [
              "array([[8.65889231e-01, 1.33968139e-01, 1.42630085e-04]])"
            ]
          },
          "metadata": {},
          "execution_count": 43
        }
      ]
    },
    {
      "cell_type": "code",
      "source": [
        "plt.bar(list(range(1,4)), y_probas[0])\n",
        "plt.grid(True)\n",
        "plt.show()\n",
        "\n",
        "# Neste caso pertence à classe 1"
      ],
      "metadata": {
        "colab": {
          "base_uri": "https://localhost:8080/",
          "height": 265
        },
        "id": "IQ75-oVCuTbR",
        "outputId": "b41054a1-7b73-44f0-da4d-076829ea478b"
      },
      "execution_count": 46,
      "outputs": [
        {
          "output_type": "display_data",
          "data": {
            "text/plain": [
              "<Figure size 432x288 with 1 Axes>"
            ],
            "image/png": "[encoded data removed]"
          },
          "metadata": {
            "needs_background": "light"
          }
        }
      ]
    },
    {
      "cell_type": "markdown",
      "source": [
        "Numa distribuição de probabilidade, a soma de todas as probabilidades soma $1$.\n"
      ],
      "metadata": {
        "id": "GDQ6XhVk6BU1"
      }
    },
    {
      "cell_type": "code",
      "source": [
        "y_probas.sum(axis=1)\n"
      ],
      "metadata": {
        "colab": {
          "base_uri": "https://localhost:8080/"
        },
        "id": "bOW3JGibufUZ",
        "outputId": "0b3e7e3e-8d87-4249-99f5-4a0ee05d1417"
      },
      "execution_count": 47,
      "outputs": [
        {
          "output_type": "execute_result",
          "data": {
            "text/plain": [
              "array([1.])"
            ]
          },
          "metadata": {},
          "execution_count": 47
        }
      ]
    },
    {
      "cell_type": "markdown",
      "source": [
        "<font color=\"orange\">Agora atribuiremos para esse elemento, essa flor, a MAIOR PROBABILIDADE.</font>"
      ],
      "metadata": {
        "id": "KLi4Bh246amp"
      }
    },
    {
      "cell_type": "code",
      "source": [
        "y_pred = np.argmax(y_probas, axis=1)\n",
        "\n",
        "y_pred\n",
        "\n",
        "# Lembrar que o índice começa com 0... ou seja classe 1.  array([0]) --> classe 1."
      ],
      "metadata": {
        "colab": {
          "base_uri": "https://localhost:8080/"
        },
        "id": "CDTAnTx96RFH",
        "outputId": "3977063c-478e-49bb-94fc-e96b3c4a7540"
      },
      "execution_count": 50,
      "outputs": [
        {
          "output_type": "execute_result",
          "data": {
            "text/plain": [
              "array([0])"
            ]
          },
          "metadata": {},
          "execution_count": 50
        }
      ]
    },
    {
      "cell_type": "markdown",
      "source": [
        "Podemos provar varios pontos:"
      ],
      "metadata": {
        "id": "YCK4HnHK7zQs"
      }
    },
    {
      "cell_type": "code",
      "source": [
        "def evaluate(x):\n",
        "    x = (x - X_mean) / X_std \n",
        "    y = perceptron.predict(x)\n",
        "    y_probas = softmax(y)\n",
        "    return np.argmax(y_probas, axis=1)"
      ],
      "metadata": {
        "id": "ZSW5Yg5Z63qJ"
      },
      "execution_count": 51,
      "outputs": []
    },
    {
      "cell_type": "code",
      "source": [
        "X = [[5, 1],[2, 0.5],[7, 3]]\n",
        "\n",
        "evaluate(X)\n",
        "\n",
        "# Cuidado com os ÍNDICES\n",
        "# array([1, 0, 2])--> CLASSE 2, CLASSE 1, CLASSE 3"
      ],
      "metadata": {
        "colab": {
          "base_uri": "https://localhost:8080/"
        },
        "id": "V_Y4gVwd782V",
        "outputId": "09d06c89-c6bf-40fd-93dd-0f10228ebb07"
      },
      "execution_count": 54,
      "outputs": [
        {
          "output_type": "execute_result",
          "data": {
            "text/plain": [
              "array([1, 0, 2])"
            ]
          },
          "metadata": {},
          "execution_count": 54
        }
      ]
    },
    {
      "cell_type": "markdown",
      "source": [
        "# O Dataset MNIST"
      ],
      "metadata": {
        "id": "C-LNHtJT8xBS"
      }
    },
    {
      "cell_type": "markdown",
      "source": [
        "Agora classificaremos dígitos manuscritos com o Dataset MNIST."
      ],
      "metadata": {
        "id": "CSXvgKhd9APb"
      }
    },
    {
      "cell_type": "code",
      "source": [
        "from sklearn.datasets import fetch_openml\n",
        "\n",
        "mnist = fetch_openml('mnist_784', version=1)\n",
        "X, y = mnist[\"data\"], mnist[\"target\"]\n",
        "\n",
        "X.shape, y.shape"
      ],
      "metadata": {
        "colab": {
          "base_uri": "https://localhost:8080/"
        },
        "id": "boxpaEzN8K4X",
        "outputId": "27f8b827-2437-49f3-b195-1734e4cbac0f"
      },
      "execution_count": 55,
      "outputs": [
        {
          "output_type": "execute_result",
          "data": {
            "text/plain": [
              "((70000, 784), (70000,))"
            ]
          },
          "metadata": {},
          "execution_count": 55
        }
      ]
    },
    {
      "cell_type": "code",
      "source": [
        "import warnings\n",
        "warnings.filterwarnings(\"ignore\", category=DeprecationWarning)\n",
        "\n",
        "import matplotlib as mpl\n",
        "import matplotlib.pyplot as plt\n",
        "%matplotlib inline\n",
        "\n",
        "import random \n",
        "\n",
        "\n",
        "r, c = 3, 5\n",
        "fig = plt.figure(figsize=(2*c, 2*r))\n",
        "for _r in range(r):\n",
        "    for _c in range(c):\n",
        "        plt.subplot(r, c, _r*c + _c + 1)\n",
        "        ix = random.randint(0, len(X)-1)\n",
        "        img = X.loc[ix].to_numpy()\n",
        "        plt.imshow(img.reshape(28,28), cmap='gray')\n",
        "        plt.axis(\"off\")\n",
        "        plt.title(y[ix])\n",
        "plt.tight_layout()\n",
        "plt.show()"
      ],
      "metadata": {
        "colab": {
          "base_uri": "https://localhost:8080/",
          "height": 441
        },
        "id": "9voAEGg99L0C",
        "outputId": "c611ba41-6b7d-4b52-b159-60383cc1958f"
      },
      "execution_count": 61,
      "outputs": [
        {
          "output_type": "display_data",
          "data": {
            "text/plain": [
              "<Figure size 720x432 with 15 Axes>"
            ],
            "image/png": "[encoded data removed]"
          },
          "metadata": {
            "needs_background": "light"
          }
        }
      ]
    },
    {
      "cell_type": "code",
      "source": [
        "# Normalizamos os Dados\n",
        "\n",
        "X_train, X_test, y_train, y_test = X[:60000] / 255., X[60000:] / 255., y[:60000].astype(np.int), y[60000:].astype(np.int)"
      ],
      "metadata": {
        "id": "KrZL69DS9aXD"
      },
      "execution_count": 62,
      "outputs": []
    },
    {
      "cell_type": "code",
      "source": [
        "# Treinamos um Perceptron para classificação em 10 classes a partir dos pixeis de cada imagem.\n",
        "\n",
        "perceptron = Perceptron(785, 10)\n",
        "epochs, lr = 200, 1\n",
        "\n",
        "perceptron.fit(X_train, y_train, epochs, lr, log_each=10)"
      ],
      "metadata": {
        "colab": {
          "base_uri": "https://localhost:8080/"
        },
        "id": "epQJ3i_l9wt8",
        "outputId": "f72271ef-8c9b-4a4a-dad4-3ebbc06f3f44"
      },
      "execution_count": 63,
      "outputs": [
        {
          "output_type": "stream",
          "name": "stdout",
          "text": [
            "Epoch 10/200 Loss 1.027229744549001\n",
            "Epoch 20/200 Loss 0.5980381289205665\n",
            "Epoch 30/200 Loss 0.47731688618948304\n",
            "Epoch 40/200 Loss 0.41199523487346534\n",
            "Epoch 50/200 Loss 0.39122900076745026\n",
            "Epoch 60/200 Loss 0.3784132707330115\n",
            "Epoch 70/200 Loss 0.3684527393218287\n",
            "Epoch 80/200 Loss 0.36031727940205316\n",
            "Epoch 90/200 Loss 0.3534981964572716\n",
            "Epoch 100/200 Loss 0.3476707929601525\n",
            "Epoch 110/200 Loss 0.34261370339472846\n",
            "Epoch 120/200 Loss 0.33816962232121106\n",
            "Epoch 130/200 Loss 0.33422308575592685\n",
            "Epoch 140/200 Loss 0.33068707851031404\n",
            "Epoch 150/200 Loss 0.32749456770253627\n",
            "Epoch 160/200 Loss 0.32459294088243423\n",
            "Epoch 170/200 Loss 0.32194023405806593\n",
            "Epoch 180/200 Loss 0.3195025036891174\n",
            "Epoch 190/200 Loss 0.3172519526894042\n",
            "Epoch 200/200 Loss 0.31516556673743784\n"
          ]
        }
      ]
    },
    {
      "cell_type": "markdown",
      "source": [
        "Calculamos a accuracy de nosso modelo nos Dados de teste."
      ],
      "metadata": {
        "id": "TE34RQp8-X-g"
      }
    },
    {
      "cell_type": "code",
      "source": [
        "def evaluate(x):\n",
        "    y = perceptron.predict(x) # Saída do Perceptron\n",
        "    y_probas = softmax(y) # Convertemos a uma Distribuição de Probabilidade\n",
        "    return np.argmax(y_probas, axis=1)"
      ],
      "metadata": {
        "id": "xYTeI839-Il9"
      },
      "execution_count": 64,
      "outputs": []
    },
    {
      "cell_type": "code",
      "source": [
        "from sklearn.metrics import accuracy_score\n",
        "\n",
        "\n",
        "y_pred = evaluate(X_test)\n",
        "accuracy_score(y_test, y_pred)"
      ],
      "metadata": {
        "colab": {
          "base_uri": "https://localhost:8080/"
        },
        "id": "sHxa3zTh-kLX",
        "outputId": "ebb9cc2e-4eaa-4a96-8212-5ac2c26e3305"
      },
      "execution_count": 65,
      "outputs": [
        {
          "output_type": "execute_result",
          "data": {
            "text/plain": [
              "0.9159"
            ]
          },
          "metadata": {},
          "execution_count": 65
        }
      ]
    },
    {
      "cell_type": "markdown",
      "source": [
        "Com uma ACCURACY de $92\\%$, vamos visualizar algumas das predições."
      ],
      "metadata": {
        "id": "fUm8MFnk-5GV"
      }
    },
    {
      "cell_type": "code",
      "source": [
        "r, c = 3, 5\n",
        "fig = plt.figure(figsize=(2*c, 2*r))\n",
        "test_imgs, test_labs = [], []\n",
        "\n",
        "\n",
        "for _r in range(r):\n",
        "    for _c in range(c):\n",
        "        plt.subplot(r, c, _r*c + _c + 1)\n",
        "        ix = random.randint(0, len(X_test)-1)\n",
        "        img = X_test.iloc[ix].to_numpy()\n",
        "        y_pred = evaluate([img])[0]\n",
        "        plt.imshow(img.reshape(28,28), cmap='gray')\n",
        "        plt.axis(\"off\")\n",
        "        plt.title(f\"{y_test.iloc[ix]}/{y_pred}\", color=\"green\" if y_test.iloc[ix] == y_pred else \"red\")\n",
        "plt.tight_layout()\n",
        "plt.show()"
      ],
      "metadata": {
        "colab": {
          "base_uri": "https://localhost:8080/",
          "height": 441
        },
        "id": "seHEh_a--xtr",
        "outputId": "cb0e8267-0eb7-407f-c93b-c050ce228e08"
      },
      "execution_count": 88,
      "outputs": [
        {
          "output_type": "display_data",
          "data": {
            "text/plain": [
              "<Figure size 720x432 with 15 Axes>"
            ],
            "image/png": "[encoded data removed]"
          },
          "metadata": {
            "needs_background": "light"
          }
        }
      ]
    },
    {
      "cell_type": "markdown",
      "source": [
        "🤠 Nosso modelo é muito bom reconhecendo DÍGITOS MANUSCRITOS \n",
        "\n",
        "👀 Com a matriz de CONFUSÃO podemos avaliar os pontos fortes e fracos de nosso modelo.\n"
      ],
      "metadata": {
        "id": "ag-qkMZNDeLa"
      }
    },
    {
      "cell_type": "code",
      "source": [
        "from sklearn.metrics import confusion_matrix\n",
        "import pandas as pd\n",
        "import seaborn as sn\n",
        "\n",
        "\n",
        "\n",
        "y_pred = evaluate(X_test)\n",
        "cm = confusion_matrix(y_test, y_pred)\n",
        "\n",
        "df_cm = pd.DataFrame(cm, index = [i for i in range(0,10)], columns = [i for i in range(0,10)])\n",
        "plt.figure(figsize = (10,7))\n",
        "sn.heatmap(df_cm, annot=True)\n",
        "plt.show()"
      ],
      "metadata": {
        "colab": {
          "base_uri": "https://localhost:8080/",
          "height": 428
        },
        "id": "U1oweBO3_FOe",
        "outputId": "abd75890-9386-42b7-ce4c-6f7552a5abb3"
      },
      "execution_count": 89,
      "outputs": [
        {
          "output_type": "display_data",
          "data": {
            "text/plain": [
              "<Figure size 720x504 with 2 Axes>"
            ],
            "image/png": "[encoded data removed]"
          },
          "metadata": {
            "needs_background": "light"
          }
        }
      ]
    },
    {
      "cell_type": "code",
      "source": [
        ""
      ],
      "metadata": {
        "id": "jeuK7XGBEt4_"
      },
      "execution_count": null,
      "outputs": []
    }
  ]
}