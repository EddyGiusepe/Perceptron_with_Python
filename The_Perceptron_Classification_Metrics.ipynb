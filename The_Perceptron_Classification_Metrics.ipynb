{
  "nbformat": 4,
  "nbformat_minor": 0,
  "metadata": {
    "colab": {
      "name": "The_Perceptron_Classification_Metrics.ipynb",
      "provenance": [],
      "collapsed_sections": [],
      "authorship_tag": "ABX9TyNk/14kr5mhWjJ1kwBcfwRA",
      "include_colab_link": true
    },
    "kernelspec": {
      "name": "python3",
      "display_name": "Python 3"
    },
    "language_info": {
      "name": "python"
    }
  },
  "cells": [
    {
      "cell_type": "markdown",
      "metadata": {
        "id": "view-in-github",
        "colab_type": "text"
      },
      "source": [
        "<a href=\"https://colab.research.google.com/github/EddyGiusepe/Perceptron_with_Python/blob/main/The_Perceptron_Classification_Metrics.ipynb\" target=\"_parent\"><img src=\"https://colab.research.google.com/assets/colab-badge.svg\" alt=\"Open In Colab\"/></a>"
      ]
    },
    {
      "cell_type": "markdown",
      "source": [
        "<h2 align=\"center\">O Perceptron: Métricas para Classificação Binâria</h2>\n",
        "\n",
        "\n",
        "\n",
        "Data Scientist.: Dr.Eddy Giusepe Chirinos Isidro"
      ],
      "metadata": {
        "id": "Dbjp5dKYfl8q"
      }
    },
    {
      "cell_type": "markdown",
      "source": [
        "# Nosso Dataset: MNIST"
      ],
      "metadata": {
        "id": "rsuIJly3gmur"
      }
    },
    {
      "cell_type": "markdown",
      "source": [
        "Este Dataset, [MNIST](http://yann.lecun.com/exdb/mnist/), foi elaborado com o objetivo de treinar modelos automáticos de OCR (Optical Character Recognition) para poder acelerar o trabalho de classificação de correio a partir do código postal escrito. Está formado por $70000$ imagens de dígitos manuscritos, entre $0$ e $9$, nosso objetivo é identificar (classificar) uma imagem (dizer que número é) diretamente a partir de seus pixeis. Para descarregar estes Dados vamos a utilizar [Scikit-Learn](https://scikit-learn.org/stable/)."
      ],
      "metadata": {
        "id": "hFepp6DZhCkG"
      }
    },
    {
      "cell_type": "code",
      "execution_count": 1,
      "metadata": {
        "id": "4JwlBcbPfkfy"
      },
      "outputs": [],
      "source": [
        "# As nossas bibliotecas\n",
        "\n",
        "from sklearn.datasets import fetch_openml\n",
        "import numpy as np\n",
        "import pandas as pd\n",
        "\n",
        "import warnings\n",
        "warnings.filterwarnings(\"ignore\", category=DeprecationWarning)\n",
        "\n",
        "import matplotlib as mpl\n",
        "import matplotlib.pyplot as plt\n",
        "%matplotlib inline \n",
        "\n",
        "import random"
      ]
    },
    {
      "cell_type": "code",
      "source": [
        "\n",
        "mnist = fetch_openml('mnist_784', version=1)\n",
        "mnist.keys()"
      ],
      "metadata": {
        "colab": {
          "base_uri": "https://localhost:8080/"
        },
        "id": "lA2Wmj9fjCwv",
        "outputId": "0dd17175-1e7a-4573-9559-199d85147fe2"
      },
      "execution_count": 2,
      "outputs": [
        {
          "output_type": "execute_result",
          "data": {
            "text/plain": [
              "dict_keys(['data', 'target', 'frame', 'categories', 'feature_names', 'target_names', 'DESCR', 'details', 'url'])"
            ]
          },
          "metadata": {},
          "execution_count": 2
        }
      ]
    },
    {
      "cell_type": "code",
      "source": [
        "X, y = mnist[\"data\"], mnist[\"target\"]\n",
        "\n",
        "X.shape, y.shape # 784 características"
      ],
      "metadata": {
        "colab": {
          "base_uri": "https://localhost:8080/"
        },
        "id": "2LdWSjbwjHiZ",
        "outputId": "6b4f8f91-01a7-42b2-bad9-6360849fc463"
      },
      "execution_count": 3,
      "outputs": [
        {
          "output_type": "execute_result",
          "data": {
            "text/plain": [
              "((70000, 784), (70000,))"
            ]
          },
          "metadata": {},
          "execution_count": 3
        }
      ]
    },
    {
      "cell_type": "markdown",
      "source": [
        "Cada imagem está formada por $784$ características (os pixeis). Podemos visualizar umas quantas imagens com suas respectivas etiquetas (labels), para ter uma ideia do tipo de Dados que temos: "
      ],
      "metadata": {
        "id": "P-JjJRgcmhk7"
      }
    },
    {
      "cell_type": "code",
      "source": [
        "# Ver link: https://stackoverflow.com/questions/71270651/issue-reshaping-an-array-into-28-28-for-an-mnist-image\n",
        "\n",
        "\n",
        "r, c = 3, 5\n",
        "fig = plt.figure(figsize=(2*c, 2*r))\n",
        "\n",
        "for _r in range(r):\n",
        "    for _c in range(c):\n",
        "        plt.subplot(r, c, _r*c + _c + 1)\n",
        "        ix = random.randint(0, len(X)-1)\n",
        "        img = X.loc[[ix]].to_numpy()\n",
        "        plt.imshow(img.reshape(28,28), cmap='gray')\n",
        "        plt.axis(\"off\")\n",
        "        plt.title(y[ix])\n",
        "plt.tight_layout()\n",
        "plt.show()"
      ],
      "metadata": {
        "colab": {
          "base_uri": "https://localhost:8080/",
          "height": 441
        },
        "id": "nQYHDPC0Xwhn",
        "outputId": "249f91a0-3ef1-4ca7-c18a-ff212e85c64d"
      },
      "execution_count": 4,
      "outputs": [
        {
          "output_type": "display_data",
          "data": {
            "text/plain": [
              "<Figure size 720x432 with 15 Axes>"
            ],
            "image/png": "[encoded data removed]"
          },
          "metadata": {
            "needs_background": "light"
          }
        }
      ]
    },
    {
      "cell_type": "markdown",
      "source": [
        "Vamos a extrair $60000$ imagens para treinar nosso modelo, $10000$ para avaliação e calcular as diferentes métricas que implementaremos depois."
      ],
      "metadata": {
        "id": "7iEprFanr2KX"
      }
    },
    {
      "cell_type": "code",
      "source": [
        "X_train, X_test, y_train, y_test = X[:60000] / 255., X[60000:] / 255., y[:60000], y[60000:]\n"
      ],
      "metadata": {
        "id": "36AzV9bYrULf"
      },
      "execution_count": 5,
      "outputs": []
    },
    {
      "cell_type": "markdown",
      "source": [
        "​☀️​💡​ Lembra que para um melhor aprendizado de nosso modelo é necessário normalizar os Dados que usaremos como entradas. Neste caso cada pixel está representado por um valor inteiro entre $0 - 255$, pelo que ao dividir cada imagem por $255$ teremos nossos valores no intervalo entre $0 - 1$."
      ],
      "metadata": {
        "id": "MeCh_P5-j_5u"
      }
    },
    {
      "cell_type": "markdown",
      "source": [
        "# Treinando um classificador Binârio"
      ],
      "metadata": {
        "id": "DBb3M3xflO9U"
      }
    },
    {
      "cell_type": "markdown",
      "source": [
        "Para realizar esta task precisamos que nosso Dataset esteja dividido em dois classes, no entanto o Dataset MNIST, tem $10$ classes (dígitos entre $0$ e $9$). Neste caso vamos treinar um modelo para classificar as imagens com o número $5$ do resto."
      ],
      "metadata": {
        "id": "aglBRZEFlSqx"
      }
    },
    {
      "cell_type": "code",
      "source": [
        "\n",
        "y_train_5 = (y_train == '5').astype(np.int)\n",
        "\n",
        "y_test_5 = (y_test == '5').astype(np.int)\n"
      ],
      "metadata": {
        "id": "7YK9luH4sV7X"
      },
      "execution_count": 6,
      "outputs": []
    },
    {
      "cell_type": "markdown",
      "source": [
        "Agora podemos usar o modelo de `Regressão Logística` que implementamos no script anterior. Neste caso trocamos o esquema de inicialização dos pesos, utilizando uma DISTRIBUIÇÃO NORMAL ESCALADA pelo número de pesos.Também adicionamos um print para ver como vai evolucionando o modelo durante o treinamento, visualizando o valor da LOSS FUNCTION em cada epoch."
      ],
      "metadata": {
        "id": "mY4w9OBVonKY"
      }
    },
    {
      "cell_type": "code",
      "source": [
        "def bce(y, y_hat):\n",
        "    return - np.mean(y*np.log(y_hat) - (1 - y)*np.log(1 - y_hat))\n",
        "\n",
        "def sigmoid(x):\n",
        "  return 1 / (1 + np.exp(-x))\n",
        "\n",
        "class Perceptron():\n",
        "  def __init__(self, size):\n",
        "    self.w = np.random.normal(loc=0.0, # Distribuição de probabilidade Normal\n",
        "          scale = np.sqrt(2/(size+1)), # size --> Número de neurônios em nosso Perceptron\n",
        "          size = (size, )) \n",
        "    self.ws = []\n",
        "    self.activation = sigmoid\n",
        "    self.loss = bce\n",
        "    \n",
        "  def __call__(self, w, x):\n",
        "    return self.activation(np.dot(x, w)) \n",
        "\n",
        "  def fit(self, x, y, epochs, lr, verbose=True):\n",
        "    x = np.c_[np.ones(len(x)), x]\n",
        "    for epoch in range(1,epochs+1):\n",
        "        # Batch Gradient Descent\n",
        "        y_hat = self(self.w, x)  \n",
        "        # Função de Perda\n",
        "        l = self.loss(y, y_hat)\n",
        "        # Derivadas\n",
        "        dldh = (y_hat - y)\n",
        "        dhdw = x\n",
        "        dldw = np.dot(dldh, dhdw)\n",
        "        # Atualizar Pesos\n",
        "        self.w = self.w - lr*dldw\n",
        "        # Salvar os pesos para a Animação\n",
        "        self.ws.append(self.w.copy())\n",
        "        # Print da LOSS\n",
        "        if verbose:\n",
        "            print(f\"Epoch {epoch}/{epochs} Loss {l}\")"
      ],
      "metadata": {
        "id": "8KHEG4xeqi46"
      },
      "execution_count": 7,
      "outputs": []
    },
    {
      "cell_type": "code",
      "source": [
        "np.random.seed(42) # Para que nos dei sempre o mesmo resultado\n",
        "\n",
        "perceptron = Perceptron(X.shape[1] + 1)\n",
        "epochs, lr = 20, 1e-5\n",
        "perceptron.fit(X_train, y_train_5, epochs, lr)"
      ],
      "metadata": {
        "colab": {
          "base_uri": "https://localhost:8080/"
        },
        "id": "pkYeNUCOtUq-",
        "outputId": "aa810e1d-0d05-479a-cd1b-e1cc20f06b1a"
      },
      "execution_count": 8,
      "outputs": [
        {
          "output_type": "stream",
          "name": "stdout",
          "text": [
            "Epoch 1/20 Loss -0.5548410142855105\n",
            "Epoch 2/20 Loss 0.7206598224991427\n",
            "Epoch 3/20 Loss 0.5304482677090414\n",
            "Epoch 4/20 Loss 0.3387412138758039\n",
            "Epoch 5/20 Loss 0.14817873671774645\n",
            "Epoch 6/20 Loss 0.02999051884537082\n",
            "Epoch 7/20 Loss 0.07018573941348852\n",
            "Epoch 8/20 Loss 0.03957115693418076\n",
            "Epoch 9/20 Loss 0.053798900444024085\n",
            "Epoch 10/20 Loss 0.0419895655402817\n",
            "Epoch 11/20 Loss 0.04634619050752581\n",
            "Epoch 12/20 Loss 0.041700388831850364\n",
            "Epoch 13/20 Loss 0.04249345232272722\n",
            "Epoch 14/20 Loss 0.04051560447638476\n",
            "Epoch 15/20 Loss 0.040218266715440924\n",
            "Epoch 16/20 Loss 0.039198805829896884\n",
            "Epoch 17/20 Loss 0.03867201099357209\n",
            "Epoch 18/20 Loss 0.03801039413850561\n",
            "Epoch 19/20 Loss 0.037502744090907016\n",
            "Epoch 20/20 Loss 0.03700103180387198\n"
          ]
        }
      ]
    },
    {
      "cell_type": "markdown",
      "source": [
        "Atá aqui já treinamos nosso modelo. Agora, como podemos avaliar nosso modelo? É um modelo bom ou ruim? se treinamos outro modelo, como podemos saber se é melhor o pior que o primeiro? \n",
        "\n",
        "Vamos responder estas perguntas com as `Métricas de Desempenho`."
      ],
      "metadata": {
        "id": "Tiy3rQr8q3D2"
      }
    },
    {
      "cell_type": "markdown",
      "source": [
        "# Métricas"
      ],
      "metadata": {
        "id": "sbOaWvX7rc4P"
      }
    },
    {
      "cell_type": "markdown",
      "source": [
        "Aqui estudaremos as métricas mais utilizadas na avaliação de modelos de classificação binâria."
      ],
      "metadata": {
        "id": "iXCPV8jJrgEC"
      }
    },
    {
      "cell_type": "code",
      "source": [
        "def evaluate(perceptron, x, t = 0.5): # Threshold = 0.5 (Default)\n",
        "    w = perceptron.ws[-1] # Extrai os últimos pesos do Perceptron (da última epoch)\n",
        "    x = np.c_[np.ones(len(x)), x] # Adiciona uma coluna de \"1\" para fazer o produto escalar\n",
        "    y = perceptron(w, x) \n",
        "    return (y > t).astype(np.int)"
      ],
      "metadata": {
        "id": "tzZlHVqWtYNB"
      },
      "execution_count": 9,
      "outputs": []
    },
    {
      "cell_type": "markdown",
      "source": [
        "## Accuracy (ou precisão)"
      ],
      "metadata": {
        "id": "zlII9hfwtY5E"
      }
    },
    {
      "cell_type": "markdown",
      "source": [
        "Nesta métrica simplesmente contabilizamos todos os elementos do Dataset que nosso modelo a sido capaz de CLASSIFICAR CORRETAMENTE e o dividimos pelo número total de elementos. Isto implica que a precisão será um valor entre $0$ e $1$, significando: $0$ que nosso modelo não acertou nenhum resultado e $1$ que acertou todos. Também é comum dar este valor em porcentagem. "
      ],
      "metadata": {
        "id": "ZlosL6mjtfxk"
      }
    },
    {
      "cell_type": "code",
      "source": [
        "def accuracy(y_pred, y):\n",
        "    return np.sum(y_pred == y) / len(y)\n",
        "    "
      ],
      "metadata": {
        "id": "Ukh6xwRetwwM"
      },
      "execution_count": 10,
      "outputs": []
    },
    {
      "cell_type": "code",
      "source": [
        "y_pred = evaluate(perceptron, X_train)\n",
        "\n",
        "accuracy(y_pred, y_train_5)"
      ],
      "metadata": {
        "colab": {
          "base_uri": "https://localhost:8080/"
        },
        "id": "6WDwW0Fst0Yl",
        "outputId": "b7310dff-d562-4a57-e9af-f34c99b5a752"
      },
      "execution_count": 11,
      "outputs": [
        {
          "output_type": "execute_result",
          "data": {
            "text/plain": [
              "0.9371"
            ]
          },
          "metadata": {},
          "execution_count": 11
        }
      ]
    },
    {
      "cell_type": "code",
      "source": [
        "y_pred = evaluate(perceptron, X_test)\n",
        "\n",
        "accuracy(y_pred, y_test_5)"
      ],
      "metadata": {
        "colab": {
          "base_uri": "https://localhost:8080/"
        },
        "id": "uEBspGUxt1zw",
        "outputId": "1be16f0c-b691-4cb4-d251-ac785c101582"
      },
      "execution_count": 12,
      "outputs": [
        {
          "output_type": "execute_result",
          "data": {
            "text/plain": [
              "0.9412"
            ]
          },
          "metadata": {},
          "execution_count": 12
        }
      ]
    },
    {
      "cell_type": "markdown",
      "source": [
        "Como podemos observar nosso modelo tem uma precisão aprox. de $94\\%$ tanto para o conjunto de treinamento como para o conjunto de teste (avaliação). <font color=\"yellow\">Este é um bom modelo?</font> A priori poderíamos pensar que sim, já que nosso modelo acerta $9$ de cada $10$ imagens ... No entanto, a realidade é que nosso modelo não está fazendo praticamente nada. Vamos ver! ... Estamos contruíndo um modelo para classificação binâria para detectar o número $5$. Quantas imagens diferentes de $5$ temos em nosso Dataset?  "
      ],
      "metadata": {
        "id": "NziAWe45vu3v"
      }
    },
    {
      "cell_type": "code",
      "source": [
        "1 - y_train_5.mean(), 1 - y_test_5.mean()"
      ],
      "metadata": {
        "colab": {
          "base_uri": "https://localhost:8080/"
        },
        "id": "sZZYagEquCMW",
        "outputId": "6c179a15-53d6-4360-a519-9d392b52254b"
      },
      "execution_count": 17,
      "outputs": [
        {
          "output_type": "execute_result",
          "data": {
            "text/plain": [
              "(0.90965, 0.9108)"
            ]
          },
          "metadata": {},
          "execution_count": 17
        }
      ]
    },
    {
      "cell_type": "markdown",
      "source": [
        "Aqui temos a resposta, nosso Dataset está formado num $91\\%$ por imagens que não são $5$. Isto significa que um modelo naive que sempre diga que NÃO temos um $5$ vai ter uma ACCURACY do $91\\%$. No entanto, no mundo real, nunca detectaremos este dígito e nossa aplicação falhará drasticamente. Nosso modelo tem uma precisão do $94\\%$, melhorando ligeiramente este valor porém não por muito.  "
      ],
      "metadata": {
        "id": "uN5OUGiqyRda"
      }
    },
    {
      "cell_type": "markdown",
      "source": [
        "Como pode observar a MÉTRICA DE PRECISÃO é muito útil porém pode levar a erro. Isto se faz geralmente em aplicações nas que temos muito poucas amostras da classe que queremos capturar. \n",
        "\n",
        "<font color=\"orange\">Um exemplo claro:</font> é a detecção de transações bancárias fraudulentas, que representam perto do $0.001\\%$ do total de operações realizadas. Um modelo de classificação binâria que sempre dá como resultado que uma transação NÃO é fraudulenta teria uma precisão do $99.999\\%$, não entanto, seria um modelo totalmente inútil no mundo real.  "
      ],
      "metadata": {
        "id": "osfFU-7OpeJe"
      }
    },
    {
      "cell_type": "markdown",
      "source": [
        "<font color=\"yellow\">Sempre é recomendável ter umas métricas `baseline` com as que possamos comparar nossos modelos. Estas métricas podem ser obtidas com um modelo aleatório (antes de ser treinado) ou no caso de classificação podemos utilizar diretamente a distribuição de classes no Dataset. Qualquer modelo que façamos deveria melhorar estas métricas.</font>"
      ],
      "metadata": {
        "id": "-f2Ez-5VrTDL"
      }
    },
    {
      "cell_type": "code",
      "source": [
        "perceptron = Perceptron(X.shape[1] + 1)\n",
        "epochs, lr = 600, 1e-5\n",
        "\n",
        "perceptron.fit(X_train, y_train_5, epochs, lr, verbose=False)\n",
        "\n",
        "y_pred = evaluate(perceptron, X_test)\n",
        "\n",
        "accuracy(y_pred, y_test_5)"
      ],
      "metadata": {
        "colab": {
          "base_uri": "https://localhost:8080/"
        },
        "id": "1jzWB04CuQ5B",
        "outputId": "f3dce0ef-8216-4270-f3e9-7cab7b0ba3fb"
      },
      "execution_count": 74,
      "outputs": [
        {
          "output_type": "execute_result",
          "data": {
            "text/plain": [
              "0.972"
            ]
          },
          "metadata": {},
          "execution_count": 74
        }
      ]
    },
    {
      "cell_type": "markdown",
      "source": [
        "As métricas que vamos a usar estão implementadas na biblioteca `Scikit Learn`, pelo que é recomendado usar ela para evitar errores na implementação."
      ],
      "metadata": {
        "id": "muQ1YTIFuI3X"
      }
    },
    {
      "cell_type": "code",
      "source": [
        "from sklearn.metrics import accuracy_score\n",
        "\n",
        "accuracy_score(y_test_5, y_pred)"
      ],
      "metadata": {
        "id": "VkEUJKV3ukK-",
        "colab": {
          "base_uri": "https://localhost:8080/"
        },
        "outputId": "501545d0-43d1-4bf9-f7ae-623051194bc3"
      },
      "execution_count": 75,
      "outputs": [
        {
          "output_type": "execute_result",
          "data": {
            "text/plain": [
              "0.972"
            ]
          },
          "metadata": {},
          "execution_count": 75
        }
      ]
    },
    {
      "cell_type": "markdown",
      "source": [
        "# Matriz de confusão"
      ],
      "metadata": {
        "id": "dv7GEuAtusLU"
      }
    },
    {
      "cell_type": "markdown",
      "source": [
        "A matriz de confusão nos vai a indicar quais são os pontos fortes e fracos de nosso Classificador. Para cada classe, vamos a calcular quantos elementos han sido bem classificados por nosso modelo e quantos han sido confundidos com outras classes (esta matriz nos será muito útil na classificação em várias classes também)."
      ],
      "metadata": {
        "id": "SR0C-6AJuugy"
      }
    },
    {
      "cell_type": "code",
      "source": [
        "TP = np.sum((y_pred == 1) & (y_test_5 == 1)) \n",
        "TN = np.sum((y_pred == 0) & (y_test_5 == 0)) \n",
        "FP = np.sum((y_pred == 1) & (y_test_5 == 0))\n",
        "FN = np.sum((y_pred == 0) & (y_test_5 == 1))\n",
        "\n",
        "CM = [[TN, FP],\n",
        "      [FN, TP]]\n",
        "CM"
      ],
      "metadata": {
        "id": "CB0FFJh_unlr",
        "colab": {
          "base_uri": "https://localhost:8080/"
        },
        "outputId": "b7be21f7-6a37-4a74-9985-068a20989064"
      },
      "execution_count": 76,
      "outputs": [
        {
          "output_type": "execute_result",
          "data": {
            "text/plain": [
              "[[9039, 69], [211, 681]]"
            ]
          },
          "metadata": {},
          "execution_count": 76
        }
      ]
    },
    {
      "cell_type": "markdown",
      "source": [
        "En esta matriz podemos observar:\n",
        "    \n",
        "- `Verdadeiros Positivos (TP, *True Positives*)`: elementos que nosso modelo clasifica corretamente como a classe que nos interessa, a clase positiva (fila 1, columna 1).\n",
        "\n",
        "- `Verdaderos Negativos (TN, *True Negatives*)`: elementos que nosso modelo clasifica corretamente como a classe negativa (fila 0, columna 0).\n",
        "\n",
        "- `Falsos Positivos (FP, *False Positives*)`: elementos que nosso modelo clasifica erroneamente como a classe positiva (fila 0, columna 1).\n",
        "\n",
        "- `Falsos Negativos (FN, *False Negatives*)`: elementos que nosso modelo clasifica erroneamente como a classe negativa (fila 1, columna 0)."
      ],
      "metadata": {
        "id": "JPHJ31zs1tpZ"
      }
    },
    {
      "cell_type": "code",
      "source": [
        "from sklearn.metrics import confusion_matrix\n",
        "\n",
        "confusion_matrix(y_test_5, y_pred)"
      ],
      "metadata": {
        "colab": {
          "base_uri": "https://localhost:8080/"
        },
        "id": "2oa0LWzxurKE",
        "outputId": "78a6c1bd-7350-42dc-dcc2-8de8cb87d369"
      },
      "execution_count": 77,
      "outputs": [
        {
          "output_type": "execute_result",
          "data": {
            "text/plain": [
              "array([[9039,   69],\n",
              "       [ 211,  681]])"
            ]
          },
          "metadata": {},
          "execution_count": 77
        }
      ]
    },
    {
      "cell_type": "markdown",
      "source": [
        "💡 Uma vez visto os conceitos definidos  neste apartado podemos reescrever a `accuracy` como:\n",
        "\n",
        " $ accuracy = \\frac{TP + TN}{TP+TN+FP+FN} $"
      ],
      "metadata": {
        "id": "GUzJrzYk21A5"
      }
    },
    {
      "cell_type": "markdown",
      "source": [
        "# Precision e Recall"
      ],
      "metadata": {
        "id": "m4BKeLJg3TKp"
      }
    },
    {
      "cell_type": "code",
      "source": [
        "def precision(y_pred, y):\n",
        "    TP = np.sum((y_pred == 1) & (y == 1)) \n",
        "    FP = np.sum((y_pred == 1) & (y == 0))\n",
        "    return TP / (TP + FP)\n",
        "\n",
        "def recall(y_pred, y):\n",
        "    TP = np.sum((y_pred == 1) & (y == 1)) \n",
        "    FN = np.sum((y_pred == 0) & (y == 1))\n",
        "    return TP / (TP + FN)\n"
      ],
      "metadata": {
        "id": "qRvEb5h03evD"
      },
      "execution_count": 79,
      "outputs": []
    },
    {
      "cell_type": "code",
      "source": [
        "y_pred = evaluate(perceptron, X_test)\n",
        "\n",
        "print(\"Temos a Precision: \", precision(y_pred, y_test_5))\n",
        "print(\"\")\n",
        "print(\"Temos a Recall: \", recall(y_pred, y_test_5))"
      ],
      "metadata": {
        "colab": {
          "base_uri": "https://localhost:8080/"
        },
        "id": "Z7brHTyh3lIB",
        "outputId": "8c79c1d8-95cd-49ce-9452-f073295af02c"
      },
      "execution_count": 82,
      "outputs": [
        {
          "output_type": "stream",
          "name": "stdout",
          "text": [
            "Temos a Precision:  0.908\n",
            "\n",
            "Temos a Recall:  0.7634529147982063\n"
          ]
        }
      ]
    },
    {
      "cell_type": "code",
      "source": [
        "# Também\n",
        "\n",
        "from sklearn.metrics import precision_score, recall_score\n",
        "\n",
        "precision_score(y_test_5, y_pred), recall_score(y_test_5, y_pred)\n"
      ],
      "metadata": {
        "colab": {
          "base_uri": "https://localhost:8080/"
        },
        "id": "opdDOV424d_m",
        "outputId": "cd3d6907-babd-4db7-900e-588db8decdc5"
      },
      "execution_count": 83,
      "outputs": [
        {
          "output_type": "execute_result",
          "data": {
            "text/plain": [
              "(0.908, 0.7634529147982063)"
            ]
          },
          "metadata": {},
          "execution_count": 83
        }
      ]
    },
    {
      "cell_type": "markdown",
      "source": [
        "Dependendo da aplicação que estemos trabalhando vamos querer otimizar uma métrica u outra. Em aplicações nas que ter FALSOS POSITIVOS seja prejudicial (<font color=\"orange\">por exemplo, aplicações de SEGURANÇA</font>) queremos modelos com boa PRECISION, enquanto que em aplicações nas que ter FALSOS NEGATIVOS seja prejudicial (<font color=\"orange\">por exemplo, sistemas de Diagnóstico Médico</font>) queremos modelos com boa RECALL. Uma vez que nosso modelo a sido treinado, podemos ajustar estas métricas variando o valor do `THRESHOLD` utilizado na avaliação. A isto se conhece como `PRECISION-RECALL trade off`."
      ],
      "metadata": {
        "id": "t8addOt44v8G"
      }
    },
    {
      "cell_type": "code",
      "source": [
        "for t in np.linspace(0.1,0.9,20):\n",
        "    y_pred = evaluate(perceptron, X_test, t)\n",
        "    print(f\"Threshold: {t:.3f} Precision {precision(y_pred, y_test_5):.4f} Recall {recall(y_pred, y_test_5):.4f}\")"
      ],
      "metadata": {
        "colab": {
          "base_uri": "https://localhost:8080/"
        },
        "id": "cdzILDjB6mOL",
        "outputId": "8f99ee92-fe02-4ac4-de48-43c124daf5a9"
      },
      "execution_count": 84,
      "outputs": [
        {
          "output_type": "stream",
          "name": "stdout",
          "text": [
            "Threshold: 0.100 Precision 0.5416 Recall 0.9193\n",
            "Threshold: 0.142 Precision 0.6246 Recall 0.9047\n",
            "Threshold: 0.184 Precision 0.6910 Recall 0.8901\n",
            "Threshold: 0.226 Precision 0.7455 Recall 0.8733\n",
            "Threshold: 0.268 Precision 0.7851 Recall 0.8599\n",
            "Threshold: 0.311 Precision 0.8237 Recall 0.8430\n",
            "Threshold: 0.353 Precision 0.8405 Recall 0.8274\n",
            "Threshold: 0.395 Precision 0.8612 Recall 0.8072\n",
            "Threshold: 0.437 Precision 0.8883 Recall 0.7937\n",
            "Threshold: 0.479 Precision 0.9009 Recall 0.7747\n",
            "Threshold: 0.521 Precision 0.9146 Recall 0.7444\n",
            "Threshold: 0.563 Precision 0.9272 Recall 0.7287\n",
            "Threshold: 0.605 Precision 0.9351 Recall 0.6951\n",
            "Threshold: 0.647 Precision 0.9521 Recall 0.6682\n",
            "Threshold: 0.689 Precision 0.9630 Recall 0.6413\n",
            "Threshold: 0.732 Precision 0.9661 Recall 0.6076\n",
            "Threshold: 0.774 Precision 0.9757 Recall 0.5841\n",
            "Threshold: 0.816 Precision 0.9755 Recall 0.5348\n",
            "Threshold: 0.858 Precision 0.9863 Recall 0.4832\n",
            "Threshold: 0.900 Precision 0.9863 Recall 0.4036\n"
          ]
        }
      ]
    },
    {
      "cell_type": "markdown",
      "source": [
        "Como podemos observa, incrementar o valor de uma das métricas implica que a outra vai diminuir (é por isso que se chama `trade-off` já que temos que chegar a um compromisso). Assim, escolheremos um valor do `threshold` que se ajuste aos critérios de desenho de nossa aplicação em particular (em função da quantidade de FALSOS POSITIVOS e FALSOS NEGATIVOS que estejamos dispostos a assumir)."
      ],
      "metadata": {
        "id": "dWqnL-OD6_fO"
      }
    },
    {
      "cell_type": "markdown",
      "source": [
        "![](https://wizardforcel.gitbooks.io/scikit-and-tensorflow-workbooks-bjpcjp/pics/decision-threshold-and-precision-vs-recall.png)"
      ],
      "metadata": {
        "id": "bm1YjYiX9zdt"
      }
    },
    {
      "cell_type": "markdown",
      "source": [
        "# F1-Score"
      ],
      "metadata": {
        "id": "Fe2FeU-N971d"
      }
    },
    {
      "cell_type": "markdown",
      "source": [
        "É uma boa métrica que nos vai dizer se nosso modelo tem uma boa PRECISION e RECALL é esta métrica, **F1-score**.\n",
        "\n",
        "$$  F_1 = 2 \\times \\frac{precision \\times recall}{precision + recall} $$\n",
        "\n",
        "\n"
      ],
      "metadata": {
        "id": "5smEhtJw9_Iz"
      }
    },
    {
      "cell_type": "code",
      "source": [
        "y_pred = evaluate(perceptron, X_test)\n",
        "\n",
        "p = precision_score(y_test_5, y_pred)\n",
        "\n",
        "r = recall_score(y_test_5, y_pred)\n",
        "\n",
        "f1 = 2*(p*r)/(p+r)\n",
        "\n",
        "print(\"A minha F1-score, é: \", f1)"
      ],
      "metadata": {
        "colab": {
          "base_uri": "https://localhost:8080/"
        },
        "id": "gLeqpkIl-ceg",
        "outputId": "0e69401a-75df-4696-c5ae-b9b5320f5c8b"
      },
      "execution_count": 86,
      "outputs": [
        {
          "output_type": "stream",
          "name": "stdout",
          "text": [
            "A minha F1-score, é:  0.8294762484774665\n"
          ]
        }
      ]
    },
    {
      "cell_type": "code",
      "source": [
        "# Também:\n",
        "\n",
        "from sklearn.metrics import f1_score\n",
        "\n",
        "f1_score(y_test_5, y_pred)"
      ],
      "metadata": {
        "colab": {
          "base_uri": "https://localhost:8080/"
        },
        "id": "VagtZKWn_CCv",
        "outputId": "9a9e6e6e-d616-4efa-917f-a6bd85720217"
      },
      "execution_count": 87,
      "outputs": [
        {
          "output_type": "execute_result",
          "data": {
            "text/plain": [
              "0.8294762484774665"
            ]
          },
          "metadata": {},
          "execution_count": 87
        }
      ]
    },
    {
      "cell_type": "markdown",
      "source": [
        "# Curva ROC-AUC"
      ],
      "metadata": {
        "id": "asJ2sBds_UCW"
      }
    },
    {
      "cell_type": "markdown",
      "source": [
        "Podemos visualizar rapidamente o comportamento de um modelo para vários `threshold` com a chamada curva ROC (Receiver Operating Characteristic). Nela representamos o ratio de Verdadeiros Positivos (TPR) contra o ratio de Falsos Positivos (FPR), definidos da seguinte maneira:\n",
        "\n",
        "\n",
        "$$ TPR = \\frac{TP}{TP+FN} $$\n",
        "\n",
        "$$ FPR = \\frac{FP}{FP+TN} $$"
      ],
      "metadata": {
        "id": "3W_RQSb6_XNU"
      }
    },
    {
      "cell_type": "code",
      "source": [
        "def evaluate2(perceptron, x):\n",
        "  w = perceptron.ws[-1]\n",
        "  x = np.c_[np.ones(len(x)), x]\n",
        "  y = perceptron(w, x)\n",
        "  return y"
      ],
      "metadata": {
        "id": "2N7CQCCPutb5"
      },
      "execution_count": 89,
      "outputs": []
    },
    {
      "cell_type": "code",
      "source": [
        "from sklearn.metrics import roc_curve\n",
        "\n",
        "y_pred2 = evaluate2(perceptron, X_test)\n",
        "\n",
        "fpr, tpr, thresholds = roc_curve(y_test_5, y_pred2)"
      ],
      "metadata": {
        "id": "pB-xhPE0u4PB"
      },
      "execution_count": 90,
      "outputs": []
    },
    {
      "cell_type": "code",
      "source": [
        "def plot_roc_curve(fpr, tpr, label=None):\n",
        "    plt.plot(fpr, tpr, linewidth=2, label=label)\n",
        "    plt.plot([0, 1], [0, 1], 'k--') \n",
        "    plt.axis([0, 1, 0, 1])                                    \n",
        "    plt.xlabel('FPR', fontsize=16) \n",
        "    plt.ylabel('TPR', fontsize=16)    \n",
        "    plt.grid(True)                                            \n",
        "\n",
        "plt.figure(figsize=(8, 6))                         \n",
        "plot_roc_curve(fpr, tpr)              \n",
        "plt.show()"
      ],
      "metadata": {
        "colab": {
          "base_uri": "https://localhost:8080/",
          "height": 397
        },
        "id": "84PXFgE7u6KH",
        "outputId": "6e906180-3dde-4355-e860-a122aeb7f036"
      },
      "execution_count": 91,
      "outputs": [
        {
          "output_type": "display_data",
          "data": {
            "text/plain": [
              "<Figure size 576x432 with 1 Axes>"
            ],
            "image/png": "[encoded data removed]"
          },
          "metadata": {
            "needs_background": "light"
          }
        }
      ]
    },
    {
      "cell_type": "markdown",
      "source": [
        "Uma métrica muito utilizada para comparar classificadores é a área sob a curva ROC, já que nos indica quão robusto é um modelo. A linha reta representa um modelo `naive` que podemos usar como `baseline`. Este modelo tem uma área de 0.5, pelo que qualquer modelo que façamos deveria superar este valor. Quanto mais perto, a curva, à esquina superior esquerda, maior será a área e melhor será o modelo."
      ],
      "metadata": {
        "id": "029E2NumDAx4"
      }
    },
    {
      "cell_type": "code",
      "source": [
        "from sklearn.metrics import roc_auc_score\n",
        "\n",
        "roc_auc_score(y_test_5, y_pred2)"
      ],
      "metadata": {
        "colab": {
          "base_uri": "https://localhost:8080/"
        },
        "id": "cjN5SqbtvKTH",
        "outputId": "29f03bea-dae9-43f9-df0c-82164acf31ff"
      },
      "execution_count": 92,
      "outputs": [
        {
          "output_type": "execute_result",
          "data": {
            "text/plain": [
              "0.9715079484649576"
            ]
          },
          "metadata": {},
          "execution_count": 92
        }
      ]
    }
  ]
}