{
  "nbformat": 4,
  "nbformat_minor": 0,
  "metadata": {
    "colab": {
      "name": "The_Perceptron_Classification_Metrics.ipynb",
      "provenance": [],
      "collapsed_sections": [],
      "authorship_tag": "ABX9TyMNAGk7KI6y/wToSl8OykxD",
      "include_colab_link": true
    },
    "kernelspec": {
      "name": "python3",
      "display_name": "Python 3"
    },
    "language_info": {
      "name": "python"
    }
  },
  "cells": [
    {
      "cell_type": "markdown",
      "metadata": {
        "id": "view-in-github",
        "colab_type": "text"
      },
      "source": [
        "<a href=\"https://colab.research.google.com/github/EddyGiusepe/Perceptron_with_Python/blob/main/The_Perceptron_Classification_Metrics.ipynb\" target=\"_parent\"><img src=\"https://colab.research.google.com/assets/colab-badge.svg\" alt=\"Open In Colab\"/></a>"
      ]
    },
    {
      "cell_type": "markdown",
      "source": [
        "<h2 align=\"center\">O Perceptron: Métricas para Classificação Binâria</h2>\n",
        "\n",
        "\n",
        "\n",
        "Data Scientist.: Dr.Eddy Giusepe Chirinos Isidro"
      ],
      "metadata": {
        "id": "Dbjp5dKYfl8q"
      }
    },
    {
      "cell_type": "markdown",
      "source": [
        "# Nosso Dataset: MNIST"
      ],
      "metadata": {
        "id": "rsuIJly3gmur"
      }
    },
    {
      "cell_type": "markdown",
      "source": [
        "Este Dataset, [MNIST](http://yann.lecun.com/exdb/mnist/), foi elaborado com o objetivo de treinar modelos automáticos de OCR (Optical Character Recognition) para poder acelerar o trabalho de classificação de correio a partir do código postal escrito. Está formado por $70000$ imagens de dígitos manuscritos, entre $0$ e $9$, nosso objetivo é identificar (classificar) uma imagem (dizer que número é) diretamente a partir de seus pixeis. Para descarregar estes Dados vamos a utilizar [Scikit-Learn](https://scikit-learn.org/stable/)."
      ],
      "metadata": {
        "id": "hFepp6DZhCkG"
      }
    },
    {
      "cell_type": "code",
      "execution_count": 1,
      "metadata": {
        "id": "4JwlBcbPfkfy"
      },
      "outputs": [],
      "source": [
        "# As nossas bibliotecas\n",
        "\n",
        "from sklearn.datasets import fetch_openml\n",
        "\n",
        "\n",
        "import matplotlib as mpl\n",
        "import matplotlib.pyplot as plt\n",
        "%matplotlib inline \n",
        "\n",
        "import random"
      ]
    },
    {
      "cell_type": "code",
      "source": [
        "\n",
        "mnist = fetch_openml('mnist_784', version=1)\n",
        "mnist.keys()"
      ],
      "metadata": {
        "colab": {
          "base_uri": "https://localhost:8080/"
        },
        "id": "lA2Wmj9fjCwv",
        "outputId": "cf5c2870-6bce-4c37-fac8-7464cc75dc83"
      },
      "execution_count": 2,
      "outputs": [
        {
          "output_type": "execute_result",
          "data": {
            "text/plain": [
              "dict_keys(['data', 'target', 'frame', 'categories', 'feature_names', 'target_names', 'DESCR', 'details', 'url'])"
            ]
          },
          "metadata": {},
          "execution_count": 2
        }
      ]
    },
    {
      "cell_type": "code",
      "source": [
        "X, y = mnist[\"data\"], mnist[\"target\"]\n",
        "\n",
        "X.shape, y.shape"
      ],
      "metadata": {
        "colab": {
          "base_uri": "https://localhost:8080/"
        },
        "id": "2LdWSjbwjHiZ",
        "outputId": "a70f129c-44f7-471d-abae-a8bbb3391a72"
      },
      "execution_count": 3,
      "outputs": [
        {
          "output_type": "execute_result",
          "data": {
            "text/plain": [
              "((70000, 784), (70000,))"
            ]
          },
          "metadata": {},
          "execution_count": 3
        }
      ]
    },
    {
      "cell_type": "markdown",
      "source": [
        "Cada imagem está formada por $784$ características (os pixeis). Podemos visualizar umas quantas imagens com suas respectivas etiquetas (labels), para ter uma ideia do tipo de Dados que temos: "
      ],
      "metadata": {
        "id": "P-JjJRgcmhk7"
      }
    },
    {
      "cell_type": "markdown",
      "source": [
        "Vamos a extrair $60000$ imagens para treinar nosso modelo, $10000$ para avaliação e calcular as diferentes métricas que implementaremos depois."
      ],
      "metadata": {
        "id": "7iEprFanr2KX"
      }
    },
    {
      "cell_type": "code",
      "source": [
        "X_train, X_test, y_train, y_test = X[:60000] / 255., X[60000:] / 255., y[:60000], y[60000:]"
      ],
      "metadata": {
        "id": "36AzV9bYrULf"
      },
      "execution_count": 26,
      "outputs": []
    },
    {
      "cell_type": "code",
      "source": [
        "import numpy as np\n",
        "import warnings\n",
        "warnings.filterwarnings(\"ignore\", category=DeprecationWarning)\n",
        "\n",
        "\n",
        "y_train_5 = (y_train == '5').astype(np.int)\n",
        "y_test_5 = (y_test == '5').astype(np.int)"
      ],
      "metadata": {
        "id": "7YK9luH4sV7X"
      },
      "execution_count": 28,
      "outputs": []
    },
    {
      "cell_type": "code",
      "source": [
        "def bce(y, y_hat):\n",
        "    return - np.mean(y*np.log(y_hat) - (1 - y)*np.log(1 - y_hat))\n",
        "\n",
        "def sigmoid(x):\n",
        "  return 1 / (1 + np.exp(-x))\n",
        "\n",
        "class Perceptron():\n",
        "  def __init__(self, size):\n",
        "    self.w = np.random.normal(loc=0.0, \n",
        "          scale = np.sqrt(2/(size+1)), \n",
        "          size = (size, )) \n",
        "    self.ws = []\n",
        "    self.activation = sigmoid\n",
        "    self.loss = bce\n",
        "    \n",
        "  def __call__(self, w, x):\n",
        "    return self.activation(np.dot(x, w)) \n",
        "\n",
        "  def fit(self, x, y, epochs, lr, verbose=True):\n",
        "    x = np.c_[np.ones(len(x)), x]\n",
        "    for epoch in range(1,epochs+1):\n",
        "        # Batch Gradient Descent\n",
        "        y_hat = self(self.w, x)  \n",
        "        # función de pérdida\n",
        "        l = self.loss(y, y_hat)\n",
        "        # derivadas\n",
        "        dldh = (y_hat - y)\n",
        "        dhdw = x\n",
        "        dldw = np.dot(dldh, dhdw)\n",
        "        # actualizar pesos\n",
        "        self.w = self.w - lr*dldw\n",
        "        # guardar pesos para animación\n",
        "        self.ws.append(self.w.copy())\n",
        "        # print loss\n",
        "        if verbose:\n",
        "            print(f\"Epoch {epoch}/{epochs} Loss {l}\")"
      ],
      "metadata": {
        "id": "Ep8eoAXPtJON"
      },
      "execution_count": 29,
      "outputs": []
    },
    {
      "cell_type": "code",
      "source": [
        "np.random.seed(42)\n",
        "\n",
        "perceptron = Perceptron(X.shape[1] + 1)\n",
        "epochs, lr = 20, 1e-5\n",
        "perceptron.fit(X_train, y_train_5, epochs, lr)"
      ],
      "metadata": {
        "colab": {
          "base_uri": "https://localhost:8080/"
        },
        "id": "pkYeNUCOtUq-",
        "outputId": "c6460329-61af-41fd-d26e-6c2849c6fda9"
      },
      "execution_count": 31,
      "outputs": [
        {
          "output_type": "stream",
          "name": "stdout",
          "text": [
            "Epoch 1/20 Loss -0.5548410142855105\n",
            "Epoch 2/20 Loss 0.7206598224991427\n",
            "Epoch 3/20 Loss 0.5304482677090414\n",
            "Epoch 4/20 Loss 0.3387412138758039\n",
            "Epoch 5/20 Loss 0.14817873671774645\n",
            "Epoch 6/20 Loss 0.02999051884537082\n",
            "Epoch 7/20 Loss 0.07018573941348852\n",
            "Epoch 8/20 Loss 0.03957115693418076\n",
            "Epoch 9/20 Loss 0.053798900444024085\n",
            "Epoch 10/20 Loss 0.0419895655402817\n",
            "Epoch 11/20 Loss 0.04634619050752581\n",
            "Epoch 12/20 Loss 0.041700388831850364\n",
            "Epoch 13/20 Loss 0.04249345232272722\n",
            "Epoch 14/20 Loss 0.04051560447638476\n",
            "Epoch 15/20 Loss 0.040218266715440924\n",
            "Epoch 16/20 Loss 0.039198805829896884\n",
            "Epoch 17/20 Loss 0.03867201099357209\n",
            "Epoch 18/20 Loss 0.03801039413850561\n",
            "Epoch 19/20 Loss 0.037502744090907016\n",
            "Epoch 20/20 Loss 0.03700103180387198\n"
          ]
        }
      ]
    },
    {
      "cell_type": "code",
      "source": [
        "def evaluate(perceptron, x, t = 0.5):\n",
        "    w = perceptron.ws[-1]\n",
        "    x = np.c_[np.ones(len(x)), x]\n",
        "    y = perceptron(w, x)\n",
        "    return (y > t).astype(np.int)"
      ],
      "metadata": {
        "id": "tzZlHVqWtYNB"
      },
      "execution_count": 32,
      "outputs": []
    },
    {
      "cell_type": "code",
      "source": [
        "def accuracy(y_pred, y):\n",
        "    return np.sum(y_pred == y) / len(y)"
      ],
      "metadata": {
        "id": "Ukh6xwRetwwM"
      },
      "execution_count": 33,
      "outputs": []
    },
    {
      "cell_type": "code",
      "source": [
        "y_pred = evaluate(perceptron, X_train)\n",
        "\n",
        "accuracy(y_pred, y_train_5)"
      ],
      "metadata": {
        "colab": {
          "base_uri": "https://localhost:8080/"
        },
        "id": "6WDwW0Fst0Yl",
        "outputId": "53946cf8-07d3-4a53-be2e-7f81a8474691"
      },
      "execution_count": 35,
      "outputs": [
        {
          "output_type": "execute_result",
          "data": {
            "text/plain": [
              "0.9371"
            ]
          },
          "metadata": {},
          "execution_count": 35
        }
      ]
    },
    {
      "cell_type": "code",
      "source": [
        "y_pred = evaluate(perceptron, X_test)\n",
        "\n",
        "accuracy(y_pred, y_test_5)"
      ],
      "metadata": {
        "colab": {
          "base_uri": "https://localhost:8080/"
        },
        "id": "uEBspGUxt1zw",
        "outputId": "080070da-4c93-4f50-df96-70936d19bd61"
      },
      "execution_count": 36,
      "outputs": [
        {
          "output_type": "execute_result",
          "data": {
            "text/plain": [
              "0.9412"
            ]
          },
          "metadata": {},
          "execution_count": 36
        }
      ]
    },
    {
      "cell_type": "code",
      "source": [
        "1 - y_train_5.mean(), 1 - y_test_5.mean()"
      ],
      "metadata": {
        "colab": {
          "base_uri": "https://localhost:8080/"
        },
        "id": "sZZYagEquCMW",
        "outputId": "e9a00ce5-06a5-4473-d0a1-b7f19cc5d68d"
      },
      "execution_count": 37,
      "outputs": [
        {
          "output_type": "execute_result",
          "data": {
            "text/plain": [
              "(0.90965, 0.9108)"
            ]
          },
          "metadata": {},
          "execution_count": 37
        }
      ]
    },
    {
      "cell_type": "code",
      "source": [
        "perceptron = Perceptron(X.shape[1] + 1)\n",
        "epochs, lr = 300, 1e-5\n",
        "perceptron.fit(X_train, y_train_5, epochs, lr, verbose=False)\n",
        "y_pred = evaluate(perceptron, X_test)\n",
        "accuracy(y_pred, y_test_5)"
      ],
      "metadata": {
        "colab": {
          "base_uri": "https://localhost:8080/"
        },
        "id": "1jzWB04CuQ5B",
        "outputId": "6c8ee751-f42f-4ed9-b9bb-b75028575ae0"
      },
      "execution_count": 39,
      "outputs": [
        {
          "output_type": "execute_result",
          "data": {
            "text/plain": [
              "0.9693"
            ]
          },
          "metadata": {},
          "execution_count": 39
        }
      ]
    },
    {
      "cell_type": "code",
      "source": [
        "from sklearn.metrics import accuracy_score\n",
        "\n",
        "accuracy_score(y_test_5, y_pred)"
      ],
      "metadata": {
        "colab": {
          "base_uri": "https://localhost:8080/"
        },
        "id": "VkEUJKV3ukK-",
        "outputId": "7a32a27f-103e-4bd3-f0bd-5e872efccd49"
      },
      "execution_count": 41,
      "outputs": [
        {
          "output_type": "execute_result",
          "data": {
            "text/plain": [
              "0.9693"
            ]
          },
          "metadata": {},
          "execution_count": 41
        }
      ]
    },
    {
      "cell_type": "code",
      "source": [
        "TP = np.sum((y_pred == 1) & (y_test_5 == 1)) \n",
        "TN = np.sum((y_pred == 0) & (y_test_5 == 0)) \n",
        "FP = np.sum((y_pred == 1) & (y_test_5 == 0))\n",
        "FN = np.sum((y_pred == 0) & (y_test_5 == 1))\n",
        "\n",
        "CM = [[TN, FP],\n",
        "      [FN, TP]]\n",
        "CM"
      ],
      "metadata": {
        "colab": {
          "base_uri": "https://localhost:8080/"
        },
        "id": "CB0FFJh_unlr",
        "outputId": "ef9957ce-04e0-4d29-c519-e7c22c079024"
      },
      "execution_count": 42,
      "outputs": [
        {
          "output_type": "execute_result",
          "data": {
            "text/plain": [
              "[[9038, 70], [237, 655]]"
            ]
          },
          "metadata": {},
          "execution_count": 42
        }
      ]
    },
    {
      "cell_type": "code",
      "source": [
        "from sklearn.metrics import confusion_matrix\n",
        "\n",
        "confusion_matrix(y_test_5, y_pred)"
      ],
      "metadata": {
        "colab": {
          "base_uri": "https://localhost:8080/"
        },
        "id": "2oa0LWzxurKE",
        "outputId": "28015ade-9dc0-405e-8e3e-eea10b4f429f"
      },
      "execution_count": 43,
      "outputs": [
        {
          "output_type": "execute_result",
          "data": {
            "text/plain": [
              "array([[9038,   70],\n",
              "       [ 237,  655]])"
            ]
          },
          "metadata": {},
          "execution_count": 43
        }
      ]
    },
    {
      "cell_type": "code",
      "source": [
        "def evaluate2(perceptron, x):\n",
        "    w = perceptron.ws[-1]\n",
        "    x = np.c_[np.ones(len(x)), x]\n",
        "    y = perceptron(w, x)\n",
        "    return y"
      ],
      "metadata": {
        "id": "2N7CQCCPutb5"
      },
      "execution_count": 44,
      "outputs": []
    },
    {
      "cell_type": "code",
      "source": [
        "from sklearn.metrics import roc_curve\n",
        "\n",
        "y_pred2 = evaluate2(perceptron, X_test)\n",
        "fpr, tpr, thresholds = roc_curve(y_test_5, y_pred2)"
      ],
      "metadata": {
        "id": "pB-xhPE0u4PB"
      },
      "execution_count": 45,
      "outputs": []
    },
    {
      "cell_type": "code",
      "source": [
        "def plot_roc_curve(fpr, tpr, label=None):\n",
        "    plt.plot(fpr, tpr, linewidth=2, label=label)\n",
        "    plt.plot([0, 1], [0, 1], 'k--') \n",
        "    plt.axis([0, 1, 0, 1])                                    \n",
        "    plt.xlabel('FPR', fontsize=16) \n",
        "    plt.ylabel('TPR', fontsize=16)    \n",
        "    plt.grid(True)                                            \n",
        "\n",
        "plt.figure(figsize=(8, 6))                         \n",
        "plot_roc_curve(fpr, tpr)              \n",
        "plt.show()"
      ],
      "metadata": {
        "colab": {
          "base_uri": "https://localhost:8080/",
          "height": 397
        },
        "id": "84PXFgE7u6KH",
        "outputId": "c9d09085-fac7-4f0c-de89-c7e4bd03c5c6"
      },
      "execution_count": 46,
      "outputs": [
        {
          "output_type": "display_data",
          "data": {
            "text/plain": [
              "<Figure size 576x432 with 1 Axes>"
            ],
            "image/png": "[encoded data removed]"
          },
          "metadata": {
            "needs_background": "light"
          }
        }
      ]
    },
    {
      "cell_type": "code",
      "source": [
        "from sklearn.metrics import roc_auc_score\n",
        "\n",
        "roc_auc_score(y_test_5, y_pred2)"
      ],
      "metadata": {
        "colab": {
          "base_uri": "https://localhost:8080/"
        },
        "id": "cjN5SqbtvKTH",
        "outputId": "cab7b311-6629-4c2f-b61e-34dd8d42712d"
      },
      "execution_count": 47,
      "outputs": [
        {
          "output_type": "execute_result",
          "data": {
            "text/plain": [
              "0.9693789129351619"
            ]
          },
          "metadata": {},
          "execution_count": 47
        }
      ]
    },
    {
      "cell_type": "code",
      "source": [
        ""
      ],
      "metadata": {
        "id": "QB-H6mp3vSuc"
      },
      "execution_count": null,
      "outputs": []
    }
  ]
}